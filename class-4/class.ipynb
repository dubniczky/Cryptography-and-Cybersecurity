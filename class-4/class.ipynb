{
 "cells": [
  {
   "cell_type": "markdown",
   "metadata": {},
   "source": [
    "# Binary operations in Python"
   ]
  },
  {
   "cell_type": "code",
   "execution_count": 9,
   "metadata": {},
   "outputs": [
    {
     "data": {
      "text/plain": [
       "(1, 17)"
      ]
     },
     "execution_count": 9,
     "metadata": {},
     "output_type": "execute_result"
    }
   ],
   "source": [
    "0x01 & 0x01, 0x01 | 0x10"
   ]
  },
  {
   "cell_type": "code",
   "execution_count": 1,
   "metadata": {},
   "outputs": [
    {
     "data": {
      "text/plain": [
       "0"
      ]
     },
     "execution_count": 1,
     "metadata": {},
     "output_type": "execute_result"
    }
   ],
   "source": [
    "0x01 ^ 0x01"
   ]
  },
  {
   "cell_type": "code",
   "execution_count": 3,
   "metadata": {},
   "outputs": [
    {
     "data": {
      "text/plain": [
       "17"
      ]
     },
     "execution_count": 3,
     "metadata": {},
     "output_type": "execute_result"
    }
   ],
   "source": [
    "0x01 ^ 0x10"
   ]
  },
  {
   "cell_type": "code",
   "execution_count": 4,
   "metadata": {},
   "outputs": [
    {
     "data": {
      "text/plain": [
       "'00010001'"
      ]
     },
     "execution_count": 4,
     "metadata": {},
     "output_type": "execute_result"
    }
   ],
   "source": [
    "f'{0x01 ^ 0x10:08b}'"
   ]
  },
  {
   "cell_type": "code",
   "execution_count": 5,
   "metadata": {},
   "outputs": [
    {
     "data": {
      "text/plain": [
       "'00000011'"
      ]
     },
     "execution_count": 5,
     "metadata": {},
     "output_type": "execute_result"
    }
   ],
   "source": [
    "f'{0x01 ^ 0x10:08x}'"
   ]
  },
  {
   "cell_type": "code",
   "execution_count": 2,
   "metadata": {},
   "outputs": [
    {
     "data": {
      "text/plain": [
       "'00010000'"
      ]
     },
     "execution_count": 2,
     "metadata": {},
     "output_type": "execute_result"
    }
   ],
   "source": [
    "f'{0x10:08b}'"
   ]
  },
  {
   "cell_type": "code",
   "execution_count": 1,
   "metadata": {},
   "outputs": [
    {
     "data": {
      "text/plain": [
       "'00001000'"
      ]
     },
     "execution_count": 1,
     "metadata": {},
     "output_type": "execute_result"
    }
   ],
   "source": [
    "f'{0x10 >> 1:08b}'"
   ]
  },
  {
   "cell_type": "code",
   "execution_count": 24,
   "metadata": {},
   "outputs": [
    {
     "data": {
      "text/plain": [
       "('00001000', '00000100', '01000000')"
      ]
     },
     "execution_count": 24,
     "metadata": {},
     "output_type": "execute_result"
    }
   ],
   "source": [
    "# Bitshift\n",
    "f'{0x10 >> 1:08b}', f'{0x10 >> 2:08b}', f'{0x10 << 2:08b}'"
   ]
  },
  {
   "cell_type": "code",
   "execution_count": 61,
   "metadata": {},
   "outputs": [
    {
     "data": {
      "text/plain": [
       "(0, 255, 86)"
      ]
     },
     "execution_count": 61,
     "metadata": {},
     "output_type": "execute_result"
    }
   ],
   "source": [
    "import secrets\n",
    "b = secrets.token_bytes(100)\n",
    "\n",
    "ands = 0x1f\n",
    "ors = 0x1f\n",
    "xors = 0x1f\n",
    "\n",
    "for bb in b:\n",
    "    ands &= bb\n",
    "    ors |= bb\n",
    "    xors ^= bb\n",
    "    \n",
    "ands, ors, xors"
   ]
  },
  {
   "cell_type": "code",
   "execution_count": 23,
   "metadata": {},
   "outputs": [
    {
     "data": {
      "text/plain": [
       "('01010000', '00101000', '00010100', '10000010', '01000001')"
      ]
     },
     "execution_count": 23,
     "metadata": {},
     "output_type": "execute_result"
    }
   ],
   "source": [
    "#bit rotate\n",
    "def bin(n):\n",
    "    return f'{n:08b}'\n",
    "\n",
    "def rotr(n, rotations, width=8):\n",
    "    rotations %= width\n",
    "    return (n >> rotations) | (n << (width - rotations)) & 0xff\n",
    "\n",
    "def rotl(n, rotations, width=8):\n",
    "    rotations %= width\n",
    "    return (n << rotations) & 0xff | (n >> (width - rotations))\n",
    "\n",
    "bin(0x50), bin(rotr(0x50, 1)), bin(rotr(0x50, 2)), bin(rotr(0x50, 5)), bin(rotl(0x50, 2))"
   ]
  },
  {
   "cell_type": "markdown",
   "metadata": {},
   "source": [
    "# Padding"
   ]
  },
  {
   "cell_type": "code",
   "execution_count": null,
   "metadata": {},
   "outputs": [],
   "source": [
    "# Padding scheme: Zero Padding\n",
    "\n",
    "def pad(data: bytes, block_size: int, b: bytes = b'\\x00') -> bytes:\n",
    "    if len(data) > 0 and len(data) % block_size == 0:\n",
    "        # If the data is already a multiple of the block size, we don't need to pad it, except if the data is empty\n",
    "        return data\n",
    "    padding = block_size - len(data) % block_size\n",
    "    return data + b * padding\n",
    "\n",
    "def unpad(data: bytes, b: bytes = b'\\x00') -> bytes:\n",
    "    return data.rstrip(b)\n",
    "\n",
    "\n",
    "assert pad(b'hello', 8) == b'hello\\x00\\x00\\x00'\n",
    "assert pad(b'welcome stranger', 8) == b'welcome stranger'\n",
    "assert pad(b'welcome stranger!', 8) == b'welcome stranger!\\x00\\x00\\x00\\x00\\x00\\x00\\x00'\n",
    "assert pad(b'', 4) == b'\\x00\\x00\\x00\\x00'\n",
    "assert unpad(b'\\x00\\x00') == b''\n",
    "assert unpad(pad(b'hello', 8)) == b'hello'"
   ]
  },
  {
   "cell_type": "code",
   "execution_count": 3,
   "metadata": {},
   "outputs": [],
   "source": [
    "# Padding scheme: ANSI X.923\n",
    "\n",
    "def pad(data: bytes, block_size: int) -> bytes | None:\n",
    "    if block_size < 1 or block_size > 256:\n",
    "        return None # Invalid block size\n",
    "    pad_len = block_size - (len(data) % block_size)\n",
    "    if pad_len == 0:\n",
    "        pad_len = block_size\n",
    "    return data + b'\\x00' * (pad_len - 1) + bytes([pad_len])\n",
    "\n",
    "def unpad(data: bytes) -> bytes | None:\n",
    "    pad_len = data[-1]\n",
    "    if pad_len < 1 or pad_len > len(data):\n",
    "        return None # Invalid padding\n",
    "    return data[:-pad_len]\n",
    "\n",
    "\n",
    "assert pad(b'hello', 8) == b'hello\\x00\\x00\\x03'\n",
    "assert pad(b'123', 4) == b'123\\x01'\n",
    "assert pad(b'1234', 4) == b'1234\\x00\\x00\\x00\\x04'\n",
    "assert pad(b'welcome stranger', 8) == b'welcome stranger\\x00\\x00\\x00\\x00\\x00\\x00\\x00\\x08'\n",
    "assert pad(b'welcome stranger!', 8) == b'welcome stranger!\\x00\\x00\\x00\\x00\\x00\\x00\\x07'\n",
    "assert pad(b'', 4) == b'\\x00\\x00\\x00\\x04'\n",
    "assert unpad(b'\\x00\\x00\\x00\\x02') == b'\\x00\\x00'\n",
    "assert unpad(pad(b'hello', 8)) == b'hello'\n",
    "assert unpad(pad(b'this is a long message, taking up multiple blocks', 4)) == b'this is a long message, taking up multiple blocks'"
   ]
  },
  {
   "cell_type": "code",
   "execution_count": 2,
   "metadata": {},
   "outputs": [],
   "source": [
    "# Padding scheme: ISO 7816-4\n",
    "\n",
    "def pad(data: bytes, block_size: int) -> bytes | None:\n",
    "    if block_size < 1:\n",
    "        return None # Invalid block size\n",
    "    pad_len = block_size - (len(data) % block_size)\n",
    "    if pad_len == 0:\n",
    "        pad_len = block_size\n",
    "    return data + b'\\x80' + b'\\x00' * (pad_len - 1)\n",
    "\n",
    "def unpad(data: bytes) -> bytes | None:\n",
    "    # Find the last occurrence of 0x80 and remove it and any trailing zeros.\n",
    "    index = data.rfind(b'\\x80')\n",
    "    if index == -1:\n",
    "        return None\n",
    "    return data[:index]\n",
    "\n",
    "\n",
    "assert pad(b'hello', 8) == b'hello\\x80\\x00\\x00'\n",
    "assert pad(b'123', 4) == b'123\\x80'\n",
    "assert pad(b'1234', 4) == b'1234\\x80\\x00\\x00\\x00'\n",
    "assert pad(b'welcome stranger', 8) == b'welcome stranger\\x80\\x00\\x00\\x00\\x00\\x00\\x00\\x00'\n",
    "assert pad(b'welcome stranger!', 8) == b'welcome stranger!\\x80\\x00\\x00\\x00\\x00\\x00\\x00'\n",
    "assert pad(b'', 4) == b'\\x80\\x00\\x00\\x00'\n",
    "assert unpad(b'\\x00\\x00\\x80\\x00') == b'\\x00\\x00'\n",
    "assert unpad(pad(b'hello', 8)) == b'hello'\n",
    "assert unpad(pad(b'this is a long message, taking up multiple blocks', 4)) == b'this is a long message, taking up multiple blocks'"
   ]
  }
 ],
 "metadata": {
  "kernelspec": {
   "display_name": ".venv",
   "language": "python",
   "name": "python3"
  },
  "language_info": {
   "codemirror_mode": {
    "name": "ipython",
    "version": 3
   },
   "file_extension": ".py",
   "mimetype": "text/x-python",
   "name": "python",
   "nbconvert_exporter": "python",
   "pygments_lexer": "ipython3",
   "version": "3.13.1"
  }
 },
 "nbformat": 4,
 "nbformat_minor": 2
}

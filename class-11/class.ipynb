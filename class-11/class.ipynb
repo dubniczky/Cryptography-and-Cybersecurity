{
 "cells": [
  {
   "cell_type": "markdown",
   "id": "2d2acaff",
   "metadata": {},
   "source": [
    "# RSA\n",
    "\n",
    "## Key generation\n",
    "\n",
    "Prime factorization problem: given $n = p*q$ composite number, it's computationally infeasible to calculate $p$ and $q$.\n",
    "\n",
    "### Step 1: choosing 2 random primes\n",
    "\n",
    "$p,q$: random primes (1024+ bits)\n",
    "\n",
    "### Step 2: computing the modulus $n$\n",
    "\n",
    "$n=p*q$\n",
    "\n",
    "### Step 3: calculate euler's totient\n",
    "$\\phi = (p - 1) * (q - 1)$\n",
    "\n",
    "### Step 4: choose public exponent\n",
    "\n",
    "It must be coprime with $\\phi$ (meaning that $gcd(\\phi(n),e)=1$), but it's usually a prime like: $e=65537$\n",
    "\n",
    "$e=17$\n",
    "\n",
    "### Step 5: calculate private exponent\n",
    "\n",
    "$d=e^{-1}\\: mod\\:\\phi(n)$ (d is the modular inverse of: $d \\equiv e \\: mod \\: \\phi(n) \\rightarrow e*d \\equiv 1 \\: mod \\: \\phi(n) $)\n",
    "\n",
    "## Keys\n",
    "\n",
    "Public key: ($e$, $n$)\n",
    "\n",
    "Private key: ($d$, $n$)\n",
    "\n",
    "## Usage\n",
    "\n",
    "Encryption: $c=m^e \\space mod \\space (n)$\n",
    "\n",
    "Decryption: $m=c^d \\space mod \\space (n)$\n",
    "\n",
    "This works because $m=(m^e)^d \\space mod \\space (n)$ <=> $m=m^{ed} \\space mod \\space (n)$\n",
    "\n",
    "Some restrictions: the message should be padded and should not be a 0. This is still not good for encrypting data that is not sufficiently random. So encrypting some text is not recommended."
   ]
  },
  {
   "cell_type": "code",
   "execution_count": null,
   "id": "ae135e8f",
   "metadata": {},
   "outputs": [
    {
     "data": {
      "text/plain": [
       "((17, 3233), (2753, 3233), 12)"
      ]
     },
     "execution_count": 13,
     "metadata": {},
     "output_type": "execute_result"
    }
   ],
   "source": [
    "from math import gcd\n",
    "\n",
    "# Step 1: Choose two small primes\n",
    "p = 61\n",
    "q = 53\n",
    "\n",
    "# Step 2: Compute their product\n",
    "n = p * q  # n = 3233\n",
    "\n",
    "# Step 3: Compute Euler's totient\n",
    "phi = (p - 1) * (q - 1) # phi = 3120\n",
    "\n",
    "# Step 4: Choose public exponent e\n",
    "e = 17\n",
    "assert gcd(e, phi) == 1\n",
    "\n",
    "# Step 5: Compute private exponent d = e⁻¹ mod phi\n",
    "d = pow(e, -1, phi) # d = 2753\n",
    "\n",
    "# Final keys\n",
    "(e, n), (d, n), n.bit_length()"
   ]
  },
  {
   "cell_type": "code",
   "execution_count": 5,
   "id": "060e7d1c",
   "metadata": {},
   "outputs": [
    {
     "name": "stdout",
     "output_type": "stream",
     "text": [
      "m 2455\n",
      "c 2604\n",
      "m1 2455\n"
     ]
    }
   ],
   "source": [
    "m = 2455\n",
    "print('m', m)\n",
    "# Encrypt the message\n",
    "c = pow(m, e, n) # c = 2604\n",
    "print('c', c)\n",
    "# Decrypt the message\n",
    "m1 = pow(c, d, n) # m1 = 2455\n",
    "print('m1', m1)"
   ]
  },
  {
   "cell_type": "code",
   "execution_count": 14,
   "id": "6533c148",
   "metadata": {},
   "outputs": [
    {
     "name": "stdout",
     "output_type": "stream",
     "text": [
      "pk (65537, 101288305646811795148587034543089703939703161282351330972146567248817981897752905308681936277836951124439280788225987460131837011016498511046238563608858842677624381152861314950795645912244994236837428811024917232740818208290986605809719776447430196109225253978679700463692513383417708128462521791359286285169)\n",
      "sk (74801298579429086979820008313639601766600444068305263709369084765484253259522756061993942870607909996974789063725064728060801982028281908481116014466715872179037779254257779447367201388254602854569982432982406903902444190076588240112814143531127078246979568808056205496679600324249884317563803892846332672513, 101288305646811795148587034543089703939703161282351330972146567248817981897752905308681936277836951124439280788225987460131837011016498511046238563608858842677624381152861314950795645912244994236837428811024917232740818208290986605809719776447430196109225253978679700463692513383417708128462521791359286285169)\n"
     ]
    }
   ],
   "source": [
    "# Now with big numbers\n",
    "from sympy import nextprime\n",
    "from random import randrange\n",
    "\n",
    "def generate_keypair(bits):\n",
    "    # Step 1: Choose two large primes\n",
    "    p = nextprime(randrange(2**(bits-1), 2**bits))\n",
    "    q = nextprime(randrange(2**(bits-1), 2**bits))\n",
    "\n",
    "    # Step 2: Compute modulus\n",
    "    n = p * q\n",
    "\n",
    "    # Step 3: Compute Euler's totient\n",
    "    phi = (p - 1) * (q - 1)\n",
    "\n",
    "    # Step 4: Choose public exponent e\n",
    "    e = 65537\n",
    "    assert gcd(e, phi) == 1\n",
    "\n",
    "    # Step 5: Compute private exponent d = e⁻¹ mod phi\n",
    "    d = pow(e, -1, phi)\n",
    "\n",
    "    return (e, n), (d, n)\n",
    "\n",
    "pk, sk = generate_keypair(512)\n",
    "print('pk', pk)\n",
    "print('sk', sk)"
   ]
  },
  {
   "cell_type": "code",
   "execution_count": 7,
   "id": "bb3720e0",
   "metadata": {},
   "outputs": [
    {
     "data": {
      "text/plain": [
       "True"
      ]
     },
     "execution_count": 7,
     "metadata": {},
     "output_type": "execute_result"
    }
   ],
   "source": [
    "# Digital signature example\n",
    "from hashlib import sha256\n",
    "\n",
    "def sign(message: bytes, sk: tuple[int, int]):\n",
    "    #  Hash the message\n",
    "    h = sha256(message).hexdigest()\n",
    "    # Convert hash to integer\n",
    "    m = int(h, 16)\n",
    "    # Sign the hash with private key\n",
    "    s = pow(m, sk[0], sk[1])\n",
    "\n",
    "    return s\n",
    "\n",
    "def verify(message: bytes, signature: int, pk: tuple[int, int]):\n",
    "    # Hash the message\n",
    "    h = sha256(message).hexdigest()\n",
    "    # Convert hash to integer\n",
    "    m = int(h, 16)\n",
    "    # Verify the signature\n",
    "    s = pow(signature, pk[0], pk[1])\n",
    "    return s == m\n",
    "\n",
    "data = b'This is a super secret secret document.'\n",
    "doc = {\n",
    "    'data': data,\n",
    "    'signature': sign(data, sk),\n",
    "    'pk': pk,\n",
    "}\n",
    "\n",
    "verify(doc['data'], doc['signature'], doc['pk'])"
   ]
  },
  {
   "cell_type": "markdown",
   "id": "4126668a",
   "metadata": {},
   "source": [
    "# Certificate chain example\n",
    "\n",
    "`openssl s_client -connect example.com:443 -showcerts`"
   ]
  }
 ],
 "metadata": {
  "kernelspec": {
   "display_name": ".venv",
   "language": "python",
   "name": "python3"
  },
  "language_info": {
   "codemirror_mode": {
    "name": "ipython",
    "version": 3
   },
   "file_extension": ".py",
   "mimetype": "text/x-python",
   "name": "python",
   "nbconvert_exporter": "python",
   "pygments_lexer": "ipython3",
   "version": "3.13.1"
  }
 },
 "nbformat": 4,
 "nbformat_minor": 5
}

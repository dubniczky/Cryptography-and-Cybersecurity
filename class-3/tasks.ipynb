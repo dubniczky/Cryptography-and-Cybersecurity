{
 "cells": [
  {
   "cell_type": "code",
   "execution_count": null,
   "metadata": {},
   "outputs": [],
   "source": [
    "# 1\n",
    "\n",
    "import random\n",
    "import string\n",
    "\n",
    "def random_string(alphabet: str, n: int) -> str:\n",
    "    return ''.join([ alphabet[ random.randint(0, len(alphabet)-1) ] for _ in range(n) ])\n",
    "\n",
    "\n",
    "assert len(random_string(string.ascii_letters, 5)) == 5\n",
    "assert len(random_string(string.ascii_letters, 10)) == 10\n",
    "assert random_string(string.ascii_letters, 0) == ''\n",
    "assert random_string('a', 5) == 'aaaaa'\n",
    "assert all([ i in string.ascii_letters for i in random_string(string.ascii_letters, 1000) ])"
   ]
  },
  {
   "cell_type": "code",
   "execution_count": null,
   "metadata": {},
   "outputs": [],
   "source": [
    "# 2\n",
    "\n",
    "import random\n",
    "\n",
    "def random_password() -> str:\n",
    "    length = random.randint(8, 12)\n",
    "    \n",
    "    password = [\n",
    "        random.choice(string.digits),\n",
    "        random.choice(string.digits),\n",
    "        random.choice(string.punctuation),\n",
    "        random.choice(string.ascii_lowercase),\n",
    "        random.choice(string.ascii_uppercase)\n",
    "    ]\n",
    "    password += [ random.choice(string.ascii_letters + string.punctuation) for _ in range(length-5) ]\n",
    "    random.shuffle(password)\n",
    "    return ''.join(password)\n",
    "\n",
    "assert all([ 8 <= len(random_password()) <= 12 for _ in range(100) ]), 'Password length must be between 8 and 12 characters'\n",
    "assert all([ any([ i in string.ascii_lowercase for i in random_password() ]) for _ in range(100) ]), 'At least one lowercase letter must be in the password'\n",
    "assert all([ any([ i in string.ascii_uppercase for i in random_password() ]) for _ in range(100) ]), 'At least one uppercase letter must be in the password'\n",
    "assert all([ sum([ (1 if c in string.digits else 0) for c in random_password() ]) == 2 for _ in range(100) ]), 'Exactly two digits must be in the password'\n",
    "assert all([ sum([ (1 if c in string.punctuation else 0) for c in random_password() ]) > 0 for _ in range(100) ]), 'At least one punctuation character must be in the password'\n",
    "assert all( [ (any([ random_password()[i] not in string.digits for _ in range(100) ])) for i in range(8) ] ), 'Digits must be randomly distributed in the password'"
   ]
  },
  {
   "cell_type": "code",
   "execution_count": null,
   "metadata": {},
   "outputs": [
    {
     "name": "stdout",
     "output_type": "stream",
     "text": [
      "Seed: 1740430803941\n",
      "Time: time.struct_time(tm_year=2025, tm_mon=2, tm_mday=24, tm_hour=22, tm_min=0, tm_sec=3, tm_wday=0, tm_yday=55, tm_isdst=0)\n",
      "Ms: 941\n"
     ]
    },
    {
     "data": {
      "text/plain": [
       "[3746, 8581, 8835, 9312, 3706, 4029, 4340, 8847, 3517, 9488]"
      ]
     },
     "execution_count": 56,
     "metadata": {},
     "output_type": "execute_result"
    }
   ],
   "source": [
    "# 3\n",
    "import time\n",
    "import os\n",
    "\n",
    "t = time.time() \n",
    "seed = int(t * 1000)\n",
    "random.seed(seed)\n",
    "print(f'Seed: {seed}')\n",
    "print(f'Time: {time.localtime(t)}')\n",
    "print(f'Ms: {int((t - int(t)) * 1000)}')\n",
    "\n",
    "\n",
    "numbers = [ random.randint(0, 8000-1) +2000 for _ in range(5500) ]\n",
    "numbers[:10]"
   ]
  },
  {
   "cell_type": "code",
   "execution_count": 2,
   "metadata": {},
   "outputs": [
    {
     "data": {
      "text/plain": [
       "1577833200.0"
      ]
     },
     "execution_count": 2,
     "metadata": {},
     "output_type": "execute_result"
    }
   ],
   "source": [
    "import datetime\n",
    "\n",
    "date = datetime.datetime(2020, 1, 1, 0, 0, 0).timestamp()\n",
    "date"
   ]
  },
  {
   "cell_type": "code",
   "execution_count": 64,
   "metadata": {},
   "outputs": [
    {
     "data": {
      "text/plain": [
       "[3706, 4029, 4340, 8847]"
      ]
     },
     "execution_count": 64,
     "metadata": {},
     "output_type": "execute_result"
    }
   ],
   "source": [
    "numbers[4:8]"
   ]
  },
  {
   "cell_type": "code",
   "execution_count": 68,
   "metadata": {},
   "outputs": [],
   "source": [
    "import hashlib\n",
    "assert numbers[0] == 3746 and numbers[1] == 8581 and numbers[2] == 8835 and numbers[3] == 9312\n",
    "assert hashlib.sha256(''.join([ str(n) for n in numbers[4:8] ]).encode()).hexdigest() == 'aea75378bfd9e13042aec1f521ca5b0f8752eef57a729a54074bf1b52de4dd30'"
   ]
  },
  {
   "cell_type": "code",
   "execution_count": 67,
   "metadata": {},
   "outputs": [
    {
     "data": {
      "text/plain": [
       "'aea75378bfd9e13042aec1f521ca5b0f8752eef57a729a54074bf1b52de4dd30'"
      ]
     },
     "execution_count": 67,
     "metadata": {},
     "output_type": "execute_result"
    }
   ],
   "source": [
    "import hashlib\n",
    "sha256 = hashlib.sha256(''.join([ str(n) for n in numbers[4:8] ]).encode()).hexdigest()\n",
    "sha256"
   ]
  }
 ],
 "metadata": {
  "kernelspec": {
   "display_name": ".venv",
   "language": "python",
   "name": "python3"
  },
  "language_info": {
   "codemirror_mode": {
    "name": "ipython",
    "version": 3
   },
   "file_extension": ".py",
   "mimetype": "text/x-python",
   "name": "python",
   "nbconvert_exporter": "python",
   "pygments_lexer": "ipython3",
   "version": "3.13.1"
  }
 },
 "nbformat": 4,
 "nbformat_minor": 2
}

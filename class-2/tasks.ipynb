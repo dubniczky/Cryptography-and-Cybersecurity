{
 "cells": [
  {
   "cell_type": "code",
   "execution_count": 1,
   "metadata": {},
   "outputs": [],
   "source": [
    "import string\n",
    "import random"
   ]
  },
  {
   "cell_type": "code",
   "execution_count": 2,
   "metadata": {},
   "outputs": [],
   "source": [
    "def rolling_caesar_encrypt(alphabet, key, message):\n",
    "    result = \"\"\n",
    "    additional = 0\n",
    "    for letter in message:\n",
    "        if letter not in alphabet:\n",
    "            result += letter\n",
    "        else:\n",
    "            letter_index = alphabet.index(letter)\n",
    "            total_shift = (letter_index + key + additional) % len(alphabet)\n",
    "            new_letter = alphabet[total_shift]\n",
    "            result += new_letter\n",
    "        additional += 1\n",
    "    return result\n",
    "\n",
    "def rolling_caesar_decrypt(alphabet, key, message):\n",
    "    result = \"\"\n",
    "    additional = 0\n",
    "    for letter in message:\n",
    "        if letter not in alphabet:\n",
    "            result += letter\n",
    "        else:\n",
    "            letter_index = alphabet.index(letter)\n",
    "            total_shift = (letter_index - key - additional) % len(alphabet)\n",
    "            new_letter = alphabet[total_shift]\n",
    "            result += new_letter\n",
    "        additional += 1\n",
    "    return result"
   ]
  },
  {
   "cell_type": "code",
   "execution_count": 3,
   "metadata": {},
   "outputs": [
    {
     "data": {
      "text/plain": [
       "('hello world', 'bdf', 'yac')"
      ]
     },
     "execution_count": 3,
     "metadata": {},
     "output_type": "execute_result"
    }
   ],
   "source": [
    "alphabet = string.ascii_lowercase\n",
    "key = random.randint(1, len(alphabet)-1)\n",
    "rolling_caesar_decrypt(alphabet, key, rolling_caesar_encrypt(alphabet, key, \"hello world\")), rolling_caesar_encrypt(alphabet, 1, \"abc\"), rolling_caesar_encrypt(alphabet, 1, \"xyz\")"
   ]
  },
  {
   "cell_type": "code",
   "execution_count": 4,
   "metadata": {},
   "outputs": [],
   "source": [
    "assert rolling_caesar_encrypt(string.ascii_lowercase, 1, \"abc\") == \"bdf\"\n",
    "assert rolling_caesar_encrypt(string.ascii_lowercase, 1, \"xyz\") == \"yac\"\n",
    "assert rolling_caesar_decrypt(string.ascii_lowercase, 1, \"bdf\") == \"abc\"\n",
    "assert rolling_caesar_decrypt(string.ascii_lowercase, 1, \"yac\") == \"xyz\"\n",
    "assert rolling_caesar_decrypt(string.ascii_lowercase, 3, rolling_caesar_encrypt(string.ascii_lowercase, 3, \"hello world\")) == \"hello world\"\n",
    "assert rolling_caesar_decrypt(string.ascii_lowercase, 18, rolling_caesar_encrypt(string.ascii_lowercase, 18, \"hello world\")) == \"hello world\""
   ]
  },
  {
   "cell_type": "code",
   "execution_count": 5,
   "metadata": {},
   "outputs": [
    {
     "data": {
      "text/plain": [
       "'tjrjok gr gwq bnlv izg gjstwxx'"
      ]
     },
     "execution_count": 5,
     "metadata": {},
     "output_type": "execute_result"
    }
   ],
   "source": [
    "rolling_caesar_encrypt(string.ascii_lowercase, 17, \"crypto is fun when you succeed\")"
   ]
  },
  {
   "cell_type": "code",
   "execution_count": 6,
   "metadata": {},
   "outputs": [
    {
     "data": {
      "text/plain": [
       "'O cS@\"nrBTAEJusYU0=,y`R7j{H[~:_mv^z6/4)Vp5\\'MowKqZ9XC3+?PQ-2h.gt$e1F\\\\#N>adf*LD]Wk8|il}G%&<;(xIb!'"
      ]
     },
     "execution_count": 6,
     "metadata": {},
     "output_type": "execute_result"
    }
   ],
   "source": [
    "def shuffle_alphabet(alphabet):\n",
    "    alphabet_list = list(alphabet)\n",
    "    random.shuffle(alphabet_list)\n",
    "    return ''.join(alphabet_list)\n",
    "\n",
    "alphabet = string.ascii_lowercase + string.ascii_uppercase + string.digits + string.punctuation + \" \"\n",
    "alphabet = shuffle_alphabet(alphabet)\n",
    "alphabet"
   ]
  },
  {
   "cell_type": "code",
   "execution_count": 7,
   "metadata": {},
   "outputs": [
    {
     "data": {
      "text/plain": [
       "'6!Rf1$-*!80l.FQ(jLl=}\\\\(GlV@VZRzOq-kG'"
      ]
     },
     "execution_count": 7,
     "metadata": {},
     "output_type": "execute_result"
    }
   ],
   "source": [
    "alphabet = 'yFz\\'bD?IYBu$/Rn]27p4NHq.LJo}1Gtf!U0*)`Q>x+#%5<(vwrSV@i^{g-9~8\\\\W=[m jlAs&PhCOkcZ_XT,6:Me\";E3Kda|'\n",
    "key = 53\n",
    "message = \"this was a bit harder, well done! :)\"\n",
    "encrypted = rolling_caesar_encrypt(alphabet, key, message)\n",
    "encrypted"
   ]
  },
  {
   "cell_type": "code",
   "execution_count": 8,
   "metadata": {},
   "outputs": [
    {
     "data": {
      "text/plain": [
       "'this was a bit harder, well done! :)'"
      ]
     },
     "execution_count": 8,
     "metadata": {},
     "output_type": "execute_result"
    }
   ],
   "source": [
    "rolling_caesar_decrypt(alphabet, key, '6!Rf1$-*!80l.FQ(jLl=}\\\\(GlV@VZRzOq-kG')"
   ]
  },
  {
   "cell_type": "code",
   "execution_count": 49,
   "metadata": {},
   "outputs": [],
   "source": [
    "import random\n",
    "\n",
    "def mirror_encrypt(alphabet: str, message: str) -> str:\n",
    "    ciphertext = \"\"\n",
    "    for m in message:\n",
    "        if m not in alphabet:\n",
    "            ciphertext += m\n",
    "        else:\n",
    "            r = random.randint(1, len(alphabet) // 2 - 1)\n",
    "            left = alphabet[ (alphabet.index(m) - r) % len(alphabet) ]\n",
    "            right = alphabet[ (alphabet.index(m) + r) % len(alphabet) ]\n",
    "            ciphertext += left + right\n",
    "    return ciphertext\n",
    "    \n",
    "def mirror_decrypt(alphabet: str, ciphertext: str) -> str:\n",
    "    plaintext = \"\"\n",
    "    i = 0\n",
    "    while i < len(ciphertext):\n",
    "        if ciphertext[i] not in alphabet:\n",
    "            plaintext += ciphertext[i]\n",
    "            i += 1\n",
    "        else:\n",
    "            left = alphabet.index(ciphertext[i])\n",
    "            right = alphabet.index(ciphertext[i+1])\n",
    "            if left < right:\n",
    "                plaintext += alphabet[ (left + right) // 2 % len(alphabet) ]\n",
    "            else:\n",
    "                plaintext += alphabet[ (left + right + len(alphabet)) // 2 % len(alphabet) ]\n",
    "            i += 2\n",
    "    return plaintext"
   ]
  },
  {
   "cell_type": "code",
   "execution_count": 32,
   "metadata": {},
   "outputs": [
    {
     "data": {
      "text/plain": [
       "'wegqemrndf rtaicytnnx vf ayykrtrtsiyosq rvmq uiiuye'"
      ]
     },
     "execution_count": 32,
     "metadata": {},
     "output_type": "execute_result"
    }
   ],
   "source": [
    "mirror_encrypt(string.ascii_lowercase, \"alice sends a message to bob\")"
   ]
  },
  {
   "cell_type": "code",
   "execution_count": 48,
   "metadata": {},
   "outputs": [
    {
     "data": {
      "text/plain": [
       "'alice sends a message to bob'"
      ]
     },
     "execution_count": 48,
     "metadata": {},
     "output_type": "execute_result"
    }
   ],
   "source": [
    "mirror_decrypt(string.ascii_lowercase, mirror_encrypt(string.ascii_lowercase, \"alice sends a message to bob\"))"
   ]
  },
  {
   "cell_type": "code",
   "execution_count": 53,
   "metadata": {},
   "outputs": [
    {
     "data": {
      "text/plain": [
       "'alice sends a message to bob'"
      ]
     },
     "execution_count": 53,
     "metadata": {},
     "output_type": "execute_result"
    }
   ],
   "source": [
    "mirror_decrypt(string.ascii_lowercase, (\"wegqemrndf rtaicytnnx vf ayykrtrtsiyosq rvmq uiiuye\"))"
   ]
  }
 ],
 "metadata": {
  "kernelspec": {
   "display_name": ".venv",
   "language": "python",
   "name": "python3"
  },
  "language_info": {
   "codemirror_mode": {
    "name": "ipython",
    "version": 3
   },
   "file_extension": ".py",
   "mimetype": "text/x-python",
   "name": "python",
   "nbconvert_exporter": "python",
   "pygments_lexer": "ipython3",
   "version": "3.13.1"
  }
 },
 "nbformat": 4,
 "nbformat_minor": 2
}

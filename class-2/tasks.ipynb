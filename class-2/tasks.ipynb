{
 "cells": [
  {
   "cell_type": "code",
   "execution_count": 1,
   "metadata": {},
   "outputs": [],
   "source": [
    "import string\n",
    "import random"
   ]
  },
  {
   "cell_type": "code",
   "execution_count": 2,
   "metadata": {},
   "outputs": [],
   "source": [
    "def rolling_caesar_encrypt(alphabet, key, message):\n",
    "    result = \"\"\n",
    "    additional = 0\n",
    "    for letter in message:\n",
    "        if letter not in alphabet:\n",
    "            result += letter\n",
    "        else:\n",
    "            letter_index = alphabet.index(letter)\n",
    "            total_shift = (letter_index + key + additional) % len(alphabet)\n",
    "            new_letter = alphabet[total_shift]\n",
    "            result += new_letter\n",
    "        additional += 1\n",
    "    return result\n",
    "\n",
    "def rolling_caesar_decrypt(alphabet, key, message):\n",
    "    result = \"\"\n",
    "    additional = 0\n",
    "    for letter in message:\n",
    "        if letter not in alphabet:\n",
    "            result += letter\n",
    "        else:\n",
    "            letter_index = alphabet.index(letter)\n",
    "            total_shift = (letter_index - key - additional) % len(alphabet)\n",
    "            new_letter = alphabet[total_shift]\n",
    "            result += new_letter\n",
    "        additional += 1\n",
    "    return result"
   ]
  },
  {
   "cell_type": "code",
   "execution_count": 3,
   "metadata": {},
   "outputs": [
    {
     "data": {
      "text/plain": [
       "('hello world', 'bdf', 'yac')"
      ]
     },
     "execution_count": 3,
     "metadata": {},
     "output_type": "execute_result"
    }
   ],
   "source": [
    "alphabet = string.ascii_lowercase\n",
    "key = random.randint(1, len(alphabet)-1)\n",
    "rolling_caesar_decrypt(alphabet, key, rolling_caesar_encrypt(alphabet, key, \"hello world\")), rolling_caesar_encrypt(alphabet, 1, \"abc\"), rolling_caesar_encrypt(alphabet, 1, \"xyz\")"
   ]
  },
  {
   "cell_type": "code",
   "execution_count": 4,
   "metadata": {},
   "outputs": [],
   "source": [
    "assert rolling_caesar_encrypt(string.ascii_lowercase, 1, \"abc\") == \"bdf\"\n",
    "assert rolling_caesar_encrypt(string.ascii_lowercase, 1, \"xyz\") == \"yac\"\n",
    "assert rolling_caesar_decrypt(string.ascii_lowercase, 1, \"bdf\") == \"abc\"\n",
    "assert rolling_caesar_decrypt(string.ascii_lowercase, 1, \"yac\") == \"xyz\"\n",
    "assert rolling_caesar_decrypt(string.ascii_lowercase, 3, rolling_caesar_encrypt(string.ascii_lowercase, 3, \"hello world\")) == \"hello world\"\n",
    "assert rolling_caesar_decrypt(string.ascii_lowercase, 18, rolling_caesar_encrypt(string.ascii_lowercase, 18, \"hello world\")) == \"hello world\""
   ]
  },
  {
   "cell_type": "code",
   "execution_count": 5,
   "metadata": {},
   "outputs": [
    {
     "data": {
      "text/plain": [
       "'tjrjok gr gwq bnlv izg gjstwxx'"
      ]
     },
     "execution_count": 5,
     "metadata": {},
     "output_type": "execute_result"
    }
   ],
   "source": [
    "rolling_caesar_encrypt(string.ascii_lowercase, 17, \"crypto is fun when you succeed\")"
   ]
  },
  {
   "cell_type": "code",
   "execution_count": 6,
   "metadata": {},
   "outputs": [
    {
     "data": {
      "text/plain": [
       "'O cS@\"nrBTAEJusYU0=,y`R7j{H[~:_mv^z6/4)Vp5\\'MowKqZ9XC3+?PQ-2h.gt$e1F\\\\#N>adf*LD]Wk8|il}G%&<;(xIb!'"
      ]
     },
     "execution_count": 6,
     "metadata": {},
     "output_type": "execute_result"
    }
   ],
   "source": [
    "def shuffle_alphabet(alphabet):\n",
    "    alphabet_list = list(alphabet)\n",
    "    random.shuffle(alphabet_list)\n",
    "    return ''.join(alphabet_list)\n",
    "\n",
    "alphabet = string.ascii_lowercase + string.ascii_uppercase + string.digits + string.punctuation + \" \"\n",
    "alphabet = shuffle_alphabet(alphabet)\n",
    "alphabet"
   ]
  },
  {
   "cell_type": "code",
   "execution_count": 7,
   "metadata": {},
   "outputs": [
    {
     "data": {
      "text/plain": [
       "'6!Rf1$-*!80l.FQ(jLl=}\\\\(GlV@VZRzOq-kG'"
      ]
     },
     "execution_count": 7,
     "metadata": {},
     "output_type": "execute_result"
    }
   ],
   "source": [
    "alphabet = 'yFz\\'bD?IYBu$/Rn]27p4NHq.LJo}1Gtf!U0*)`Q>x+#%5<(vwrSV@i^{g-9~8\\\\W=[m jlAs&PhCOkcZ_XT,6:Me\";E3Kda|'\n",
    "key = 53\n",
    "message = \"this was a bit harder, well done! :)\"\n",
    "encrypted = rolling_caesar_encrypt(alphabet, key, message)\n",
    "encrypted"
   ]
  },
  {
   "cell_type": "code",
   "execution_count": 8,
   "metadata": {},
   "outputs": [
    {
     "data": {
      "text/plain": [
       "'this was a bit harder, well done! :)'"
      ]
     },
     "execution_count": 8,
     "metadata": {},
     "output_type": "execute_result"
    }
   ],
   "source": [
    "rolling_caesar_decrypt(alphabet, key, '6!Rf1$-*!80l.FQ(jLl=}\\\\(GlV@VZRzOq-kG')"
   ]
  },
  {
   "cell_type": "code",
   "execution_count": null,
   "metadata": {},
   "outputs": [],
   "source": [
    "import random\n",
    "\n",
    "## Mirror encrypt is not uploaded yet, please try to solve it for next class!"
   ]
  }
 ],
 "metadata": {
  "kernelspec": {
   "display_name": ".venv",
   "language": "python",
   "name": "python3"
  },
  "language_info": {
   "codemirror_mode": {
    "name": "ipython",
    "version": 3
   },
   "file_extension": ".py",
   "mimetype": "text/x-python",
   "name": "python",
   "nbconvert_exporter": "python",
   "pygments_lexer": "ipython3",
   "version": "3.13.1"
  }
 },
 "nbformat": 4,
 "nbformat_minor": 2
}

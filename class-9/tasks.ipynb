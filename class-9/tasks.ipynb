{
 "cells": [
  {
   "cell_type": "code",
   "execution_count": 23,
   "metadata": {},
   "outputs": [
    {
     "name": "stdout",
     "output_type": "stream",
     "text": [
      "1dfa621c2eeae2e032298ec141feec9925dd3abe13d20715a0ec2cb099181476\n"
     ]
    }
   ],
   "source": [
    "from Crypto.Util import Counter\n",
    "from Crypto.Cipher import AES\n",
    "\n",
    "ctr = Counter.new(128)\n",
    "aes_key = b'16byt8key1122493'\n",
    "aes_ctr_cipher = AES.new(aes_key, AES.MODE_CTR, counter=ctr)\n",
    "\n",
    "# Encrypt the message\n",
    "aes_message = b'hellohellohello!hellohellohello!'\n",
    "aes_ctr_encrypted_message = aes_ctr_cipher.encrypt(aes_message)\n",
    "print(aes_ctr_encrypted_message.hex())\n",
    "\n",
    "\n",
    "# Decrypt the message for testing\n",
    "ctr = Counter.new(128)\n",
    "aes_ctr_decipher = AES.new(aes_key, AES.MODE_CTR, counter=ctr)\n",
    "aes_ctr_decrypted_message = aes_ctr_decipher.decrypt(aes_ctr_encrypted_message)\n",
    "assert aes_message == aes_ctr_decrypted_message"
   ]
  },
  {
   "cell_type": "code",
   "execution_count": 10,
   "metadata": {},
   "outputs": [
    {
     "data": {
      "text/plain": [
       "('c00b636385e9d112171b401d6c163570debadc4eccae1655926ae43de4c917e0',\n",
       " b'\\xc0\\x0bcc\\x85\\xe9\\xd1\\x12\\x17\\x1b@\\x1dl\\x165p\\xde\\xba\\xdcN\\xcc\\xae\\x16U\\x92j\\xe4=\\xe4\\xc9\\x17\\xe0',\n",
       " '31323334353637383930313233343536')"
      ]
     },
     "execution_count": 10,
     "metadata": {},
     "output_type": "execute_result"
    }
   ],
   "source": [
    "# 0\n",
    "from Crypto.Cipher import AES\n",
    "from Crypto.Util.Padding import pad\n",
    "\n",
    "message = b'we will rock you!'\n",
    "key = b'1234567890123456'\n",
    "cipher = AES.new(key, AES.MODE_ECB)\n",
    "ciphertext = cipher.encrypt(pad(message, AES.block_size))\n",
    "ciphertext_hex = ciphertext.hex()\n",
    "#assert ciphertext_hex == 'c00b636385e9d112171b401d6c163570debadc4eccae1655926ae43de4c917e0'\n",
    "assert ciphertext == b'\\xc0\\x0bcc\\x85\\xe9\\xd1\\x12\\x17\\x1b@\\x1dl\\x165p\\xde\\xba\\xdcN\\xcc\\xae\\x16U\\x92j\\xe4=\\xe4\\xc9\\x17\\xe0'\n",
    "\n",
    "ciphertext_hex, ciphertext, key.hex()"
   ]
  },
  {
   "cell_type": "code",
   "execution_count": null,
   "metadata": {},
   "outputs": [
    {
     "name": "stdout",
     "output_type": "stream",
     "text": [
      "CBC a359179a9cc0dd5b3f7c1deb637f55836010861d972c0618f6ced452ac4ec6baf81b8996947f5cff8b35525a413c8fcb\n",
      "ECB e839a867fb04e3df571cf2b87430588be839a867fb04e3df571cf2b87430588b\n",
      "CTR b782b607cb6996c852e92fc1fb4ef22db8cc9f5a93572e455289767621ed5749\n"
     ]
    }
   ],
   "source": [
    "# 1\n",
    "from Crypto.Util import Counter\n",
    "from Crypto.Cipher import AES\n",
    "from Crypto.Util.Padding import pad\n",
    "from Crypto.Random import get_random_bytes\n",
    "\n",
    "ctr = Counter.new(128)\n",
    "key = b'16byt8key1122493'\n",
    "plaintext = b'hellohellohello!hellohellohello!'\n",
    "\n",
    "# CBC Mode\n",
    "iv_cbc = get_random_bytes(16)\n",
    "cipher_cbc = AES.new(key, AES.MODE_CBC, iv_cbc)\n",
    "ciphertext_cbc = iv_cbc + cipher_cbc.encrypt(plaintext)\n",
    "print('CBC', ciphertext_cbc.hex())\n",
    "\n",
    "# ECB Mode\n",
    "cipher_ecb = AES.new(key, AES.MODE_ECB)\n",
    "ciphertext_ecb = cipher_ecb.encrypt(plaintext)\n",
    "print('ECB', ciphertext_ecb.hex())\n",
    "\n",
    "# CTR Mode\n",
    "cipher_ctr = AES.new(key, AES.MODE_CTR)\n",
    "ciphertext_ctr = cipher_ctr.encrypt(plaintext)\n",
    "print('CTR', ciphertext_ctr.hex())"
   ]
  },
  {
   "cell_type": "code",
   "execution_count": null,
   "metadata": {},
   "outputs": [
    {
     "name": "stdout",
     "output_type": "stream",
     "text": [
      "5e11398c3607cbb61563426798c2aa9029238370137791f338bb36376d07d87c5c22b09743caa14384b0c11f42fc8ad09d9e30db0403bbcb16ba8efe7175cfb707c67f2a4b28626d71dd7d84e5e3535f\n",
      "c15c0d2ac3f417f9ef9bdcdab153c46ccc093f70ab15c004bb9c39c45e705d5332bf3acb54662c183093a2bc4e5cf6c56a3ec84caf8d9765c9cba8845e97180e32d535a693d6a6efefcc6a55ef81c5f5\n"
     ]
    }
   ],
   "source": [
    "# 2\n",
    "from Crypto.Util import Counter\n",
    "from Crypto.Cipher import AES\n",
    "from Crypto.Random import get_random_bytes\n",
    "from Crypto.Util.Padding import pad\n",
    "\n",
    "key = b'16byt8key1122493'\n",
    "message = b'alice sends this message to bob to salute for all the work he has done'\n",
    "\n",
    "iv = get_random_bytes(16)\n",
    "cipher_cbc = AES.new(key, AES.MODE_CBC, iv)\n",
    "ciphertext = cipher_cbc.encrypt(pad(message, 16))\n",
    "print(ciphertext.hex())\n",
    "\n",
    "iv = get_random_bytes(16)\n",
    "cipher_cbc = AES.new(key, AES.MODE_CBC, iv)\n",
    "ciphertext = cipher_cbc.encrypt(pad(message, 16))\n",
    "print(ciphertext.hex())"
   ]
  },
  {
   "cell_type": "code",
   "execution_count": null,
   "metadata": {},
   "outputs": [
    {
     "name": "stdout",
     "output_type": "stream",
     "text": [
      "key eaaff985724355286b8176e6b4b4b35ca3051e4c8c6186c3e3619ab7dc3850b2\n",
      "iv 29c793116cc51ab2337240ae6dccd861\n",
      "cipher 07a0bf2dfc426dee1933d85066f3991078c31229c10b1b85db8f8e317a4c78a9\n"
     ]
    }
   ],
   "source": [
    "# 3\n",
    "from Crypto.Util import Counter\n",
    "from Crypto.Cipher import AES\n",
    "from Crypto.Random import get_random_bytes\n",
    "from Crypto.Util.Padding import pad\n",
    "\n",
    "key = get_random_bytes(32)\n",
    "print('key', key.hex())\n",
    "message = b'the most secret message ever'\n",
    "\n",
    "iv = get_random_bytes(16)\n",
    "print('iv', iv.hex())\n",
    "cipher_cbc = AES.new(key, AES.MODE_CBC, iv)\n",
    "ciphertext = cipher_cbc.encrypt(pad(message, 32))\n",
    "print('cipher', ciphertext.hex())"
   ]
  },
  {
   "cell_type": "code",
   "execution_count": null,
   "metadata": {},
   "outputs": [
    {
     "data": {
      "text/plain": [
       "'the most secret message ever'"
      ]
     },
     "execution_count": 37,
     "metadata": {},
     "output_type": "execute_result"
    }
   ],
   "source": [
    "from Crypto.Cipher import AES\n",
    "from Crypto.Util.Padding import unpad\n",
    "\n",
    "key = bytes.fromhex('eaaff985724355286b8176e6b4b4b35ca3051e4c8c6186c3e3619ab7dc3850b2')\n",
    "iv = bytes.fromhex('29c793116cc51ab2337240ae6dccd861')\n",
    "ciphertext = bytes.fromhex('07a0bf2dfc426dee1933d85066f3991078c31229c10b1b85db8f8e317a4c78a9')\n",
    "\n",
    "cipher_cbc = AES.new(key, AES.MODE_CBC, iv)\n",
    "message = cipher_cbc.decrypt(ciphertext)\n",
    "unpad(message, 16).decode('utf-8')"
   ]
  },
  {
   "cell_type": "code",
   "execution_count": 57,
   "metadata": {},
   "outputs": [
    {
     "name": "stdout",
     "output_type": "stream",
     "text": [
      "message b'asdasdasdas'\n",
      "cipher 83a4da443855a899b54eb1\n",
      "message b'asdasdasdas'\n"
     ]
    }
   ],
   "source": [
    "# 4\n",
    "from Crypto.Cipher import AES\n",
    "from Crypto.Util.Padding import unpad\n",
    "from Crypto.Random import get_random_bytes\n",
    "\n",
    "key = bytes.fromhex('eaaff985724355286b8176e6b4b4b35ca3051e4c8c6186c3e3619ab7dc3850b2')\n",
    "iv = bytes.fromhex('29c793116cc51ab2337240ae6dccd861')\n",
    "message = b'asdasdasdas'\n",
    "print('message', message)\n",
    "\n",
    "cipher = AES.new(key, AES.MODE_GCM, nonce=iv, mac_len=16)\n",
    "ciphertext, tag = cipher.encrypt_and_digest(message)\n",
    "print('cipher', ciphertext.hex())\n",
    "\n",
    "#ciphertext = ciphertext.replace(b'\\x83', b'\\x00')\n",
    "#print('cipher', ciphertext.hex())\n",
    "\n",
    "cipher = AES.new(key, AES.MODE_GCM, nonce=iv, mac_len=16)\n",
    "print('message', cipher.decrypt_and_verify(ciphertext, tag))"
   ]
  },
  {
   "cell_type": "code",
   "execution_count": 58,
   "metadata": {},
   "outputs": [],
   "source": [
    "from Crypto.Random import get_random_bytes\n",
    "\n",
    "def aes_gcm_encrypt(key: bytes, message: bytes) -> bytes:\n",
    "    nonce = get_random_bytes(16)\n",
    "    cipher = AES.new(key, AES.MODE_GCM, nonce)\n",
    "    ciphertext, tag = cipher.encrypt_and_digest(message)\n",
    "    return nonce + tag + ciphertext\n",
    "\n",
    "def aes_gcm_decrypt(key: bytes, ciphertext: bytes) -> bytes:\n",
    "    nonce = ciphertext[:16]\n",
    "    tag = ciphertext[16:32]\n",
    "    cipher = AES.new(key, AES.MODE_GCM, nonce)\n",
    "    try:\n",
    "        return cipher.decrypt_and_verify(ciphertext[32:], tag)\n",
    "    except ValueError:\n",
    "        return None"
   ]
  },
  {
   "cell_type": "code",
   "execution_count": 60,
   "metadata": {},
   "outputs": [],
   "source": [
    "key = get_random_bytes(32)\n",
    "message = b'1299 661'\n",
    "assert aes_gcm_decrypt(key, aes_gcm_encrypt(key, message)) == message\n",
    "assert aes_gcm_decrypt(key, aes_gcm_encrypt(key, message) + b'\\x12') == None"
   ]
  },
  {
   "cell_type": "code",
   "execution_count": 71,
   "metadata": {},
   "outputs": [
    {
     "name": "stdout",
     "output_type": "stream",
     "text": [
      "c1 d863d9f029fe502ee781e303d36e4114331093470f720aefd215cb107f69d94b37eab41e58d1e4abe9698a35\n",
      "c2 d863d9f029fe502ee781e303d34e6134133093470f720aefd215cb107f69d94b37c7bf3f7dd099a8e86e8a35\n"
     ]
    }
   ],
   "source": [
    "# 5\n",
    "key = b'16vyf8ka9y122493'\n",
    "nonce = b'1234567890123456'\n",
    "message1 = b'{\"username\":\"admin\", \"password\":\"admin1234\"}'\n",
    "message2 = b'{\"username\":\"ADMIN\", \"password\":\"LoLLoL123\"}'\n",
    "\n",
    "ctr = Counter.new(128)\n",
    "cipher = AES.new(key, AES.MODE_CTR, counter=ctr)\n",
    "ciphertext1 = cipher.encrypt(message1)\n",
    "print('c1', ciphertext1.hex())\n",
    "\n",
    "ctr = Counter.new(128)\n",
    "cipher = AES.new(key, AES.MODE_CTR, counter=ctr)\n",
    "ciphertext2 = cipher.encrypt(message2)\n",
    "print('c2', ciphertext2.hex())"
   ]
  },
  {
   "cell_type": "code",
   "execution_count": null,
   "metadata": {},
   "outputs": [
    {
     "name": "stdout",
     "output_type": "stream",
     "text": [
      "m1 XOR m2 0000000000000000000000000020202020200000000000000000000000000000002d0b2125017d0301070000\n",
      "m2 b'{\"username\":\"ADMIN\", \"password\":\"LoLLoL123\"}'\n"
     ]
    }
   ],
   "source": [
    "c1 = bytes.fromhex('d863d9f029fe502ee781e303d36e4114331093470f720aefd215cb107f69d94b37eab41e58d1e4abe9698a35')\n",
    "c2 = bytes.fromhex('d863d9f029fe502ee781e303d34e6134133093470f720aefd215cb107f69d94b37c7bf3f7dd099a8e86e8a35')\n",
    "# XOR together\n",
    "m1_x_m2 = bytes(a ^ b for a, b in zip(c1, c2))\n",
    "print('m1 XOR m2', m1_x_m2.hex())\n",
    "\n",
    "m1 = b'{\"username\":\"admin\", \"password\":\"admin1234\"}'\n",
    "m2 = bytes(a ^ b for a, b in zip(m1, m1_x_m2))\n",
    "print('m2', m2)"
   ]
  },
  {
   "cell_type": "code",
   "execution_count": 74,
   "metadata": {},
   "outputs": [],
   "source": [
    "import hashlib\n",
    "assert hashlib.sha256(m2).hexdigest() == '42c6e1d9c3c2b7c8c1dc27ff444ccf4b43d05302b5c754c68d4fb556f0eaf9e7'"
   ]
  }
 ],
 "metadata": {
  "kernelspec": {
   "display_name": ".venv",
   "language": "python",
   "name": "python3"
  },
  "language_info": {
   "codemirror_mode": {
    "name": "ipython",
    "version": 3
   },
   "file_extension": ".py",
   "mimetype": "text/x-python",
   "name": "python",
   "nbconvert_exporter": "python",
   "pygments_lexer": "ipython3",
   "version": "3.13.1"
  }
 },
 "nbformat": 4,
 "nbformat_minor": 2
}

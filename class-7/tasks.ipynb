{
 "cells": [
  {
   "cell_type": "markdown",
   "metadata": {},
   "source": [
    "## Task 1\n",
    "\n",
    "Implement a Vignere cipher, that uses the key in reverse to encrypt. If the key contains any letters missing from the alphabet, return an error. If the key or the alphabet are less than 3 characters also return an error. In case of an error, return None. If a character in the text is not in the alphabet, then return it unencrypted.\n",
    "\n",
    "```python\n",
    "def revigenere_encrypt(alphabet: str, text: str, key: str) -> str | None:\n",
    "def revigenere_decrypt(alphabet: str, ciphertext: str, key: str) -> str | None:\n",
    "```\n",
    "\n",
    "Tests:\n",
    "\n",
    "```python\n",
    "import string\n",
    "assert revigenere_encrypt(string.ascii_letters, 'HELLO', 'KEY') == 'FivJs'\n",
    "assert revigenere_encrypt(string.ascii_letters, 'secretmessage', 'A') == None\n",
    "assert revigenere_encrypt(string.ascii_letters, 'secret!message!', 'A!') == None\n",
    "assert revigenere_encrypt('12', 'A', '11111') == None\n",
    "assert revigenere_encrypt(string.ascii_letters, 'secretmessage', 'AAA') == revigenere_encrypt(string.ascii_letters, 'secretmessage', 'AAAAAA')\n",
    "assert revigenere_encrypt(string.ascii_letters, 'secretmessage', 'ABA') == revigenere_encrypt(string.ascii_letters, 'secretmessage', 'ABAABA')\n",
    "assert revigenere_encrypt(string.ascii_lowercase, 'super secret', 'mykey').count(' ') == 1\n",
    "assert revigenere_decrypt(string.ascii_letters, revigenere_encrypt(string.ascii_letters, 'super secret', 'bestkey'), 'bestkey') == 'super secret'\n",
    "assert revigenere_decrypt(string.ascii_letters + ' ', revigenere_encrypt(string.ascii_letters + ' ', 'short key also works', 'key'), 'key') == 'short key also works'\n",
    "```"
   ]
  },
  {
   "cell_type": "code",
   "execution_count": 25,
   "metadata": {},
   "outputs": [],
   "source": [
    "import string\n",
    "\n",
    "def revigenere_encrypt(alphabet: str, text: str, key: str) -> str | None:\n",
    "    # Validate lengths\n",
    "    if len(alphabet) < 3 or len(key) < 3:\n",
    "        return None\n",
    "    \n",
    "    # Validate key contents\n",
    "    for char in key:\n",
    "        if char not in alphabet:\n",
    "            return None\n",
    "    \n",
    "    # Encrypt\n",
    "    ciphertext = ''\n",
    "    key = key[::-1] # reverse key\n",
    "    for i in range(len(text)):\n",
    "        c = text[i]\n",
    "        if c not in alphabet:\n",
    "            ciphertext += c\n",
    "            continue\n",
    "        char_id = alphabet.index(c)\n",
    "        key_id = alphabet.index(key[i % len(key)])\n",
    "        ciphertext += alphabet[(char_id + key_id) % len(alphabet)]\n",
    "    return ciphertext\n",
    "\n",
    "def revigenere_decrypt(alphabet: str, ciphertext: str, key: str) -> str | None:\n",
    "    # Validate lengths\n",
    "    if len(alphabet) < 3 or len(key) < 3:\n",
    "        return None\n",
    "    \n",
    "    # Validate key contents\n",
    "    for char in key:\n",
    "        if char not in alphabet:\n",
    "            return None\n",
    "    \n",
    "    # Encrypt\n",
    "    text = ''\n",
    "    key = key[::-1] # reverse key\n",
    "    for i in range(len(ciphertext)):\n",
    "        c = ciphertext[i]\n",
    "        if c not in alphabet:\n",
    "            text += c\n",
    "            continue\n",
    "        char_id = alphabet.index(c)\n",
    "        key_id = alphabet.index(key[i % len(key)])\n",
    "        text += alphabet[(char_id - key_id) % len(alphabet)]\n",
    "    return text\n",
    "\n",
    "assert revigenere_encrypt(string.ascii_letters, 'HELLO', 'KEY') == 'FivJs'\n",
    "assert revigenere_encrypt(string.ascii_letters, 'secretmessage', 'A') == None\n",
    "assert revigenere_encrypt(string.ascii_letters, 'secret!message!', 'A!') == None\n",
    "assert revigenere_encrypt('12', 'A', '11111') == None\n",
    "assert revigenere_encrypt(string.ascii_letters, 'secretmessage', 'AAA') == revigenere_encrypt(string.ascii_letters, 'secretmessage', 'AAAAAA')\n",
    "assert revigenere_encrypt(string.ascii_letters, 'secretmessage', 'ABA') == revigenere_encrypt(string.ascii_letters, 'secretmessage', 'ABAABA')\n",
    "assert revigenere_encrypt(string.ascii_lowercase, 'super secret', 'mykey').count(' ') == 1\n",
    "assert revigenere_decrypt(string.ascii_letters, revigenere_encrypt(string.ascii_letters, 'super secret', 'bestkey'), 'bestkey') == 'super secret'\n",
    "assert revigenere_decrypt(string.ascii_letters + ' ', revigenere_encrypt(string.ascii_letters + ' ', 'short key also works', 'key'), 'key') == 'short key also works'"
   ]
  },
  {
   "cell_type": "markdown",
   "metadata": {},
   "source": [
    "## Task 2\n",
    "\n",
    "I generated a random string with the following code\n",
    "\n",
    "```python\n",
    "import random\n",
    "\n",
    "def gen_randomstr(a: int, b: int) -> str:\n",
    "    random.seed(b)\n",
    "    s = ''\n",
    "    for _ in range(a):\n",
    "        s += chr(ord('a') + random.randint(0, 25))\n",
    "    return s\n",
    "\n",
    "gen_randomstr(?, ?)\n",
    "```\n",
    "\n",
    "What two parameters did I use, if the result was: `fxbyscbqxmgz`.\n",
    "\n",
    "Test\n",
    "\n",
    "```python\n",
    "a = 12\n",
    "b = 18664\n",
    "assert gen_randomstr(a, b) == 'fxbyscbqxmgz'\n",
    "```"
   ]
  },
  {
   "cell_type": "code",
   "execution_count": 1,
   "metadata": {},
   "outputs": [
    {
     "data": {
      "text/plain": [
       "'wkwusizbyqsz'"
      ]
     },
     "execution_count": 1,
     "metadata": {},
     "output_type": "execute_result"
    }
   ],
   "source": [
    "import random\n",
    "\n",
    "def gen_randomstr(a: int, b: int) -> str:\n",
    "    random.seed(b)\n",
    "    s = ''\n",
    "    for _ in range(a):\n",
    "        s += chr(ord('a') + random.randint(0, 25))\n",
    "    return s\n",
    "\n",
    "gen_randomstr(12, 28764)"
   ]
  },
  {
   "cell_type": "code",
   "execution_count": 30,
   "metadata": {},
   "outputs": [
    {
     "name": "stdout",
     "output_type": "stream",
     "text": [
      "18664\n"
     ]
    }
   ],
   "source": [
    "for i in range(1000000):\n",
    "    s = gen_randomstr(12, i)\n",
    "    if s == 'fxbyscbqxmgz':\n",
    "        print(i)\n",
    "        break"
   ]
  },
  {
   "cell_type": "code",
   "execution_count": 41,
   "metadata": {},
   "outputs": [],
   "source": [
    "a = 12\n",
    "b = 18664\n",
    "assert gen_randomstr(a, b) == 'fxbyscbqxmgz'"
   ]
  },
  {
   "cell_type": "markdown",
   "metadata": {},
   "source": [
    "## Task 3\n",
    "\n",
    "I used the following function to generate a ciphertext:\n",
    "\n",
    "```python\n",
    "import string\n",
    "revigenere_encrypt(string.ascii_lowercase, 'super secret message', gen_randomstr(?, ?))\n",
    "```\n",
    "\n",
    "The ciphertext is the following: `vsawu hzudrw xwvxpbw`. What is the key that was used used to encrypt the text? The length of the key was between 6 and 12 characters, and the length of the seed is not higher than 100,000. The carcking took less than 10 seconds on my computer.\n",
    "\n",
    "```python\n",
    "import string\n",
    "key = '?'\n",
    "assert revigenere_encrypt(string.ascii_lowercase, 'super secret message', key) == 'vsawu hzudrw xwvxpbw'\n",
    "```"
   ]
  },
  {
   "cell_type": "code",
   "execution_count": 37,
   "metadata": {},
   "outputs": [
    {
     "data": {
      "text/plain": [
       "'vsawu hzudrw xwvxpbw'"
      ]
     },
     "execution_count": 37,
     "metadata": {},
     "output_type": "execute_result"
    }
   ],
   "source": [
    "revigenere_encrypt(string.ascii_lowercase, 'super secret message', gen_randomstr(11, 96433)) # 'kxutm eruuji eqfkdlt'"
   ]
  },
  {
   "cell_type": "code",
   "execution_count": 39,
   "metadata": {},
   "outputs": [
    {
     "name": "stdout",
     "output_type": "stream",
     "text": [
      "11 96433 nmsvpfdslyd\n"
     ]
    }
   ],
   "source": [
    "for i in range(6, 12):\n",
    "    for j in range(100_000):\n",
    "        s = gen_randomstr(i, j)\n",
    "        if revigenere_encrypt(string.ascii_lowercase, 'super secret message', s) == 'vsawu hzudrw xwvxpbw':\n",
    "            print(i, j, s)\n",
    "            break"
   ]
  },
  {
   "cell_type": "code",
   "execution_count": 40,
   "metadata": {},
   "outputs": [],
   "source": [
    "key = 'nmsvpfdslyd'\n",
    "assert revigenere_encrypt(string.ascii_lowercase, 'super secret message', key) == 'vsawu hzudrw xwvxpbw'"
   ]
  }
 ],
 "metadata": {
  "kernelspec": {
   "display_name": ".venv",
   "language": "python",
   "name": "python3"
  },
  "language_info": {
   "codemirror_mode": {
    "name": "ipython",
    "version": 3
   },
   "file_extension": ".py",
   "mimetype": "text/x-python",
   "name": "python",
   "nbconvert_exporter": "python",
   "pygments_lexer": "ipython3",
   "version": "3.13.1"
  }
 },
 "nbformat": 4,
 "nbformat_minor": 2
}

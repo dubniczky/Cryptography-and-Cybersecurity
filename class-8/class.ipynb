{
 "cells": [
  {
   "cell_type": "code",
   "execution_count": 1,
   "metadata": {},
   "outputs": [
    {
     "data": {
      "text/plain": [
       "b'bbbbbbbbbbbbbbbbbbbbbbbbbbbbbbbb'"
      ]
     },
     "execution_count": 1,
     "metadata": {},
     "output_type": "execute_result"
    }
   ],
   "source": [
    "# Feistel cipher with SHA-256\n",
    "import hashlib\n",
    "\n",
    "def feistel_encrypt_block(key:bytes, block:bytes, rounds=16):\n",
    "    left = block[:len(block)//2]\n",
    "    right = block[len(block)//2:]\n",
    "    for i in range(rounds):\n",
    "        f = hashlib.sha256(right + key + bytes(i)).digest()[:len(right)]\n",
    "        new_right = bytes([a ^ b for a, b in zip(f, left)])\n",
    "        left, right = right, new_right\n",
    "    return left + right\n",
    "\n",
    "def feistel_decrypt_block(key:bytes, block:bytes, rounds=16):\n",
    "    left = block[:len(block)//2]\n",
    "    right = block[len(block)//2:]\n",
    "    for i in range(rounds-1, -1, -1):\n",
    "        f = hashlib.sha256(left + key + bytes(i)).digest()[:len(right)]\n",
    "        new_left = bytes([a ^ b for a, b in zip(f, right)])\n",
    "        right, left = left, new_left\n",
    "    return left + right\n",
    "\n",
    "cipher = feistel_encrypt_block(b'monkey', b\"bbbbbbbbbbbbbbbbbbbbbbbbbbbbbbbb\")\n",
    "feistel_decrypt_block(b'monkey', cipher)"
   ]
  },
  {
   "cell_type": "code",
   "execution_count": 2,
   "metadata": {},
   "outputs": [
    {
     "name": "stdout",
     "output_type": "stream",
     "text": [
      "Encrypted: b'nX\\xb4\\xff~\\xe5\\xb2Gmz\\xb9\\x0e_\\x92ov'\n",
      "Decrypted: b'Secret message'\n"
     ]
    }
   ],
   "source": [
    "# DES: Data Encryption Standard (1977)\n",
    "\n",
    "from Crypto.Cipher import DES\n",
    "from Crypto.Util.Padding import pad, unpad # PKCS7 padding (default)\n",
    "\n",
    "# Key must be 8 bytes long\n",
    "key = b'8bytekey'\n",
    "\n",
    "# Create a DES cipher object in ECB mode\n",
    "cipher = DES.new(key, DES.MODE_ECB)\n",
    "message = b'Secret message'\n",
    "\n",
    "# Pad the message to be a multiple of 8 bytes\n",
    "padded_message = pad(message, DES.block_size)\n",
    "\n",
    "# Encrypt the message\n",
    "encrypted_message = cipher.encrypt(padded_message)\n",
    "print(f'Encrypted: {encrypted_message}')\n",
    "\n",
    "# Decrypt the message\n",
    "decrypted_message = cipher.decrypt(encrypted_message)\n",
    "\n",
    "# Unpad the decrypted message\n",
    "unpadded_message = unpad(decrypted_message, DES.block_size)\n",
    "print(f'Decrypted: {unpadded_message}')"
   ]
  },
  {
   "cell_type": "code",
   "execution_count": 4,
   "metadata": {},
   "outputs": [
    {
     "name": "stdout",
     "output_type": "stream",
     "text": [
      "Encrypted (AES): b\"\\xa2\\x12\\x8b\\x86\\x03\\xd1\\xb2;\\x93\\xcb\\n\\x0c\\xbd\\xee\\xaf\\xd5\\xc6\\xde'e<\\xef\\x06\\x17\\xaa\\x10\\x10\\xf7\\x84\\xab\\x16\\xa3\"\n",
      "Decrypted (AES): b'Secret AES message'\n"
     ]
    }
   ],
   "source": [
    "from Crypto.Cipher import AES\n",
    "\n",
    "# Key must be 16, 24, or 32 bytes long\n",
    "aes_key = b'16bytekey1234567'\n",
    "\n",
    "# Create an AES cipher object in ECB mode\n",
    "aes_cipher = AES.new(aes_key, AES.MODE_ECB)\n",
    "aes_message = b'Secret AES message'\n",
    "\n",
    "# Pad the message to be a multiple of 16 bytes\n",
    "aes_padded_message = pad(aes_message, AES.block_size)\n",
    "\n",
    "# Encrypt the message\n",
    "aes_encrypted_message = aes_cipher.encrypt(aes_padded_message)\n",
    "print(f'Encrypted (AES): {aes_encrypted_message}')\n",
    "\n",
    "# Decrypt the message\n",
    "aes_decrypted_message = aes_cipher.decrypt(aes_encrypted_message)\n",
    "\n",
    "# Unpad the decrypted message\n",
    "aes_unpadded_message = unpad(aes_decrypted_message, AES.block_size)\n",
    "print(f'Decrypted (AES): {aes_unpadded_message}')"
   ]
  },
  {
   "cell_type": "code",
   "execution_count": 42,
   "metadata": {},
   "outputs": [
    {
     "name": "stdout",
     "output_type": "stream",
     "text": [
      "Message: b'Super secret information'\n",
      "Encrypted (AES CTR): b'\\xa0\\xc2#s\\xd7\\x9e\\xf3Ke\\x03\\xf3\\n\\xabL t\\x17\\xd0\\x96\\xb94mlm'\n",
      "Decrypted (AES CTR): b'Super secret information'\n"
     ]
    }
   ],
   "source": [
    "# Encrypt with counter mode\n",
    "\n",
    "from Crypto.Util import Counter\n",
    "\n",
    "# Create a counter object for CTR mode\n",
    "ctr = Counter.new(128)\n",
    "aes_key = b'16bytekey1122393'\n",
    "aes_ctr_cipher = AES.new(aes_key, AES.MODE_CTR, counter=ctr)\n",
    "\n",
    "# Encrypt the message\n",
    "aes_message = b'Super secret information'\n",
    "print(f'Message: {aes_message}')\n",
    "aes_ctr_encrypted_message = aes_ctr_cipher.encrypt(aes_message)\n",
    "print(f'Encrypted (AES CTR): {aes_ctr_encrypted_message}')\n",
    "\n",
    "\n",
    "# Sent over the internet (any issues?)\n",
    "\n",
    "\n",
    "# Decrypt the message\n",
    "ctr = Counter.new(128)\n",
    "aes_ctr_decipher = AES.new(aes_key, AES.MODE_CTR, counter=ctr)\n",
    "aes_ctr_decrypted_message = aes_ctr_decipher.decrypt(aes_ctr_encrypted_message)\n",
    "print(f'Decrypted (AES CTR): {aes_ctr_decrypted_message}')"
   ]
  },
  {
   "cell_type": "code",
   "execution_count": 49,
   "metadata": {},
   "outputs": [
    {
     "name": "stdout",
     "output_type": "stream",
     "text": [
      "Alice's Message: This is a secret message\n",
      "Encrypted (AES CTR): e05e278dfd81925147bbaf144c8a81b4d220f51943edde0c\n",
      "MAC: a4eacc6f10ab37b6a4f5fb25539659f7a09ff73627fc7a7694661ff36c1a5cf8\n",
      "1\n",
      "Decrypted (AES CTR): b'This#is a secret message'\n",
      "MAC verification failed.\n"
     ]
    }
   ],
   "source": [
    "# MAC (Message Authentication Code)\n",
    "\n",
    "import hmac\n",
    "import hashlib\n",
    "from Crypto.Util import Counter\n",
    "from Crypto.Cipher import AES\n",
    "\n",
    "# Shared secret key\n",
    "shared_key = b'shared_secretkey'\n",
    "\n",
    "# Alice creates a message and its MAC\n",
    "message = b'This is a secret message'\n",
    "print(f'Alice\\'s Message: {message.decode()}')\n",
    "alice_mac = hmac.new(shared_key, message, hashlib.sha256).digest()\n",
    "ctr = Counter.new(128)\n",
    "aes_cipher = AES.new(shared_key, AES.MODE_CTR, counter=ctr)\n",
    "alice_cipher = aes_cipher.encrypt(message)\n",
    "print(f'Encrypted (AES CTR): {alice_cipher.hex()}')\n",
    "print(f'MAC: {alice_mac.hex()}')\n",
    "\n",
    "\n",
    "# Data is sent through the network\n",
    "cipher = alice_cipher\n",
    "mac = alice_mac\n",
    "print(cipher.count(b'\\xfd'))\n",
    "cipher = cipher.replace(b'\\xfd', b'\\xfe')\n",
    "\n",
    "# Bob receives the message and verifies the MAC\n",
    "ctr = Counter.new(128)\n",
    "aes_decipher = AES.new(shared_key, AES.MODE_CTR, counter=ctr)\n",
    "decrypted_message = aes_decipher.decrypt(cipher)\n",
    "print(f'Decrypted (AES CTR): {decrypted_message}')\n",
    "bob_mac = hmac.new(shared_key, decrypted_message, hashlib.sha256).digest()\n",
    "if hmac.compare_digest(bob_mac, mac):\n",
    "    print(\"MAC verified.\")\n",
    "else:\n",
    "    print(\"MAC verification failed.\")\n",
    "\n"
   ]
  }
 ],
 "metadata": {
  "kernelspec": {
   "display_name": ".venv",
   "language": "python",
   "name": "python3"
  },
  "language_info": {
   "codemirror_mode": {
    "name": "ipython",
    "version": 3
   },
   "file_extension": ".py",
   "mimetype": "text/x-python",
   "name": "python",
   "nbconvert_exporter": "python",
   "pygments_lexer": "ipython3",
   "version": "3.13.1"
  }
 },
 "nbformat": 4,
 "nbformat_minor": 2
}

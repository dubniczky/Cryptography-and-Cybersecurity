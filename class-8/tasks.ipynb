{
 "cells": [
  {
   "cell_type": "markdown",
   "metadata": {},
   "source": [
    "# Task 1"
   ]
  },
  {
   "cell_type": "code",
   "execution_count": 1,
   "metadata": {},
   "outputs": [],
   "source": [
    "import hashlib\n",
    "\n",
    "def feistel_encrypt_block(key:bytes, block:bytes, rounds=16):\n",
    "    left = block[:len(block)//2]\n",
    "    right = block[len(block)//2:]\n",
    "    for i in range(rounds):\n",
    "        f = hashlib.sha256(right + key + bytes(i)).digest()[:len(right)]\n",
    "        new_right = bytes([a ^ b for a, b in zip(f, left)])\n",
    "        left, right = right, new_right\n",
    "    return left + right\n",
    "\n",
    "def feistel_decrypt_block(key:bytes, block:bytes, rounds=16):\n",
    "    left = block[:len(block)//2]\n",
    "    right = block[len(block)//2:]\n",
    "    for i in range(rounds-1, -1, -1):\n",
    "        f = hashlib.sha256(left + key + bytes(i)).digest()[:len(right)]\n",
    "        new_left = bytes([a ^ b for a, b in zip(f, right)])\n",
    "        right, left = left, new_left\n",
    "    return left + right"
   ]
  },
  {
   "cell_type": "code",
   "execution_count": 2,
   "metadata": {},
   "outputs": [
    {
     "data": {
      "text/plain": [
       "'34cdbe8fd0643c0323066b4f21b6c07ef65e88a4c7e78d1d07737b352352b5a9'"
      ]
     },
     "execution_count": 2,
     "metadata": {},
     "output_type": "execute_result"
    }
   ],
   "source": [
    "key = (17855).to_bytes(4, byteorder='big')\n",
    "feistel_encrypt_block(key, b\"welldoneyouXXXXXXXXXcangohomenow\", rounds=32).hex()"
   ]
  },
  {
   "cell_type": "code",
   "execution_count": 3,
   "metadata": {},
   "outputs": [
    {
     "name": "stdout",
     "output_type": "stream",
     "text": [
      "welldoneyouXXXXXXXXXcangohomenow\n"
     ]
    }
   ],
   "source": [
    "# Crack\n",
    "ciphertext = bytes.fromhex(\"34cdbe8fd0643c0323066b4f21b6c07ef65e88a4c7e78d1d07737b352352b5a9\")\n",
    "for i in range(2**16):\n",
    "    key = i.to_bytes(4, byteorder='big')\n",
    "    plaintext = feistel_decrypt_block(key, ciphertext, rounds=32)\n",
    "    if b\"XXXXXXXXX\" in plaintext:\n",
    "        print(plaintext.decode())\n",
    "        break"
   ]
  },
  {
   "cell_type": "markdown",
   "metadata": {},
   "source": [
    "# Task 2"
   ]
  },
  {
   "cell_type": "code",
   "execution_count": 4,
   "metadata": {},
   "outputs": [
    {
     "name": "stdout",
     "output_type": "stream",
     "text": [
      "Key: 00000000000f8c72\n",
      "Encrypted: 2389a74e47f83172dd2e284b4e4882614900fc2b274d3c7aaa1797f32d7731e86e5b0fdfa68c50b60a62de982900fedeb7102fe582f8c004846efd9e18286ddf65170140968ed4c70b0515b4e65e12f04dee2c904c65093a4314d5b890e4b2f5041c559cb1c65d18c7f7064ff4b0c019c8f21e122994139534becd287713615fecca145312b3b9bf\n",
      "Decrypted: b'It is much more convenient to write this message, because I have a lot more space and I can use spaces as well which is always nice.'\n"
     ]
    }
   ],
   "source": [
    "# DES: Data Encryption Standard (1977)\n",
    "\n",
    "from Crypto.Cipher import DES\n",
    "from Crypto.Util.Padding import pad, unpad # PKCS7 padding (default)\n",
    "from secrets import token_bytes\n",
    "\n",
    "# Key must be 8 bytes long\n",
    "key = b'\\x00\\x00\\x00\\x00\\x00' + token_bytes(3)\n",
    "print(f'Key: {key.hex()}')\n",
    "\n",
    "cipher = DES.new(key, DES.MODE_ECB)\n",
    "message = b'It is much more convenient to write this message, because I have a lot more space and I can use spaces as well which is always nice.'\n",
    "\n",
    "# Pad the message to be a multiple of 8 bytes\n",
    "padded_message = pad(message, DES.block_size)\n",
    "\n",
    "encrypted_message = cipher.encrypt(padded_message)\n",
    "print(f'Encrypted: {encrypted_message.hex()}')\n",
    "\n",
    "# Decrypt the message\n",
    "decrypted_message = cipher.decrypt(encrypted_message)\n",
    "\n",
    "# Unpad the decrypted message\n",
    "unpadded_message = unpad(decrypted_message, DES.block_size)\n",
    "print(f'Decrypted: {unpadded_message}')"
   ]
  },
  {
   "cell_type": "code",
   "execution_count": null,
   "metadata": {},
   "outputs": [],
   "source": [
    "encrypted = '2389a74e47f83172dd2e284b4e4882614900fc2b274d3c7aaa1797f32d7731e86e5b0fdfa68c50b60a62de982900fedeb7102fe582f8c004846efd9e18286ddf65170140968ed4c70b0515b4e65e12f04dee2c904c65093a4314d5b890e4b2f5041c559cb1c65d18c7f7064ff4b0c019c8f21e122994139534becd287713615fecca145312b3b9bf'"
   ]
  },
  {
   "cell_type": "code",
   "execution_count": 9,
   "metadata": {},
   "outputs": [
    {
     "name": "stdout",
     "output_type": "stream",
     "text": [
      "Likelihood of being English text: 0.03436525989500543\n"
     ]
    }
   ],
   "source": [
    "from collections import Counter\n",
    "import string\n",
    "\n",
    "def is_english_text(text: bytes) -> float:\n",
    "    # Convert bytes to string\n",
    "    text = text.decode('utf-8', errors='ignore').lower()\n",
    "    \n",
    "    # Define the frequency of letters in the English language\n",
    "    english_letter_freq = {\n",
    "        'a': 8.167, 'b': 1.492, 'c': 2.782, 'd': 4.253, 'e': 12.702, 'f': 2.228, 'g': 2.015, 'h': 6.094,\n",
    "        'i': 6.966, 'j': 0.153, 'k': 0.772, 'l': 4.025, 'm': 2.406, 'n': 6.749, 'o': 7.507, 'p': 1.929,\n",
    "        'q': 0.095, 'r': 5.987, 's': 6.327, 't': 9.056, 'u': 2.758, 'v': 0.978, 'w': 2.360, 'x': 0.150,\n",
    "        'y': 1.974, 'z': 0.074\n",
    "    }\n",
    "    \n",
    "    # Count the frequency of each letter in the text\n",
    "    text_letter_freq = Counter(c for c in text if c in string.ascii_lowercase)\n",
    "    # Calculate the total number of letters in the text\n",
    "    total_letters = sum(text_letter_freq.values())\n",
    "    \n",
    "    if total_letters == 0:\n",
    "        return 0.0\n",
    "    \n",
    "    # Calculate the chi-squared statistic\n",
    "    chi_squared = 0.0\n",
    "    for letter, expected_freq in english_letter_freq.items():\n",
    "        observed_freq = text_letter_freq.get(letter, 0) / total_letters * 100\n",
    "        chi_squared += ((observed_freq - expected_freq) ** 2) / expected_freq\n",
    "    \n",
    "    # Return the inverse of chi-squared as a measure of likelihood\n",
    "    return 1 / chi_squared\n",
    "\n",
    "# Example usage\n",
    "text = b'It is much more convenient to write this message, because I have a lot more space and I can use spaces as well which is always nice.'\n",
    "likelihood = is_english_text(text)\n",
    "print(f'Likelihood of being English text: {likelihood}')"
   ]
  },
  {
   "cell_type": "code",
   "execution_count": 13,
   "metadata": {},
   "outputs": [],
   "source": [
    "def increment_bytes(byte_data: bytes) -> bytes:\n",
    "    byte_list = list(byte_data)\n",
    "    for i in range(len(byte_list) - 1, -1, -1):\n",
    "        if byte_list[i] < 255:\n",
    "            byte_list[i] += 1\n",
    "            break\n",
    "        else:\n",
    "            byte_list[i] = 0\n",
    "    return bytes(byte_list)\n",
    "\n",
    "\n",
    "assert increment_bytes(b'\\x00\\x00\\x00') == b'\\x00\\x00\\x01'\n",
    "assert increment_bytes(b'\\x00\\x10\\x00') == b'\\x00\\x10\\x01'\n",
    "assert increment_bytes(b'\\x00\\x00\\xff') == b'\\x00\\x01\\x00'\n",
    "assert increment_bytes(b'\\x00\\xff\\xff') == b'\\x01\\x00\\x00'"
   ]
  },
  {
   "cell_type": "code",
   "execution_count": 32,
   "metadata": {},
   "outputs": [
    {
     "name": "stdout",
     "output_type": "stream",
     "text": [
      "Key: 000000, Likelihood: 0.0008471364722782383, Message: b\"\\x0eI\\xc3\\x133\\x1eNpu\\xf5\\xa4\\xec\\xd2\\xe5\\xd7\\xf1\\xa1\\xdb\\xb8|*\\xa0H\\x1e\\xfd\\xfc\\xef}W\\x8f\\xefHZ\\x8b.\\xce\\x0b\\xaf\\xe0\\xa4\\xdc^Ts\\xd1\\xf5h\\xc0]\\x1b-IP\\x10\\x9b\\xc1\\xf2\\x00+\\xd6[\\xa3\\rL\\x1a\\x99\\xae\\xf8\\x06\\xf8L\\rGN\\x11Z\\xf2\\xe9a}S\\x07\\xc4ru|\\xd9\\xad\\xe3*\\xbe([CS\\x80\\xc2P\\xffeB\\x02\\xcb7rc'\\xf1\\xa5\\x9f4\\xbds\\xd3}|V\\xeaz\\xf8=\\xd0;\\xc2\\x13\\xb8\\xfc\\xad\\xd9\\x19Y\\xee'\\xd6\\xb8\\x99\"\n",
      "Key: 0186a0, Likelihood: 0.014087624347623595, Message: b'\\xdc\\x05p\"6\\x02w\\tL\\xa7[\\xf3h\\x15\\x0e\\xca\\x8b\\xb0\\xfb\\x00(\\x97\\x9c\\xdd\\x02;5o\\xe7\\x8a\\x07{\\x90\\xba\\xfc?\\xe6T\\x00%\\x02\\xdc\\xd4\\xfd\\x9c\\x0c%u\\xf5\\x81:\\x9b\\x17\\x99\"\\xf3\\xd4\\x1e\\xd7\\x9a\\xac\\x81T\\xe4\\xe2\\xc0\\xc6\\xb9CC\\xdc\\x1epL\\xd92\\xe1\\t\\xa7N\\x03E\\x01\\xc8\\x9b7G{N\\x8fn\\xa9\\x0bE9e#e\\xc50\\x90\\xf8\\x86*\\xe6$\\xc4\\xaa\\xe7\\xa9\\xe5\\xa6\\xb1\\xdcS\\x96bf\\xac\\xce\\xa1\\xc7\\x171\"\\xb2A\\xe06\\xb0r\\xa2!\\x8f5\\xb7'\n",
      "Key: 030d40, Likelihood: 0.014087624347623595, Message: b'\\xdc\\x05p\"6\\x02w\\tL\\xa7[\\xf3h\\x15\\x0e\\xca\\x8b\\xb0\\xfb\\x00(\\x97\\x9c\\xdd\\x02;5o\\xe7\\x8a\\x07{\\x90\\xba\\xfc?\\xe6T\\x00%\\x02\\xdc\\xd4\\xfd\\x9c\\x0c%u\\xf5\\x81:\\x9b\\x17\\x99\"\\xf3\\xd4\\x1e\\xd7\\x9a\\xac\\x81T\\xe4\\xe2\\xc0\\xc6\\xb9CC\\xdc\\x1epL\\xd92\\xe1\\t\\xa7N\\x03E\\x01\\xc8\\x9b7G{N\\x8fn\\xa9\\x0bE9e#e\\xc50\\x90\\xf8\\x86*\\xe6$\\xc4\\xaa\\xe7\\xa9\\xe5\\xa6\\xb1\\xdcS\\x96bf\\xac\\xce\\xa1\\xc7\\x171\"\\xb2A\\xe06\\xb0r\\xa2!\\x8f5\\xb7'\n",
      "Key: 0493e0, Likelihood: 0.01720904459548325, Message: b'\\x0e\\x1bO\"N\\xefr\\xff\\x1d\\xe4\\x82\"\\xe1\\x18\\x10%\\x80\\xe9\\x9a\\x1a\\n\\xda}\\xe3l\\xaea\\x94\\xee=a\\x9e(\\xd1\\x08\\x1b\\xb1\\x12.h\\xcb\\xb4\\x0e\\x9d\\x17\\x87\\x98\\x89\\x8bF\\xc6c\\x00R\\xf1)\\xa2\\x99}\\x8b\\xba\\xba\\x91,\\xbce\\xeat\\x12w\\x9dN\\xaa\\xf3\\x13\\xa2\\xa3e\\x15\\xa3n\\xfc\\xf4He\\x1d6D\\xc1\\xd9i\\xf9\\x9f\\xd0\\x9b\\xae\\xe7\\x8d\\xdd\\xca\\xd4T\\xe3;-\\x97\\x94P\\x80\\xfa3\\xbc\\xdb8\\xb4\\x00\\xc4P\\x96\\xcb\\x84\\\\\\xa5\\x17\\n\\x0e\\xa5!]\\x95\\'\\x06\\x8f\\x83\\xdd\\xe7'\n",
      "Key: 061a80, Likelihood: 0.01825479685944446, Message: b'\\xf82\\xe0o,iy\\x8a\\xa5\\xfba\\xb5\\xecg\\x0c\\xb70o\\xa24\\xf1\\xa7\\xcc\\xb8\\x18\\xe3U\\xb2\\xcc\\xb2\\xfd\\xf1G\\xb3\\xb8\\xdbe\\xc8\\x19\\xb2r1C\\x8d`\\xe1D\\x11\\x96\\xd3\\xb4C\\xc22h\\xcf9\\x95K\\xa5O\\xc0\\xda\\xcb?2\\xce!\\x0et\\xdc\\xc3\\ri\\xc0\\xa8\\x86\\xa6\\x84\\x90}\\xc9<\\xe1E$\\xa3\\x80&S\\x89Rla\\xa7S\\x9dm\\x9c\\xe5VA\\xec\\xdfU\\xc3\\xc4L%\\xabr\\x89\\xab\\xc6\\xeap\\xde\\xf4,\\x81&\\xd0\\xaf\\xd4n\\xca\\n^\\xc5\\xec\\xa1M\\x1d\\xd8\\xf1<'\n",
      "Key: 07a120, Likelihood: 0.01825479685944446, Message: b'\\xf82\\xe0o,iy\\x8a\\xa5\\xfba\\xb5\\xecg\\x0c\\xb70o\\xa24\\xf1\\xa7\\xcc\\xb8\\x18\\xe3U\\xb2\\xcc\\xb2\\xfd\\xf1G\\xb3\\xb8\\xdbe\\xc8\\x19\\xb2r1C\\x8d`\\xe1D\\x11\\x96\\xd3\\xb4C\\xc22h\\xcf9\\x95K\\xa5O\\xc0\\xda\\xcb?2\\xce!\\x0et\\xdc\\xc3\\ri\\xc0\\xa8\\x86\\xa6\\x84\\x90}\\xc9<\\xe1E$\\xa3\\x80&S\\x89Rla\\xa7S\\x9dm\\x9c\\xe5VA\\xec\\xdfU\\xc3\\xc4L%\\xabr\\x89\\xab\\xc6\\xeap\\xde\\xf4,\\x81&\\xd0\\xaf\\xd4n\\xca\\n^\\xc5\\xec\\xa1M\\x1d\\xd8\\xf1<'\n",
      "Key: 0927c0, Likelihood: 0.01825479685944446, Message: b'\\xf82\\xe0o,iy\\x8a\\xa5\\xfba\\xb5\\xecg\\x0c\\xb70o\\xa24\\xf1\\xa7\\xcc\\xb8\\x18\\xe3U\\xb2\\xcc\\xb2\\xfd\\xf1G\\xb3\\xb8\\xdbe\\xc8\\x19\\xb2r1C\\x8d`\\xe1D\\x11\\x96\\xd3\\xb4C\\xc22h\\xcf9\\x95K\\xa5O\\xc0\\xda\\xcb?2\\xce!\\x0et\\xdc\\xc3\\ri\\xc0\\xa8\\x86\\xa6\\x84\\x90}\\xc9<\\xe1E$\\xa3\\x80&S\\x89Rla\\xa7S\\x9dm\\x9c\\xe5VA\\xec\\xdfU\\xc3\\xc4L%\\xabr\\x89\\xab\\xc6\\xeap\\xde\\xf4,\\x81&\\xd0\\xaf\\xd4n\\xca\\n^\\xc5\\xec\\xa1M\\x1d\\xd8\\xf1<'\n",
      "Key: 0aae60, Likelihood: 0.01825479685944446, Message: b'\\xf82\\xe0o,iy\\x8a\\xa5\\xfba\\xb5\\xecg\\x0c\\xb70o\\xa24\\xf1\\xa7\\xcc\\xb8\\x18\\xe3U\\xb2\\xcc\\xb2\\xfd\\xf1G\\xb3\\xb8\\xdbe\\xc8\\x19\\xb2r1C\\x8d`\\xe1D\\x11\\x96\\xd3\\xb4C\\xc22h\\xcf9\\x95K\\xa5O\\xc0\\xda\\xcb?2\\xce!\\x0et\\xdc\\xc3\\ri\\xc0\\xa8\\x86\\xa6\\x84\\x90}\\xc9<\\xe1E$\\xa3\\x80&S\\x89Rla\\xa7S\\x9dm\\x9c\\xe5VA\\xec\\xdfU\\xc3\\xc4L%\\xabr\\x89\\xab\\xc6\\xeap\\xde\\xf4,\\x81&\\xd0\\xaf\\xd4n\\xca\\n^\\xc5\\xec\\xa1M\\x1d\\xd8\\xf1<'\n",
      "Key: 0c3500, Likelihood: 0.01825479685944446, Message: b'\\xf82\\xe0o,iy\\x8a\\xa5\\xfba\\xb5\\xecg\\x0c\\xb70o\\xa24\\xf1\\xa7\\xcc\\xb8\\x18\\xe3U\\xb2\\xcc\\xb2\\xfd\\xf1G\\xb3\\xb8\\xdbe\\xc8\\x19\\xb2r1C\\x8d`\\xe1D\\x11\\x96\\xd3\\xb4C\\xc22h\\xcf9\\x95K\\xa5O\\xc0\\xda\\xcb?2\\xce!\\x0et\\xdc\\xc3\\ri\\xc0\\xa8\\x86\\xa6\\x84\\x90}\\xc9<\\xe1E$\\xa3\\x80&S\\x89Rla\\xa7S\\x9dm\\x9c\\xe5VA\\xec\\xdfU\\xc3\\xc4L%\\xabr\\x89\\xab\\xc6\\xeap\\xde\\xf4,\\x81&\\xd0\\xaf\\xd4n\\xca\\n^\\xc5\\xec\\xa1M\\x1d\\xd8\\xf1<'\n",
      "Key: 0dbba0, Likelihood: 0.01825479685944446, Message: b'\\xf82\\xe0o,iy\\x8a\\xa5\\xfba\\xb5\\xecg\\x0c\\xb70o\\xa24\\xf1\\xa7\\xcc\\xb8\\x18\\xe3U\\xb2\\xcc\\xb2\\xfd\\xf1G\\xb3\\xb8\\xdbe\\xc8\\x19\\xb2r1C\\x8d`\\xe1D\\x11\\x96\\xd3\\xb4C\\xc22h\\xcf9\\x95K\\xa5O\\xc0\\xda\\xcb?2\\xce!\\x0et\\xdc\\xc3\\ri\\xc0\\xa8\\x86\\xa6\\x84\\x90}\\xc9<\\xe1E$\\xa3\\x80&S\\x89Rla\\xa7S\\x9dm\\x9c\\xe5VA\\xec\\xdfU\\xc3\\xc4L%\\xabr\\x89\\xab\\xc6\\xeap\\xde\\xf4,\\x81&\\xd0\\xaf\\xd4n\\xca\\n^\\xc5\\xec\\xa1M\\x1d\\xd8\\xf1<'\n",
      "Key: 0f4240, Likelihood: 0.01825479685944446, Message: b'\\xf82\\xe0o,iy\\x8a\\xa5\\xfba\\xb5\\xecg\\x0c\\xb70o\\xa24\\xf1\\xa7\\xcc\\xb8\\x18\\xe3U\\xb2\\xcc\\xb2\\xfd\\xf1G\\xb3\\xb8\\xdbe\\xc8\\x19\\xb2r1C\\x8d`\\xe1D\\x11\\x96\\xd3\\xb4C\\xc22h\\xcf9\\x95K\\xa5O\\xc0\\xda\\xcb?2\\xce!\\x0et\\xdc\\xc3\\ri\\xc0\\xa8\\x86\\xa6\\x84\\x90}\\xc9<\\xe1E$\\xa3\\x80&S\\x89Rla\\xa7S\\x9dm\\x9c\\xe5VA\\xec\\xdfU\\xc3\\xc4L%\\xabr\\x89\\xab\\xc6\\xeap\\xde\\xf4,\\x81&\\xd0\\xaf\\xd4n\\xca\\n^\\xc5\\xec\\xa1M\\x1d\\xd8\\xf1<'\n",
      "Key: 10c8e0, Likelihood: 0.01877117813099779, Message: b'HS\\xf9\\xe0\\xac\\xfaL\\xb8\\x7f\\xde\\xbc(\\n\\xe1\\x0b\\xd7\\xdd\\xafUN\\xd8\\xae\\xdb\\xf7*\\xc0\\x8cE;\\x1c8h@\\x05\\xf7LMr\\xe8=\\xfdc\\xc4\\xd2\\xcdp\\xdcCal\\xf5\\xbf/`i6\\x8a; \\xbeVHF2e\\x04\\xada\\x8b\\x8dt\\t\\xc3\\xcd=\\xd1|Ia~\\x12;8\\xcc?e?\\x04\\x8c\\xf7\\x92\\xabR_\\xda\\xcf\\x8f6\\x1f\\x97\\r\\xcb\\xd5\\x8a\\x05\\xf56\\xe7\\xc9\\xd5\\xa9(\\xd4\\xc6\\x0b\\x05E@\\xdeny\\x04\\x05\\xce\\x04\\xd8\\x11#\\xd0\\x88\\x9b\\xae$\\x97[\\xf3'\n",
      "Key: 124f80, Likelihood: 0.01877117813099779, Message: b'HS\\xf9\\xe0\\xac\\xfaL\\xb8\\x7f\\xde\\xbc(\\n\\xe1\\x0b\\xd7\\xdd\\xafUN\\xd8\\xae\\xdb\\xf7*\\xc0\\x8cE;\\x1c8h@\\x05\\xf7LMr\\xe8=\\xfdc\\xc4\\xd2\\xcdp\\xdcCal\\xf5\\xbf/`i6\\x8a; \\xbeVHF2e\\x04\\xada\\x8b\\x8dt\\t\\xc3\\xcd=\\xd1|Ia~\\x12;8\\xcc?e?\\x04\\x8c\\xf7\\x92\\xabR_\\xda\\xcf\\x8f6\\x1f\\x97\\r\\xcb\\xd5\\x8a\\x05\\xf56\\xe7\\xc9\\xd5\\xa9(\\xd4\\xc6\\x0b\\x05E@\\xdeny\\x04\\x05\\xce\\x04\\xd8\\x11#\\xd0\\x88\\x9b\\xae$\\x97[\\xf3'\n",
      "Key: 13d620, Likelihood: 0.028283200675888565, Message: b'=\\xa7ws\\xd5t\\x95\\x1f/\\xd3\\xb3~\\x08Gs($$\\xeb\\xe0\\x02_\\x1d;\\x069\\x83\\xd4\\xc0\\xd4&\\x99\\x8e=\\xbd\\xab\\xf5\\xbd\\x11\\x07N\\xe9\\xae\\xd4\\xe2U\\xd4\\x0f\\xdd\\xb2CE\\x9f\\xa5\\xba&@d$\\x0cE\\x8a\\xac\\xb9S\\x95\\x8d\\xd3A|\\x10\\x9d\\xc6y\\xb3\\xa7e[[L\\xa52[t\\x16pO\\xc4\\x1dH\\x8b\\x0eFrL^\\xcc\\xcf\\x99[\\xd9\\xfc/\\xa5R1>\\x9c<9\\x80la\\xbf\\x91[\\xda\\x1c8\\x95<\\x8b\\xe6D\\xcd(\\xe5\\xfd\\xe5I\\xbe\\x902\\x05\\x88\\x9b'\n",
      "Key: 155cc0, Likelihood: 0.028283200675888565, Message: b'=\\xa7ws\\xd5t\\x95\\x1f/\\xd3\\xb3~\\x08Gs($$\\xeb\\xe0\\x02_\\x1d;\\x069\\x83\\xd4\\xc0\\xd4&\\x99\\x8e=\\xbd\\xab\\xf5\\xbd\\x11\\x07N\\xe9\\xae\\xd4\\xe2U\\xd4\\x0f\\xdd\\xb2CE\\x9f\\xa5\\xba&@d$\\x0cE\\x8a\\xac\\xb9S\\x95\\x8d\\xd3A|\\x10\\x9d\\xc6y\\xb3\\xa7e[[L\\xa52[t\\x16pO\\xc4\\x1dH\\x8b\\x0eFrL^\\xcc\\xcf\\x99[\\xd9\\xfc/\\xa5R1>\\x9c<9\\x80la\\xbf\\x91[\\xda\\x1c8\\x95<\\x8b\\xe6D\\xcd(\\xe5\\xfd\\xe5I\\xbe\\x902\\x05\\x88\\x9b'\n",
      "Key: 16e360, Likelihood: 0.028283200675888565, Message: b'=\\xa7ws\\xd5t\\x95\\x1f/\\xd3\\xb3~\\x08Gs($$\\xeb\\xe0\\x02_\\x1d;\\x069\\x83\\xd4\\xc0\\xd4&\\x99\\x8e=\\xbd\\xab\\xf5\\xbd\\x11\\x07N\\xe9\\xae\\xd4\\xe2U\\xd4\\x0f\\xdd\\xb2CE\\x9f\\xa5\\xba&@d$\\x0cE\\x8a\\xac\\xb9S\\x95\\x8d\\xd3A|\\x10\\x9d\\xc6y\\xb3\\xa7e[[L\\xa52[t\\x16pO\\xc4\\x1dH\\x8b\\x0eFrL^\\xcc\\xcf\\x99[\\xd9\\xfc/\\xa5R1>\\x9c<9\\x80la\\xbf\\x91[\\xda\\x1c8\\x95<\\x8b\\xe6D\\xcd(\\xe5\\xfd\\xe5I\\xbe\\x902\\x05\\x88\\x9b'\n",
      "Key: 186a00, Likelihood: 0.028283200675888565, Message: b'=\\xa7ws\\xd5t\\x95\\x1f/\\xd3\\xb3~\\x08Gs($$\\xeb\\xe0\\x02_\\x1d;\\x069\\x83\\xd4\\xc0\\xd4&\\x99\\x8e=\\xbd\\xab\\xf5\\xbd\\x11\\x07N\\xe9\\xae\\xd4\\xe2U\\xd4\\x0f\\xdd\\xb2CE\\x9f\\xa5\\xba&@d$\\x0cE\\x8a\\xac\\xb9S\\x95\\x8d\\xd3A|\\x10\\x9d\\xc6y\\xb3\\xa7e[[L\\xa52[t\\x16pO\\xc4\\x1dH\\x8b\\x0eFrL^\\xcc\\xcf\\x99[\\xd9\\xfc/\\xa5R1>\\x9c<9\\x80la\\xbf\\x91[\\xda\\x1c8\\x95<\\x8b\\xe6D\\xcd(\\xe5\\xfd\\xe5I\\xbe\\x902\\x05\\x88\\x9b'\n",
      "Key: 19f0a0, Likelihood: 0.028283200675888565, Message: b'=\\xa7ws\\xd5t\\x95\\x1f/\\xd3\\xb3~\\x08Gs($$\\xeb\\xe0\\x02_\\x1d;\\x069\\x83\\xd4\\xc0\\xd4&\\x99\\x8e=\\xbd\\xab\\xf5\\xbd\\x11\\x07N\\xe9\\xae\\xd4\\xe2U\\xd4\\x0f\\xdd\\xb2CE\\x9f\\xa5\\xba&@d$\\x0cE\\x8a\\xac\\xb9S\\x95\\x8d\\xd3A|\\x10\\x9d\\xc6y\\xb3\\xa7e[[L\\xa52[t\\x16pO\\xc4\\x1dH\\x8b\\x0eFrL^\\xcc\\xcf\\x99[\\xd9\\xfc/\\xa5R1>\\x9c<9\\x80la\\xbf\\x91[\\xda\\x1c8\\x95<\\x8b\\xe6D\\xcd(\\xe5\\xfd\\xe5I\\xbe\\x902\\x05\\x88\\x9b'\n",
      "Key: 1b7740, Likelihood: 0.028283200675888565, Message: b'=\\xa7ws\\xd5t\\x95\\x1f/\\xd3\\xb3~\\x08Gs($$\\xeb\\xe0\\x02_\\x1d;\\x069\\x83\\xd4\\xc0\\xd4&\\x99\\x8e=\\xbd\\xab\\xf5\\xbd\\x11\\x07N\\xe9\\xae\\xd4\\xe2U\\xd4\\x0f\\xdd\\xb2CE\\x9f\\xa5\\xba&@d$\\x0cE\\x8a\\xac\\xb9S\\x95\\x8d\\xd3A|\\x10\\x9d\\xc6y\\xb3\\xa7e[[L\\xa52[t\\x16pO\\xc4\\x1dH\\x8b\\x0eFrL^\\xcc\\xcf\\x99[\\xd9\\xfc/\\xa5R1>\\x9c<9\\x80la\\xbf\\x91[\\xda\\x1c8\\x95<\\x8b\\xe6D\\xcd(\\xe5\\xfd\\xe5I\\xbe\\x902\\x05\\x88\\x9b'\n",
      "Key: 1cfde0, Likelihood: 0.028283200675888565, Message: b'=\\xa7ws\\xd5t\\x95\\x1f/\\xd3\\xb3~\\x08Gs($$\\xeb\\xe0\\x02_\\x1d;\\x069\\x83\\xd4\\xc0\\xd4&\\x99\\x8e=\\xbd\\xab\\xf5\\xbd\\x11\\x07N\\xe9\\xae\\xd4\\xe2U\\xd4\\x0f\\xdd\\xb2CE\\x9f\\xa5\\xba&@d$\\x0cE\\x8a\\xac\\xb9S\\x95\\x8d\\xd3A|\\x10\\x9d\\xc6y\\xb3\\xa7e[[L\\xa52[t\\x16pO\\xc4\\x1dH\\x8b\\x0eFrL^\\xcc\\xcf\\x99[\\xd9\\xfc/\\xa5R1>\\x9c<9\\x80la\\xbf\\x91[\\xda\\x1c8\\x95<\\x8b\\xe6D\\xcd(\\xe5\\xfd\\xe5I\\xbe\\x902\\x05\\x88\\x9b'\n",
      "Key: 1e8480, Likelihood: 0.028283200675888565, Message: b'=\\xa7ws\\xd5t\\x95\\x1f/\\xd3\\xb3~\\x08Gs($$\\xeb\\xe0\\x02_\\x1d;\\x069\\x83\\xd4\\xc0\\xd4&\\x99\\x8e=\\xbd\\xab\\xf5\\xbd\\x11\\x07N\\xe9\\xae\\xd4\\xe2U\\xd4\\x0f\\xdd\\xb2CE\\x9f\\xa5\\xba&@d$\\x0cE\\x8a\\xac\\xb9S\\x95\\x8d\\xd3A|\\x10\\x9d\\xc6y\\xb3\\xa7e[[L\\xa52[t\\x16pO\\xc4\\x1dH\\x8b\\x0eFrL^\\xcc\\xcf\\x99[\\xd9\\xfc/\\xa5R1>\\x9c<9\\x80la\\xbf\\x91[\\xda\\x1c8\\x95<\\x8b\\xe6D\\xcd(\\xe5\\xfd\\xe5I\\xbe\\x902\\x05\\x88\\x9b'\n",
      "Key: 200b20, Likelihood: 0.028283200675888565, Message: b'=\\xa7ws\\xd5t\\x95\\x1f/\\xd3\\xb3~\\x08Gs($$\\xeb\\xe0\\x02_\\x1d;\\x069\\x83\\xd4\\xc0\\xd4&\\x99\\x8e=\\xbd\\xab\\xf5\\xbd\\x11\\x07N\\xe9\\xae\\xd4\\xe2U\\xd4\\x0f\\xdd\\xb2CE\\x9f\\xa5\\xba&@d$\\x0cE\\x8a\\xac\\xb9S\\x95\\x8d\\xd3A|\\x10\\x9d\\xc6y\\xb3\\xa7e[[L\\xa52[t\\x16pO\\xc4\\x1dH\\x8b\\x0eFrL^\\xcc\\xcf\\x99[\\xd9\\xfc/\\xa5R1>\\x9c<9\\x80la\\xbf\\x91[\\xda\\x1c8\\x95<\\x8b\\xe6D\\xcd(\\xe5\\xfd\\xe5I\\xbe\\x902\\x05\\x88\\x9b'\n",
      "Key: 2191c0, Likelihood: 0.028283200675888565, Message: b'=\\xa7ws\\xd5t\\x95\\x1f/\\xd3\\xb3~\\x08Gs($$\\xeb\\xe0\\x02_\\x1d;\\x069\\x83\\xd4\\xc0\\xd4&\\x99\\x8e=\\xbd\\xab\\xf5\\xbd\\x11\\x07N\\xe9\\xae\\xd4\\xe2U\\xd4\\x0f\\xdd\\xb2CE\\x9f\\xa5\\xba&@d$\\x0cE\\x8a\\xac\\xb9S\\x95\\x8d\\xd3A|\\x10\\x9d\\xc6y\\xb3\\xa7e[[L\\xa52[t\\x16pO\\xc4\\x1dH\\x8b\\x0eFrL^\\xcc\\xcf\\x99[\\xd9\\xfc/\\xa5R1>\\x9c<9\\x80la\\xbf\\x91[\\xda\\x1c8\\x95<\\x8b\\xe6D\\xcd(\\xe5\\xfd\\xe5I\\xbe\\x902\\x05\\x88\\x9b'\n",
      "Key: 231860, Likelihood: 0.03436525989500543, Message: b'It is much more convenient to write this message, because I have a lot more space and I can use spaces as well which is always nice.\\x04\\x04\\x04\\x04'\n",
      "Key: 249f00, Likelihood: 0.03436525989500543, Message: b'It is much more convenient to write this message, because I have a lot more space and I can use spaces as well which is always nice.\\x04\\x04\\x04\\x04'\n",
      "Key: 2625a0, Likelihood: 0.03436525989500543, Message: b'It is much more convenient to write this message, because I have a lot more space and I can use spaces as well which is always nice.\\x04\\x04\\x04\\x04'\n",
      "Key: 27ac40, Likelihood: 0.03436525989500543, Message: b'It is much more convenient to write this message, because I have a lot more space and I can use spaces as well which is always nice.\\x04\\x04\\x04\\x04'\n",
      "Key: 2932e0, Likelihood: 0.03436525989500543, Message: b'It is much more convenient to write this message, because I have a lot more space and I can use spaces as well which is always nice.\\x04\\x04\\x04\\x04'\n",
      "Key: 2ab980, Likelihood: 0.03436525989500543, Message: b'It is much more convenient to write this message, because I have a lot more space and I can use spaces as well which is always nice.\\x04\\x04\\x04\\x04'\n",
      "Key: 2c4020, Likelihood: 0.03436525989500543, Message: b'It is much more convenient to write this message, because I have a lot more space and I can use spaces as well which is always nice.\\x04\\x04\\x04\\x04'\n",
      "Key: 2dc6c0, Likelihood: 0.03436525989500543, Message: b'It is much more convenient to write this message, because I have a lot more space and I can use spaces as well which is always nice.\\x04\\x04\\x04\\x04'\n",
      "Key: 2f4d60, Likelihood: 0.03436525989500543, Message: b'It is much more convenient to write this message, because I have a lot more space and I can use spaces as well which is always nice.\\x04\\x04\\x04\\x04'\n"
     ]
    },
    {
     "ename": "KeyboardInterrupt",
     "evalue": "",
     "output_type": "error",
     "traceback": [
      "\u001b[0;31m---------------------------------------------------------------------------\u001b[0m",
      "\u001b[0;31mKeyboardInterrupt\u001b[0m                         Traceback (most recent call last)",
      "Cell \u001b[0;32mIn[32], line 11\u001b[0m\n\u001b[1;32m      9\u001b[0m cipher \u001b[38;5;241m=\u001b[39m DES\u001b[38;5;241m.\u001b[39mnew(\u001b[38;5;124mb\u001b[39m\u001b[38;5;124m'\u001b[39m\u001b[38;5;130;01m\\x00\u001b[39;00m\u001b[38;5;130;01m\\x00\u001b[39;00m\u001b[38;5;130;01m\\x00\u001b[39;00m\u001b[38;5;130;01m\\x00\u001b[39;00m\u001b[38;5;130;01m\\x00\u001b[39;00m\u001b[38;5;124m'\u001b[39m \u001b[38;5;241m+\u001b[39m key, DES\u001b[38;5;241m.\u001b[39mMODE_ECB)\n\u001b[1;32m     10\u001b[0m message \u001b[38;5;241m=\u001b[39m cipher\u001b[38;5;241m.\u001b[39mdecrypt(ciphertext)\n\u001b[0;32m---> 11\u001b[0m likelihood \u001b[38;5;241m=\u001b[39m \u001b[43mis_english_text\u001b[49m\u001b[43m(\u001b[49m\u001b[43mmessage\u001b[49m\u001b[43m)\u001b[49m\n\u001b[1;32m     12\u001b[0m \u001b[38;5;28;01mif\u001b[39;00m likelihood \u001b[38;5;241m>\u001b[39m max_likelihood:\n\u001b[1;32m     13\u001b[0m     max_likelihood \u001b[38;5;241m=\u001b[39m likelihood\n",
      "Cell \u001b[0;32mIn[9], line 27\u001b[0m, in \u001b[0;36mis_english_text\u001b[0;34m(text)\u001b[0m\n\u001b[1;32m     25\u001b[0m chi_squared \u001b[38;5;241m=\u001b[39m \u001b[38;5;241m0.0\u001b[39m\n\u001b[1;32m     26\u001b[0m \u001b[38;5;28;01mfor\u001b[39;00m letter, expected_freq \u001b[38;5;129;01min\u001b[39;00m english_letter_freq\u001b[38;5;241m.\u001b[39mitems():\n\u001b[0;32m---> 27\u001b[0m     observed_freq \u001b[38;5;241m=\u001b[39m \u001b[43mtext_letter_freq\u001b[49m\u001b[38;5;241;43m.\u001b[39;49m\u001b[43mget\u001b[49m\u001b[43m(\u001b[49m\u001b[43mletter\u001b[49m\u001b[43m,\u001b[49m\u001b[43m \u001b[49m\u001b[38;5;241;43m0\u001b[39;49m\u001b[43m)\u001b[49m \u001b[38;5;241m/\u001b[39m total_letters \u001b[38;5;241m*\u001b[39m \u001b[38;5;241m100\u001b[39m\n\u001b[1;32m     28\u001b[0m     chi_squared \u001b[38;5;241m+\u001b[39m\u001b[38;5;241m=\u001b[39m ((observed_freq \u001b[38;5;241m-\u001b[39m expected_freq) \u001b[38;5;241m*\u001b[39m\u001b[38;5;241m*\u001b[39m \u001b[38;5;241m2\u001b[39m) \u001b[38;5;241m/\u001b[39m expected_freq\n\u001b[1;32m     30\u001b[0m \u001b[38;5;66;03m# Return the inverse of chi-squared as a measure of likelihood\u001b[39;00m\n",
      "\u001b[0;31mKeyboardInterrupt\u001b[0m: "
     ]
    }
   ],
   "source": [
    "max_likelihood = 0.0\n",
    "best_key = None\n",
    "best_message = None\n",
    "ciphertext = bytes.fromhex('c73fb0bfb946de6dba96dddef0e84f4a6590db68a7262923383acfb3b4944e7802f3b9137f87a5e87178b006e746c91690907a3cc9e96de0048fbca86972f8afa176290f433b49b5504a249c0791913f11001eea20161f5fefcccffe120e17a2d484416192cd0a6a0baa73f1ee4728ab45df479650a9e8592542515d84ed7a2e814dd0689cce36dd')\n",
    "\n",
    "# Generate all possible keys\n",
    "for i in range(2**(3*8)):\n",
    "    key = i.to_bytes(3, byteorder='big')\n",
    "    cipher = DES.new(b'\\x00\\x00\\x00\\x00\\x00' + key, DES.MODE_ECB)\n",
    "    message = cipher.decrypt(ciphertext)\n",
    "    likelihood = is_english_text(message)\n",
    "    if likelihood > max_likelihood:\n",
    "        max_likelihood = likelihood\n",
    "        best_key = key\n",
    "        best_message = message\n",
    "    if i % 100000 == 0:\n",
    "        print(f'Key: {key.hex()}, Likelihood: {max_likelihood}, Message: {best_message}')\n",
    "        \n",
    "print(f'Best key: {best_key.hex()}')\n",
    "print(f'Best message: {best_message.decode()}')"
   ]
  }
 ],
 "metadata": {
  "kernelspec": {
   "display_name": ".venv",
   "language": "python",
   "name": "python3"
  },
  "language_info": {
   "codemirror_mode": {
    "name": "ipython",
    "version": 3
   },
   "file_extension": ".py",
   "mimetype": "text/x-python",
   "name": "python",
   "nbconvert_exporter": "python",
   "pygments_lexer": "ipython3",
   "version": "3.13.1"
  }
 },
 "nbformat": 4,
 "nbformat_minor": 2
}

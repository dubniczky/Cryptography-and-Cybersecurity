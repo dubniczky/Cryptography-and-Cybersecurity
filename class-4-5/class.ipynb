{
 "cells": [
  {
   "cell_type": "markdown",
   "metadata": {},
   "source": [
    "# Binary operations in Python"
   ]
  },
  {
   "cell_type": "code",
   "execution_count": 9,
   "metadata": {},
   "outputs": [
    {
     "data": {
      "text/plain": [
       "(1, 17)"
      ]
     },
     "execution_count": 9,
     "metadata": {},
     "output_type": "execute_result"
    }
   ],
   "source": [
    "0x01 & 0x01, 0x01 | 0x10"
   ]
  },
  {
   "cell_type": "code",
   "execution_count": 1,
   "metadata": {},
   "outputs": [
    {
     "data": {
      "text/plain": [
       "0"
      ]
     },
     "execution_count": 1,
     "metadata": {},
     "output_type": "execute_result"
    }
   ],
   "source": [
    "0x01 ^ 0x01"
   ]
  },
  {
   "cell_type": "code",
   "execution_count": 3,
   "metadata": {},
   "outputs": [
    {
     "data": {
      "text/plain": [
       "17"
      ]
     },
     "execution_count": 3,
     "metadata": {},
     "output_type": "execute_result"
    }
   ],
   "source": [
    "0x01 ^ 0x10"
   ]
  },
  {
   "cell_type": "code",
   "execution_count": 4,
   "metadata": {},
   "outputs": [
    {
     "data": {
      "text/plain": [
       "'00010001'"
      ]
     },
     "execution_count": 4,
     "metadata": {},
     "output_type": "execute_result"
    }
   ],
   "source": [
    "f'{0x01 ^ 0x10:08b}'"
   ]
  },
  {
   "cell_type": "code",
   "execution_count": 5,
   "metadata": {},
   "outputs": [
    {
     "data": {
      "text/plain": [
       "'00000011'"
      ]
     },
     "execution_count": 5,
     "metadata": {},
     "output_type": "execute_result"
    }
   ],
   "source": [
    "f'{0x01 ^ 0x10:08x}'"
   ]
  },
  {
   "cell_type": "code",
   "execution_count": 2,
   "metadata": {},
   "outputs": [
    {
     "data": {
      "text/plain": [
       "'00010000'"
      ]
     },
     "execution_count": 2,
     "metadata": {},
     "output_type": "execute_result"
    }
   ],
   "source": [
    "f'{0x10:08b}'"
   ]
  },
  {
   "cell_type": "code",
   "execution_count": 1,
   "metadata": {},
   "outputs": [
    {
     "data": {
      "text/plain": [
       "'00001000'"
      ]
     },
     "execution_count": 1,
     "metadata": {},
     "output_type": "execute_result"
    }
   ],
   "source": [
    "f'{0x10 >> 1:08b}'"
   ]
  },
  {
   "cell_type": "code",
   "execution_count": 24,
   "metadata": {},
   "outputs": [
    {
     "data": {
      "text/plain": [
       "('00001000', '00000100', '01000000')"
      ]
     },
     "execution_count": 24,
     "metadata": {},
     "output_type": "execute_result"
    }
   ],
   "source": [
    "# Bitshift\n",
    "f'{0x10 >> 1:08b}', f'{0x10 >> 2:08b}', f'{0x10 << 2:08b}'"
   ]
  },
  {
   "cell_type": "code",
   "execution_count": 61,
   "metadata": {},
   "outputs": [
    {
     "data": {
      "text/plain": [
       "(0, 255, 86)"
      ]
     },
     "execution_count": 61,
     "metadata": {},
     "output_type": "execute_result"
    }
   ],
   "source": [
    "import secrets\n",
    "b = secrets.token_bytes(100)\n",
    "\n",
    "ands = 0x1f\n",
    "ors = 0x1f\n",
    "xors = 0x1f\n",
    "\n",
    "for bb in b:\n",
    "    ands &= bb\n",
    "    ors |= bb\n",
    "    xors ^= bb\n",
    "    \n",
    "ands, ors, xors"
   ]
  },
  {
   "cell_type": "code",
   "execution_count": 23,
   "metadata": {},
   "outputs": [
    {
     "data": {
      "text/plain": [
       "('01010000', '00101000', '00010100', '10000010', '01000001')"
      ]
     },
     "execution_count": 23,
     "metadata": {},
     "output_type": "execute_result"
    }
   ],
   "source": [
    "#bit rotate\n",
    "def bin(n):\n",
    "    return f'{n:08b}'\n",
    "\n",
    "def rotr(n, rotations, width=8):\n",
    "    rotations %= width\n",
    "    return (n >> rotations) | (n << (width - rotations)) & 0xff\n",
    "\n",
    "def rotl(n, rotations, width=8):\n",
    "    rotations %= width\n",
    "    return (n << rotations) & 0xff | (n >> (width - rotations))\n",
    "\n",
    "bin(0x50), bin(rotr(0x50, 1)), bin(rotr(0x50, 2)), bin(rotr(0x50, 5)), bin(rotl(0x50, 2))"
   ]
  },
  {
   "cell_type": "markdown",
   "metadata": {},
   "source": [
    "# Padding"
   ]
  },
  {
   "cell_type": "code",
   "execution_count": null,
   "metadata": {},
   "outputs": [],
   "source": [
    "# Padding scheme: Zero Padding\n",
    "\n",
    "def pad(data: bytes, block_size: int, b: bytes = b'\\x00') -> bytes:\n",
    "    if len(data) > 0 and len(data) % block_size == 0:\n",
    "        # If the data is already a multiple of the block size, we don't need to pad it, except if the data is empty\n",
    "        return data\n",
    "    padding = block_size - len(data) % block_size\n",
    "    return data + b * padding\n",
    "\n",
    "def unpad(data: bytes, b: bytes = b'\\x00') -> bytes:\n",
    "    return data.rstrip(b)\n",
    "\n",
    "\n",
    "assert pad(b'hello', 8) == b'hello\\x00\\x00\\x00'\n",
    "assert pad(b'welcome stranger', 8) == b'welcome stranger'\n",
    "assert pad(b'welcome stranger!', 8) == b'welcome stranger!\\x00\\x00\\x00\\x00\\x00\\x00\\x00'\n",
    "assert pad(b'', 4) == b'\\x00\\x00\\x00\\x00'\n",
    "assert unpad(b'\\x00\\x00') == b''\n",
    "assert unpad(pad(b'hello', 8)) == b'hello'"
   ]
  },
  {
   "cell_type": "code",
   "execution_count": 3,
   "metadata": {},
   "outputs": [],
   "source": [
    "# Padding scheme: ANSI X.923\n",
    "\n",
    "def pad(data: bytes, block_size: int) -> bytes | None:\n",
    "    if block_size < 1 or block_size > 256:\n",
    "        return None # Invalid block size\n",
    "    pad_len = block_size - (len(data) % block_size)\n",
    "    if pad_len == 0:\n",
    "        pad_len = block_size\n",
    "    return data + b'\\x00' * (pad_len - 1) + bytes([pad_len])\n",
    "\n",
    "def unpad(data: bytes) -> bytes | None:\n",
    "    pad_len = data[-1]\n",
    "    if pad_len < 1 or pad_len > len(data):\n",
    "        return None # Invalid padding\n",
    "    return data[:-pad_len]\n",
    "\n",
    "\n",
    "assert pad(b'hello', 8) == b'hello\\x00\\x00\\x03'\n",
    "assert pad(b'123', 4) == b'123\\x01'\n",
    "assert pad(b'1234', 4) == b'1234\\x00\\x00\\x00\\x04'\n",
    "assert pad(b'welcome stranger', 8) == b'welcome stranger\\x00\\x00\\x00\\x00\\x00\\x00\\x00\\x08'\n",
    "assert pad(b'welcome stranger!', 8) == b'welcome stranger!\\x00\\x00\\x00\\x00\\x00\\x00\\x07'\n",
    "assert pad(b'', 4) == b'\\x00\\x00\\x00\\x04'\n",
    "assert unpad(b'\\x00\\x00\\x00\\x02') == b'\\x00\\x00'\n",
    "assert unpad(pad(b'hello', 8)) == b'hello'\n",
    "assert unpad(pad(b'this is a long message, taking up multiple blocks', 4)) == b'this is a long message, taking up multiple blocks'"
   ]
  },
  {
   "cell_type": "code",
   "execution_count": 2,
   "metadata": {},
   "outputs": [],
   "source": [
    "# Padding scheme: ISO 7816-4\n",
    "\n",
    "def pad(data: bytes, block_size: int) -> bytes | None:\n",
    "    if block_size < 1:\n",
    "        return None # Invalid block size\n",
    "    pad_len = block_size - (len(data) % block_size)\n",
    "    if pad_len == 0:\n",
    "        pad_len = block_size\n",
    "    return data + b'\\x80' + b'\\x00' * (pad_len - 1)\n",
    "\n",
    "def unpad(data: bytes) -> bytes | None:\n",
    "    # Find the last occurrence of 0x80 and remove it and any trailing zeros.\n",
    "    index = data.rfind(b'\\x80')\n",
    "    if index == -1:\n",
    "        return None\n",
    "    return data[:index]\n",
    "\n",
    "\n",
    "assert pad(b'hello', 8) == b'hello\\x80\\x00\\x00'\n",
    "assert pad(b'123', 4) == b'123\\x80'\n",
    "assert pad(b'1234', 4) == b'1234\\x80\\x00\\x00\\x00'\n",
    "assert pad(b'welcome stranger', 8) == b'welcome stranger\\x80\\x00\\x00\\x00\\x00\\x00\\x00\\x00'\n",
    "assert pad(b'welcome stranger!', 8) == b'welcome stranger!\\x80\\x00\\x00\\x00\\x00\\x00\\x00'\n",
    "assert pad(b'', 4) == b'\\x80\\x00\\x00\\x00'\n",
    "assert unpad(b'\\x00\\x00\\x80\\x00') == b'\\x00\\x00'\n",
    "assert unpad(pad(b'hello', 8)) == b'hello'\n",
    "assert unpad(pad(b'this is a long message, taking up multiple blocks', 4)) == b'this is a long message, taking up multiple blocks'"
   ]
  },
  {
   "cell_type": "markdown",
   "metadata": {},
   "source": [
    "# Hashing"
   ]
  },
  {
   "cell_type": "code",
   "execution_count": 6,
   "metadata": {},
   "outputs": [],
   "source": [
    "# Simple XOR hash function\n",
    "\n",
    "def hash(data: bytes) -> int:\n",
    "    result = 0xFF\n",
    "    for byte in data:\n",
    "        result ^= byte\n",
    "    return result\n",
    "\n",
    "\n",
    "assert hash(b'abcd') == 251\n",
    "assert hash(b'') == 255\n",
    "assert hash(b'Deep in the Hundred Acre Wood, Where Christopher Robin plays, You\\'ll find the enchanted neighborhood, Of Christopher\\'s childhood days') == 209"
   ]
  },
  {
   "cell_type": "code",
   "execution_count": 5,
   "metadata": {},
   "outputs": [],
   "source": [
    "#  CRC-32 algorithm, ISO-HDLC version.\n",
    "# The CRC-32 algorithm is a widely used checksum algorithm that is used in ethernet, zip files, and many other applications.\n",
    "# The algorithm is simple: it XORs the next byte with the CRC, and then shifts the CRC right 8 times, XORing with 0xEDB88320 if the least significant bit is set.\n",
    "# It is not cryptographically secure, but it is fast and easy to implement.\n",
    "\n",
    "\n",
    "def hash(data: bytes) -> int:\n",
    "    crc = 0xFFFFFFFF # 4 bytes of 1s\n",
    "    for byte in data:\n",
    "        crc ^= byte # XOR with the next byte\n",
    "        for _ in range(8):\n",
    "            if crc & 1:\n",
    "                crc = (crc >> 1) ^ 0xEDB88320 # 0xEDB88320 is the reversed polynomial\n",
    "            else:\n",
    "                crc >>= 1\n",
    "    return crc ^ 0xFFFFFFFF\n",
    "\n",
    "assert hash(b\"abcdefgh\") == 0xAEEF2A50"
   ]
  },
  {
   "cell_type": "code",
   "execution_count": 4,
   "metadata": {},
   "outputs": [],
   "source": [
    "# MD5 hash scheme (MD5 algorithm specification: https://tools.ietf.org/html/rfc1321)\n",
    "# The md5 hash function takes in an arbitrary length message and returns a 128-bit hash value\n",
    "\n",
    "import struct\n",
    "\n",
    "\n",
    "def _process_chunk(state, chunk):\n",
    "    assert len(chunk) == 64\n",
    "\n",
    "    a, b, c, d = state\n",
    "    \n",
    "    # Unpack the chunk into 16 32-bit little-endian integers for the transofmations\n",
    "    x = list(struct.unpack(\"<16I\", chunk))\n",
    "    \n",
    "    # Left rotation function\n",
    "    def rotate_left(x, n): return (x << n) | (x >> (32 - n))\n",
    "\n",
    "    # Helper functions for the transformation functions\n",
    "    def F(x, y, z): return (x & y) | (~x & z)\n",
    "    def G(x, y, z): return (x & z) | (y & ~z)\n",
    "    def H(x, y, z): return x ^ y ^ z\n",
    "    def I(x, y, z): return y ^ (x | ~z)\n",
    "\n",
    "    # Transformation functions, these do the bulk of the work of the irreversible transformation\n",
    "    def FF(a, b, c, d, x, s, ac):\n",
    "        a = (a + F(b, c, d) + x + ac) & 0xFFFFFFFF # The & 0xFFFFFFFF is to keep the result as a 32-bit integer\n",
    "        return (b + rotate_left(a, s)) & 0xFFFFFFFF\n",
    "\n",
    "    def GG(a, b, c, d, x, s, ac):\n",
    "        a = (a + G(b, c, d) + x + ac) & 0xFFFFFFFF\n",
    "        return (b + rotate_left(a, s)) & 0xFFFFFFFF\n",
    "\n",
    "    def HH(a, b, c, d, x, s, ac):\n",
    "        a = (a + H(b, c, d) + x + ac) & 0xFFFFFFFF\n",
    "        return (b + rotate_left(a, s)) & 0xFFFFFFFF\n",
    "\n",
    "    def II(a, b, c, d, x, s, ac):\n",
    "        a = (a + I(b, c, d) + x + ac) & 0xFFFFFFFF\n",
    "        return (b + rotate_left(a, s)) & 0xFFFFFFFF\n",
    "\n",
    "    # Round 1\n",
    "    # Each round has 16 steps, one for each of the 16 32-bit integers in the chunk\n",
    "    # Each step has the same transformation function, but order of inputs and constants\n",
    "    # The constants come from the MD5 algorithm specification\n",
    "    a = FF(a, b, c, d, x[0], 7, 0xd76aa478)\n",
    "    d = FF(d, a, b, c, x[1], 12, 0xe8c7b756)\n",
    "    c = FF(c, d, a, b, x[2], 17, 0x242070db)\n",
    "    b = FF(b, c, d, a, x[3], 22, 0xc1bdceee)\n",
    "    a = FF(a, b, c, d, x[4], 7, 0xf57c0faf)\n",
    "    d = FF(d, a, b, c, x[5], 12, 0x4787c62a)\n",
    "    c = FF(c, d, a, b, x[6], 17, 0xa8304613)\n",
    "    b = FF(b, c, d, a, x[7], 22, 0xfd469501)\n",
    "    a = FF(a, b, c, d, x[8], 7, 0x698098d8)\n",
    "    d = FF(d, a, b, c, x[9], 12, 0x8b44f7af)\n",
    "    c = FF(c, d, a, b, x[10], 17, 0xffff5bb1)\n",
    "    b = FF(b, c, d, a, x[11], 22, 0x895cd7be)\n",
    "    a = FF(a, b, c, d, x[12], 7, 0x6b901122)\n",
    "    d = FF(d, a, b, c, x[13], 12, 0xfd987193)\n",
    "    c = FF(c, d, a, b, x[14], 17, 0xa679438e)\n",
    "    b = FF(b, c, d, a, x[15], 22, 0x49b40821)\n",
    "\n",
    "    # Round 2\n",
    "    a = GG(a, b, c, d, x[1], 5, 0xf61e2562)\n",
    "    d = GG(d, a, b, c, x[6], 9, 0xc040b340)\n",
    "    c = GG(c, d, a, b, x[11], 14, 0x265e5a51)\n",
    "    b = GG(b, c, d, a, x[0], 20, 0xe9b6c7aa)\n",
    "    a = GG(a, b, c, d, x[5], 5, 0xd62f105d)\n",
    "    d = GG(d, a, b, c, x[10], 9, 0x02441453)\n",
    "    c = GG(c, d, a, b, x[15], 14, 0xd8a1e681)\n",
    "    b = GG(b, c, d, a, x[4], 20, 0xe7d3fbc8)\n",
    "    a = GG(a, b, c, d, x[9], 5, 0x21e1cde6)\n",
    "    d = GG(d, a, b, c, x[14], 9, 0xc33707d6)\n",
    "    c = GG(c, d, a, b, x[3], 14, 0xf4d50d87)\n",
    "    b = GG(b, c, d, a, x[8], 20, 0x455a14ed)\n",
    "    a = GG(a, b, c, d, x[13], 5, 0xa9e3e905)\n",
    "    d = GG(d, a, b, c, x[2], 9, 0xfcefa3f8)\n",
    "    c = GG(c, d, a, b, x[7], 14, 0x676f02d9)\n",
    "    b = GG(b, c, d, a, x[12], 20, 0x8d2a4c8a)\n",
    "\n",
    "    # Round 3\n",
    "    a = HH(a, b, c, d, x[5], 4, 0xfffa3942)\n",
    "    d = HH(d, a, b, c, x[8], 11, 0x8771f681)\n",
    "    c = HH(c, d, a, b, x[11], 16, 0x6d9d6122)\n",
    "    b = HH(b, c, d, a, x[14], 23, 0xfde5380c)\n",
    "    a = HH(a, b, c, d, x[1], 4, 0xa4beea44)\n",
    "    d = HH(d, a, b, c, x[4], 11, 0x4bdecfa9)\n",
    "    c = HH(c, d, a, b, x[7], 16, 0xf6bb4b60)\n",
    "    b = HH(b, c, d, a, x[10], 23, 0xbebfbc70)\n",
    "    a = HH(a, b, c, d, x[13], 4, 0x289b7ec6)\n",
    "    d = HH(d, a, b, c, x[0], 11, 0xeaa127fa)\n",
    "    c = HH(c, d, a, b, x[3], 16, 0xd4ef3085)\n",
    "    b = HH(b, c, d, a, x[6], 23, 0x04881d05)\n",
    "    a = HH(a, b, c, d, x[9], 4, 0xd9d4d039)\n",
    "    d = HH(d, a, b, c, x[12], 11, 0xe6db99e5)\n",
    "    c = HH(c, d, a, b, x[15], 16, 0x1fa27cf8)\n",
    "    b = HH(b, c, d, a, x[2], 23, 0xc4ac5665)\n",
    "\n",
    "    # Round 4\n",
    "    a = II(a, b, c, d, x[0], 6, 0xf4292244)\n",
    "    d = II(d, a, b, c, x[7], 10, 0x432aff97)\n",
    "    c = II(c, d, a, b, x[14], 15, 0xab9423a7)\n",
    "    b = II(b, c, d, a, x[5], 21, 0xfc93a039)\n",
    "    a = II(a, b, c, d, x[12], 6, 0x655b59c3)\n",
    "    d = II(d, a, b, c, x[3], 10, 0x8f0ccc92)\n",
    "    c = II(c, d, a, b, x[10], 15, 0xffeff47d)\n",
    "    b = II(b, c, d, a, x[1], 21, 0x85845dd1)\n",
    "    a = II(a, b, c, d, x[8], 6, 0x6fa87e4f)\n",
    "    d = II(d, a, b, c, x[15], 10, 0xfe2ce6e0)\n",
    "    c = II(c, d, a, b, x[6], 15, 0xa3014314)\n",
    "    b = II(b, c, d, a, x[13], 21, 0x4e0811a1)\n",
    "    a = II(a, b, c, d, x[4], 6, 0xf7537e82)\n",
    "    d = II(d, a, b, c, x[11], 10, 0xbd3af235)\n",
    "    c = II(c, d, a, b, x[2], 15, 0x2ad7d2bb)\n",
    "    b = II(b, c, d, a, x[9], 21, 0xeb86d391)\n",
    "    \n",
    "    return [\n",
    "        (state[0] + a) & 0xFFFFFFFF,\n",
    "        (state[1] + b) & 0xFFFFFFFF,\n",
    "        (state[2] + c) & 0xFFFFFFFF,\n",
    "        (state[3] + d) & 0xFFFFFFFF\n",
    "    ]\n",
    "\n",
    "def hash(data):\n",
    "    state = [ 0x67452301, 0xefcdab89, 0x98badcfe, 0x10325476 ] # Initial state, as per the MD5 algorithm specification\n",
    "    \n",
    "    # Move the data to another buffer it does not modifiy the original data\n",
    "    buffer = data[:]\n",
    "    \n",
    "    # Pad the data\n",
    "    # The padding consists of a single bit with value 1, followed by zeros, and finally the length of the original message\n",
    "    # This is the same as the ANSI X.923 padding scheme padding/x923.py\n",
    "    length = struct.pack(\"<Q\", len(data) * 8) # 8 bits per byte\n",
    "    buffer += b\"\\x80\" # Add the 1 bit, followed by 7 zeros to make a full byte\n",
    "    buffer += b\"\\x00\" * ((56 - len(buffer) % 64) % 64) # Pad to 56 bytes to account for the length at the end and the one byte at the start\n",
    "    buffer += length\n",
    "    \n",
    "    # Update the state with the padded data, until there is no more data left\n",
    "    while len(buffer) >= 64:\n",
    "        state = _process_chunk(state, buffer[:64]) # Process the first 64 bytes of the buffer\n",
    "        buffer = buffer[64:] # Remove the processed bytes from the buffer\n",
    "\n",
    "    return struct.pack(\"<4I\", *state) # Create a byte string from the integers\n",
    "\n",
    "\n",
    "assert hash(b'hello').hex() == \"5d41402abc4b2a76b9719d911017c592\"\n",
    "assert hash(b'').hex() == \"d41d8cd98f00b204e9800998ecf8427e\""
   ]
  }
 ],
 "metadata": {
  "kernelspec": {
   "display_name": ".venv",
   "language": "python",
   "name": "python3"
  },
  "language_info": {
   "codemirror_mode": {
    "name": "ipython",
    "version": 3
   },
   "file_extension": ".py",
   "mimetype": "text/x-python",
   "name": "python",
   "nbconvert_exporter": "python",
   "pygments_lexer": "ipython3",
   "version": "3.13.1"
  }
 },
 "nbformat": 4,
 "nbformat_minor": 2
}

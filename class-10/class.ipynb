{
 "cells": [
  {
   "cell_type": "markdown",
   "metadata": {},
   "source": [
    "# Asymmetric Cryptography"
   ]
  },
  {
   "cell_type": "markdown",
   "metadata": {},
   "source": [
    "# Prime Theory\n",
    "\n",
    "Prime numbers are natural numbers greater than 1 that have no positive divisor other than 1 and itself. All positive integers can be represented as product of primes.\n",
    "\n",
    "Why do we like them in cryptography?\n",
    "- There are an infinite number of primes (proven by euclid in 300 BCE)\n",
    "- There is no simple formula for them, they appear irregularly.\n",
    "- Easy to multiply large primes together, and there is only one correct factor, but it's hard to reverse."
   ]
  },
  {
   "cell_type": "code",
   "execution_count": 2,
   "metadata": {},
   "outputs": [
    {
     "ename": "KeyboardInterrupt",
     "evalue": "",
     "output_type": "error",
     "traceback": [
      "\u001b[0;31m---------------------------------------------------------------------------\u001b[0m",
      "\u001b[0;31mKeyboardInterrupt\u001b[0m                         Traceback (most recent call last)",
      "Cell \u001b[0;32mIn[2], line 14\u001b[0m\n\u001b[1;32m     11\u001b[0m             \u001b[38;5;28;01mreturn\u001b[39;00m \u001b[38;5;28;01mFalse\u001b[39;00m\n\u001b[1;32m     12\u001b[0m     \u001b[38;5;28;01mreturn\u001b[39;00m \u001b[38;5;28;01mTrue\u001b[39;00m\n\u001b[0;32m---> 14\u001b[0m is_prime_bruteforce(\u001b[38;5;241m19638107451297617283479599890578920365192471493289512735124045587\u001b[39m), \u001b[43mis_prime_bruteforce\u001b[49m\u001b[43m(\u001b[49m\u001b[38;5;241;43m179638107451297617283479599890578920365192471493289512735124045587\u001b[39;49m\u001b[43m)\u001b[49m\n",
      "Cell \u001b[0;32mIn[2], line 10\u001b[0m, in \u001b[0;36mis_prime_bruteforce\u001b[0;34m(n)\u001b[0m\n\u001b[1;32m      8\u001b[0m largest_possible_divisor \u001b[38;5;241m=\u001b[39m \u001b[38;5;28mint\u001b[39m(math\u001b[38;5;241m.\u001b[39msqrt(n)) \u001b[38;5;241m+\u001b[39m \u001b[38;5;241m1\u001b[39m\n\u001b[1;32m      9\u001b[0m \u001b[38;5;28;01mfor\u001b[39;00m i \u001b[38;5;129;01min\u001b[39;00m \u001b[38;5;28mrange\u001b[39m(\u001b[38;5;241m2\u001b[39m, largest_possible_divisor):\n\u001b[0;32m---> 10\u001b[0m     \u001b[38;5;28;01mif\u001b[39;00m n \u001b[38;5;241m%\u001b[39m i \u001b[38;5;241m==\u001b[39m \u001b[38;5;241m0\u001b[39m:\n\u001b[1;32m     11\u001b[0m         \u001b[38;5;28;01mreturn\u001b[39;00m \u001b[38;5;28;01mFalse\u001b[39;00m\n\u001b[1;32m     12\u001b[0m \u001b[38;5;28;01mreturn\u001b[39;00m \u001b[38;5;28;01mTrue\u001b[39;00m\n",
      "\u001b[0;31mKeyboardInterrupt\u001b[0m: "
     ]
    }
   ],
   "source": [
    "import math\n",
    "\n",
    "# Works 100% of the time, but slow for large numbers\n",
    "def is_prime_bruteforce(n: int) -> bool:\n",
    "    if n <= 1:\n",
    "        return False\n",
    "    \n",
    "    largest_possible_divisor = int(math.sqrt(n)) + 1\n",
    "    for i in range(2, largest_possible_divisor):\n",
    "        if n % i == 0:\n",
    "            return False\n",
    "    return True\n",
    "\n",
    "is_prime_bruteforce(19638107451297617283479599890578920365192471493289512735124045587), is_prime_bruteforce(179638107451297617283479599890578920365192471493289512735124045587)"
   ]
  },
  {
   "cell_type": "markdown",
   "metadata": {},
   "source": [
    "## Miller Rabin Primality test (MR)\n",
    "\n",
    "Much faster, but probabilistic.\n",
    "\n",
    "It performs rounds of testing, each round has a $\\frac{1}{4}$ chance of passing desptie being a composite number. This means that after $k$ rounds, the chance is $(\\frac{1}{4})^k$. Written another way: $2^{-2*k}$. With 40 rounds, the chances are $2^{-80}$, which is lower than the chance of cosmic rays hitting the RAM while computing it and flipping a bit. In practice, modern cryptographic libraries use $k=40$ or more.\n",
    "\n",
    "Increasing $k$ scales the computation linearly, but reduces the chances of errors exponentially.\n",
    "\n",
    "Many libraries also use a combination of:\n",
    "- Checking low primes brute-force style\n",
    "- Running a lot of MR rounds\n",
    "- Testing the primality of $(p-1)/2$ as well"
   ]
  },
  {
   "cell_type": "code",
   "execution_count": 3,
   "metadata": {},
   "outputs": [
    {
     "data": {
      "text/plain": [
       "(False, False)"
      ]
     },
     "execution_count": 3,
     "metadata": {},
     "output_type": "execute_result"
    }
   ],
   "source": [
    "# Miller-rabin primality test\n",
    "\n",
    "import random\n",
    "\n",
    "def is_prime_miller_rabin(n: int, k: int = 100) -> bool:\n",
    "    if n <= 1:\n",
    "        return False\n",
    "    if n <= 3:\n",
    "        return True\n",
    "    if n % 2 == 0:\n",
    "        return False\n",
    "\n",
    "    # Write n-1 as 2^r * d (with d odd)\n",
    "    r, d = 0, n - 1\n",
    "    while d % 2 == 0:\n",
    "        d //= 2\n",
    "        r += 1\n",
    "\n",
    "    # Perform k rounds of testing\n",
    "    for _ in range(k):\n",
    "        a = random.randint(2, n - 2)\n",
    "        x = pow(a, d, n)  # a^d mod n\n",
    "\n",
    "        if x == 1 or x == n - 1:\n",
    "            continue  # possibly prime, try next round\n",
    "\n",
    "        for _ in range(r - 1):\n",
    "            x = pow(x, 2, n)\n",
    "            if x == n - 1:\n",
    "                break  # passes this round\n",
    "        else:\n",
    "            return False  # definitely composite\n",
    "\n",
    "    return True  # probably prime\n",
    "\n",
    "is_prime_miller_rabin(179638107451297617283479599890578920365192471493289512735124045587, 5), is_prime_miller_rabin(2**2048 - 1, 40)"
   ]
  },
  {
   "cell_type": "code",
   "execution_count": null,
   "metadata": {},
   "outputs": [
    {
     "name": "stdout",
     "output_type": "stream",
     "text": [
      "12824093748255476097671899486749324483723642520245917471320241258325734628131908449189837842452016652989906112255822166604391296543226524839209023105565620152437534494844882738486386363399606600019580664466228067223013018120557116451560087589109706436680505144155277954504338254524716622273312328611220309599698390286449591155606783203411472346972272051543230062281254743146732767843197931754332283841083319849817951177698018473154488210797195731727425184032655704795320596149079208942809045335297668105990112962952686370889625542210970587616111463500968756793106228306554871460375998072556142232629864242958108270017\n"
     ]
    }
   ],
   "source": [
    "# Generating random prime numbers of a specified bit length\n",
    "\n",
    "from sympy import nextprime\n",
    "import secrets\n",
    "\n",
    "random_number = secrets.randbits(2048)\n",
    "nextprime(random_number)"
   ]
  },
  {
   "cell_type": "markdown",
   "metadata": {},
   "source": [
    "## Relatively Prime Numbers\n",
    "\n",
    "### Greatest Common Divisor\n",
    "\n",
    "The greatest common divisor (GCD) is the largest posirive integer that divides both $a$ and $b$ without remainder. Two numbers are coprime (relatively prime) if $gcd(a,b)=1$, so they share no common divisors except 1. This does NOT mean they are both prime.\n",
    "\n",
    "Example: $gcd(8,15)=1$, yet neither are primes.\n",
    "\n",
    "### Euler's Totient Function ($\\varphi$)\n",
    "\n",
    "$\\varphi(n)=$ The number of integers $\\le n$ that are coprimes of $n$\n",
    "\n",
    "Special cases:\n",
    "- For a prime $p$, $\\varphi(p)=(p-1)$\n",
    "- For a product of primes $n=p*q$, $\\varphi(n)=(p-1)(q-1)$"
   ]
  },
  {
   "cell_type": "code",
   "execution_count": 19,
   "metadata": {},
   "outputs": [
    {
     "data": {
      "text/plain": [
       "(5, 1)"
      ]
     },
     "execution_count": 19,
     "metadata": {},
     "output_type": "execute_result"
    }
   ],
   "source": [
    "import math\n",
    "\n",
    "math.gcd(15, 25), math.gcd(15, 28)"
   ]
  },
  {
   "cell_type": "markdown",
   "metadata": {},
   "source": [
    "## Modular Arthmetic\n",
    "\n",
    "Also called \"clock arithmetic\" where the operation wraps around when reaching a given modulus, similar to how clock hour hand returns to 1 after 12 no matter how many hours pass.\n",
    "\n",
    "If we add 2 hours to 6, we get 8. If we add 5 hours to 8, we get 1.\n",
    "\n",
    "$17$ mod $5 = 2$\n",
    "\n",
    "In cryptography:\n",
    "\n",
    "$c = m^k$ mod $n$\n",
    "\n",
    "### Modular Inverse\n",
    "\n",
    "The modular invesrse of $a$ mod $m$ is a number $x$, such that $a*x \\equiv 1$ mod $m$. This only exists if $gcd(a,m)=1$"
   ]
  },
  {
   "cell_type": "code",
   "execution_count": null,
   "metadata": {},
   "outputs": [
    {
     "data": {
      "text/plain": [
       "2"
      ]
     },
     "execution_count": 20,
     "metadata": {},
     "output_type": "execute_result"
    }
   ],
   "source": [
    "# Modular inverse using the pow function\n",
    "a = 7\n",
    "p = 13\n",
    "pow(a, -1, p) # Fermat's little theorem"
   ]
  },
  {
   "cell_type": "markdown",
   "metadata": {},
   "source": [
    "## Fast Modular Exponentiation\n",
    "\n",
    "Normally, computing $a^b$ mod $n$ would require $b$ number of multiplications and the same number of modulo operations. This is slow for big $b$ numbers.\n",
    "\n",
    "### Normal exponentiation\n",
    "\n",
    "$a ^ b$: means having to do multiplication $b$ times.\n",
    "\n",
    "Example $3^{17} = 3*3*3*3*3*3*3*3*3*3*3*3*3*3*3*3*3$\n",
    "\n",
    "We know that $a^{b*c} = (a^b)^c$\n",
    "\n",
    "So we can simplify as: $3 * (3^8)^2 \\rightarrow 3 * ((3^4)^2)^2 \\rightarrow 3 * (((3^2)^2)^2)^2$ = 5 operations instead of 17. The number of operations is going to be the logarithm of the number $\\log{n}$, the same as the number of bits it consists of. 2048 bit number $\\rightarrow$ 2048 number of operations.\n",
    "\n",
    "## Modular exponentiation\n",
    "\n",
    "This is the same for modular numbers, as\n",
    "\n",
    "We know that $a^{b*c}$ mod $n = (a^b)^c$ mod $n$\n"
   ]
  },
  {
   "cell_type": "markdown",
   "metadata": {},
   "source": [
    "## The Diffie-Hellman Key Exchange\n",
    "\n",
    "The DH relies on the Discrete Logarithm Problem being hard:\n",
    "\n",
    "Given $g$, $p$ primes, and $A=g^a$ mod $p$, it's computationally infeasible to find $a$, especially for a large $p$. This generates the multiplicative group of integers modulo $p$: $\\mathbb{Z}^*_p$"
   ]
  },
  {
   "cell_type": "code",
   "execution_count": 19,
   "metadata": {},
   "outputs": [
    {
     "data": {
      "text/plain": [
       "(9, 9)"
      ]
     },
     "execution_count": 19,
     "metadata": {},
     "output_type": "execute_result"
    }
   ],
   "source": [
    "## Diffie-Hellman Key Exchange with small numbers\n",
    "g = 3\n",
    "p = 23\n",
    "\n",
    "a = 6 # Alice's private key\n",
    "A = pow(g, a, p) # Alice's public key (A = g^a mod p)\n",
    "# A = 3^6 mod 23 = 16\n",
    "\n",
    "b = 15 # Bob's private key\n",
    "B = pow(g, b, p) # Bob's public key (B = g^b mod p)\n",
    "# B = 3^15 mod 23 = 12\n",
    "\n",
    "# Exchange public keys\n",
    "\n",
    "# Alice computes the shared secret\n",
    "sa = pow(B, a, p) # s_a = B^a mod p\n",
    "# sa = 12^6 mod 23 = 9\n",
    "\n",
    "# Bob computes the shared secret\n",
    "sb = pow(A, b, p) # s_b = A^b mod p\n",
    "# sb = 16^15 mod 23 = 9\n",
    "\n",
    "assert sa == sb\n",
    "sa, sb"
   ]
  },
  {
   "cell_type": "markdown",
   "metadata": {},
   "source": [
    "Public key consists of:\n",
    "- $g$, generator\n",
    "- $p$, prime modulus\n",
    "- $A$ or $B$, public key\n",
    "\n",
    "$pk_A = (3, 23, 16)$, $pk_B = (3, 23, 12)$\n",
    "\n",
    "Private key consists of:\n",
    "- $g$, generator\n",
    "- $p$, prime modulus\n",
    "- $a$ or $b$, private key\n",
    "\n",
    "$sk_A = (3, 23, 6)$, $sk_B = (3, 23, 15)$\n",
    "\n",
    "$s_{AB} = 9 = s_{BA} = 9$"
   ]
  },
  {
   "cell_type": "code",
   "execution_count": 18,
   "metadata": {},
   "outputs": [
    {
     "data": {
      "text/plain": [
       "(73150390937866516482388147053604741393865591579446363812163310109385980588192161402150228620977016090672127960489254679917560876397630624338874535075954484744959462015918798809135676554848266198628090877264832916044073826184626212774215004760501810098094454141957060972890174166665096248083388299755264765777,\n",
       " 73150390937866516482388147053604741393865591579446363812163310109385980588192161402150228620977016090672127960489254679917560876397630624338874535075954484744959462015918798809135676554848266198628090877264832916044073826184626212774215004760501810098094454141957060972890174166665096248083388299755264765777)"
      ]
     },
     "execution_count": 18,
     "metadata": {},
     "output_type": "execute_result"
    }
   ],
   "source": [
    "## Diffie-Hellman Key Exchange with big numbers\n",
    "\n",
    "import random\n",
    "import secrets\n",
    "from sympy import nextprime\n",
    "\n",
    "\n",
    "# Generator to use, which must be a primitive root modulo p\n",
    "# Since 5 is a prime, it is fine to use with any prime p (except 5)\n",
    "g = 5\n",
    "# Prime number for the size of the group\n",
    "# 1024 bits is a common size for DHKE\n",
    "bits = 1024\n",
    "# Prime number to use as the modulus\n",
    "# Generate a random prime number of the specified size\n",
    "p = nextprime(secrets.randbits(bits))\n",
    "\n",
    "# Generate a private key for alice\n",
    "a = random.randint(1, p - 1) # Any number below p is fine\n",
    "A = pow(g, a, p) # Alice's public key\n",
    "\n",
    "# Generate a private key for bob\n",
    "b = random.randint(1, p - 1) # Any number below p is fine\n",
    "B = pow(g, b, p) # Bob's public key\n",
    "\n",
    "# Calculate the shared secret\n",
    "sb = pow(A, b, p) # Shared secret for bob\n",
    "sa = pow(B, a, p) # Shared secret for alice\n",
    "\n",
    "assert sa == sb\n",
    "sa, sb"
   ]
  },
  {
   "cell_type": "code",
   "execution_count": 8,
   "metadata": {},
   "outputs": [
    {
     "data": {
      "text/plain": [
       "'1962e80c5696cae1522ab11bf8683d189906d837a92a6d884e6d131fa45d224b0537a4f12ff2cd1e83bf9045b2f80229db7eee41371b65d14896fbbdd24bea6eb340adfdc074a4b1dbc621b4f922a4ce4c5cf691b1003fae9ae450bd1263fbc0ba2187e2a39341213a9e67762316fe1f2666677cdb4b2a745361307c1be15182'"
      ]
     },
     "execution_count": 8,
     "metadata": {},
     "output_type": "execute_result"
    }
   ],
   "source": [
    "alice_key_bytes = sa.to_bytes(bits // 8, byteorder='big')\n",
    "alice_key_bytes.hex()"
   ]
  },
  {
   "cell_type": "code",
   "execution_count": 12,
   "metadata": {},
   "outputs": [
    {
     "name": "stdout",
     "output_type": "stream",
     "text": [
      "a9dcc886933dc4ff676c30144aa30fe1e4092dba466116a7f792fe0e60f110ef9c8af7a7bbe7b4a23228cb37651cc8a8b0562a5779fc48d4044b626513d9990a38b5d722af5b2d933aa0172f00cb68bd\n"
     ]
    }
   ],
   "source": [
    "from Crypto.Cipher import AES\n",
    "from Crypto.Random import get_random_bytes\n",
    "from Crypto.Util.Padding import pad\n",
    "\n",
    "import hashlib\n",
    "\n",
    "# Why hash?\n",
    "# a, key is too long and has variable length (bitsize / 8)\n",
    "# b, parts of the key is not random enough (first 32 bytes of the key may have common patterns or leading zeros for instance)\n",
    "key = hashlib.sha256(alice_key_bytes).digest()\n",
    "message = b'alice sends this message to bob to salute for all the work he has done'\n",
    "\n",
    "iv = get_random_bytes(16)\n",
    "cipher_cbc = AES.new(key, AES.MODE_CBC, iv)\n",
    "ciphertext = cipher_cbc.encrypt(pad(message, 16))\n",
    "print(ciphertext.hex())"
   ]
  },
  {
   "cell_type": "code",
   "execution_count": 13,
   "metadata": {},
   "outputs": [
    {
     "data": {
      "text/plain": [
       "'alice sends this message to bob to salute for all the work he has done'"
      ]
     },
     "execution_count": 13,
     "metadata": {},
     "output_type": "execute_result"
    }
   ],
   "source": [
    "from Crypto.Util.Padding import unpad\n",
    "\n",
    "bob_key_bytes = sa.to_bytes(bits // 8, byteorder='big')\n",
    "key = hashlib.sha256(bob_key_bytes).digest()\n",
    "\n",
    "cipher = AES.new(key, AES.MODE_CBC, iv)\n",
    "message = unpad(cipher.decrypt(ciphertext), 16)\n",
    "message.decode('utf-8')"
   ]
  },
  {
   "cell_type": "code",
   "execution_count": 1,
   "metadata": {},
   "outputs": [
    {
     "name": "stdout",
     "output_type": "stream",
     "text": [
      "Collecting cryptography\n",
      "  Downloading cryptography-44.0.2-cp39-abi3-macosx_10_9_universal2.whl.metadata (5.7 kB)\n",
      "Collecting cffi>=1.12 (from cryptography)\n",
      "  Using cached cffi-1.17.1-cp313-cp313-macosx_11_0_arm64.whl.metadata (1.5 kB)\n",
      "Collecting pycparser (from cffi>=1.12->cryptography)\n",
      "  Using cached pycparser-2.22-py3-none-any.whl.metadata (943 bytes)\n",
      "Downloading cryptography-44.0.2-cp39-abi3-macosx_10_9_universal2.whl (6.7 MB)\n",
      "\u001b[2K   \u001b[90m━━━━━━━━━━━━━━━━━━━━━━━━━━━━━━━━━━━━━━━━\u001b[0m \u001b[32m6.7/6.7 MB\u001b[0m \u001b[31m46.9 MB/s\u001b[0m eta \u001b[36m0:00:00\u001b[0m\n",
      "\u001b[?25hUsing cached cffi-1.17.1-cp313-cp313-macosx_11_0_arm64.whl (178 kB)\n",
      "Using cached pycparser-2.22-py3-none-any.whl (117 kB)\n",
      "Installing collected packages: pycparser, cffi, cryptography\n",
      "Successfully installed cffi-1.17.1 cryptography-44.0.2 pycparser-2.22\n",
      "\n",
      "\u001b[1m[\u001b[0m\u001b[34;49mnotice\u001b[0m\u001b[1;39;49m]\u001b[0m\u001b[39;49m A new release of pip is available: \u001b[0m\u001b[31;49m24.3.1\u001b[0m\u001b[39;49m -> \u001b[0m\u001b[32;49m25.0.1\u001b[0m\n",
      "\u001b[1m[\u001b[0m\u001b[34;49mnotice\u001b[0m\u001b[1;39;49m]\u001b[0m\u001b[39;49m To update, run: \u001b[0m\u001b[32;49mpip install --upgrade pip\u001b[0m\n"
     ]
    }
   ],
   "source": [
    "# Cryptography library with sensible defaults and safe primitives\n",
    "# Pycryptodome is a low-level library that is not as safe as cryptography to build protocols manually\n",
    "!pip install cryptography"
   ]
  },
  {
   "cell_type": "code",
   "execution_count": null,
   "metadata": {},
   "outputs": [
    {
     "name": "stdout",
     "output_type": "stream",
     "text": [
      "Shared AES key: 5401a4113eb0b7625a8f715dcd971ce34ea48f9836ad473a309c1ac721494064\n"
     ]
    }
   ],
   "source": [
    "# Real world example\n",
    "\n",
    "from cryptography.hazmat.primitives.asymmetric import dh\n",
    "from cryptography.hazmat.primitives import serialization, hashes\n",
    "from cryptography.hazmat.primitives.kdf.hkdf import HKDF\n",
    "from cryptography.hazmat.backends import default_backend\n",
    "\n",
    "# 1. Generate shared parameters (use a safe prime group)\n",
    "parameters = dh.generate_parameters(generator=2, key_size=2048, backend=default_backend())\n",
    "\n",
    "# 2. Each party generates their private/public key pair\n",
    "alice_private_key = parameters.generate_private_key()\n",
    "bob_private_key = parameters.generate_private_key()\n",
    "\n",
    "alice_public_key = alice_private_key.public_key()\n",
    "bob_public_key = bob_private_key.public_key()\n",
    "\n",
    "# 3. Exchange public keys and compute the shared secret\n",
    "alice_shared_key = alice_private_key.exchange(bob_public_key)\n",
    "bob_shared_key = bob_private_key.exchange(alice_public_key)\n",
    "\n",
    "assert alice_shared_key == bob_shared_key\n",
    "\n",
    "# 4. Derive a symmetric key from the shared secret using HKDF\n",
    "derived_key = HKDF(\n",
    "    algorithm=hashes.SHA256(),\n",
    "    length=32,              # 256-bit key for AES-256\n",
    "    salt=None,              # Can optionally add a salt\n",
    "    info=b'handshake data', # Application-specific context (different key for each use-case)\n",
    "    backend=default_backend()\n",
    ").derive(alice_shared_key)\n",
    "\n",
    "print(\"Shared AES key:\", derived_key.hex())\n"
   ]
  },
  {
   "cell_type": "markdown",
   "metadata": {},
   "source": [
    "## Elliptic Curve Diffie-Helman Key Echange\n",
    "\n",
    "With FFDH, the public key is calculated as: $pk = g^X mod (p)$. Relies on finite field discrete logaritm problem.\n",
    "\n",
    "With ECDH, it is calculated as: $P = x \\cdot G$. Relies on elliptic curve discrete logarithm problem.\n",
    "\n",
    "Comparison\n",
    "\n",
    "|Feature|FFDH|ECDH|\n",
    "|--|--|--|\n",
    "|Math domain|Integers mod prime $\\mathbb{Z_p}$|Points on elliptic curves|\n",
    "|Operation|$g^a \\: mod \\: p$|$a \\cdot G$|\n",
    "|Safe key size|Long (2048+ bits)|Shorter (256 bits ≈ 3072-bit DH)|\n",
    "|Speed|Slow|Fast|\n",
    "\n",
    "## Example curve\n",
    "\n",
    "$$\n",
    "\\mathcal{E}: y^2 \\equiv x^3 + a*x + 3 \\pmod{p}\n",
    "$$"
   ]
  },
  {
   "cell_type": "code",
   "execution_count": 5,
   "metadata": {},
   "outputs": [
    {
     "data": {
      "text/plain": [
       "'bcb20b1a1e013c91621770289100fc7f925c945e43cdf055d2e52fe2c4dc4c31'"
      ]
     },
     "execution_count": 5,
     "metadata": {},
     "output_type": "execute_result"
    }
   ],
   "source": [
    "from Crypto.PublicKey import ECC\n",
    "from Crypto.Hash import SHA256\n",
    "\n",
    "# 1. Generate ECC key pairs for Alice and Bob\n",
    "alice_key = ECC.generate(curve='P-256')  # aka secp256r1\n",
    "bob_key = ECC.generate(curve='P-256')\n",
    "\n",
    "# 2. Each party shares their public key\n",
    "alice_public = alice_key.public_key()\n",
    "bob_public = bob_key.public_key()\n",
    "\n",
    "# 3. Each party computes the shared point\n",
    "alice_shared_point = alice_key.d * bob_public.pointQ\n",
    "bob_shared_point = bob_key.d * alice_public.pointQ\n",
    "\n",
    "# 4. Both should be equal\n",
    "assert alice_shared_point == bob_shared_point\n",
    "\n",
    "# 5. Extract x-coordinate of shared point to derive symmetric key\n",
    "shared_x = int(alice_shared_point.x).to_bytes(32, 'big')\n",
    "\n",
    "# 6. Derive AES key using SHA-256\n",
    "aes_key = SHA256.new(shared_x).digest()\n",
    "\n",
    "aes_key.hex()"
   ]
  },
  {
   "cell_type": "code",
   "execution_count": 15,
   "metadata": {},
   "outputs": [
    {
     "name": "stdout",
     "output_type": "stream",
     "text": [
      "Bob's shared key: 3e895141bfa99db45b52e8aa67079c695197b4e1f155963a82ec465dfb4345ebc972bf4ae074375e4c1cf4cd80cabff014d60d64a26efbf1b8f7da8b368d250ff45b6109e45427031db01768d3d655a368f513888619233d709899038f10344deb784ca3298861e023c6a16ebc262364c2791bdfe3bb00c9e3f6a3371ad081f51ac9c19da6f9c8851b5550a12b4611dfe40c53ea49b0128e880b894a8dd5db1308df0f254d71524fe6bed5d2d0201f6e5ed1cf0ec4623aeb29f54b2f679eddd26cdec6755c83be5cfd981bc8bf92bebc719be110339213b7cb0c1162a72b46e03dfa1773db1b74a3634d08945ae711d5b62f7f3f9b9b89ff5ffe59bfd8fdaa43\n",
      "Bob's encryption key: 3d7f11768ebfd0f26ccf741eb9d12e12fe5d50bde97ac831db4fc374bd7ea2d8724b879dabb27ce2a716efbbcffc97a221cf4ea42802655c42fe5568a25517079fc3324dac4938af8d2b7f8f16de240d2a44768f7a9a99a6e98e74f4f0d8f58becd8d008289f8a168bf4e0d086540dde14bf0a1eb81cc7cd406577148aecb3c935c54f9b1b0328480244fc05323e2ba65a8a9823a821861d7d4aecf173d1464d0c82c5e1b12fbf2d86bcde9057717664abaaa21ac22a71f5c9c8cb649d4f2acf50ac647bdf9fe16e9a631d525be0b585cb5657032873fe0042f171ed4070f8017e24b27b9e1de397168ec2bdc476d3a86758276c1dffc420c13f42374566e19c\n",
      "Alice's shared key: 3e895141bfa99db45b52e8aa67079c695197b4e1f155963a82ec465dfb4345ebc972bf4ae074375e4c1cf4cd80cabff014d60d64a26efbf1b8f7da8b368d250ff45b6109e45427031db01768d3d655a368f513888619233d709899038f10344deb784ca3298861e023c6a16ebc262364c2791bdfe3bb00c9e3f6a3371ad081f51ac9c19da6f9c8851b5550a12b4611dfe40c53ea49b0128e880b894a8dd5db1308df0f254d71524fe6bed5d2d0201f6e5ed1cf0ec4623aeb29f54b2f679eddd26cdec6755c83be5cfd981bc8bf92bebc719be110339213b7cb0c1162a72b46e03dfa1773db1b74a3634d08945ae711d5b62f7f3f9b9b89ff5ffe59bfd8fdaa43\n",
      "Alice's encryption key: 3e895141bfa99db45b52e8aa67079c695197b4e1f155963a82ec465dfb4345ebc972bf4ae074375e4c1cf4cd80cabff014d60d64a26efbf1b8f7da8b368d250ff45b6109e45427031db01768d3d655a368f513888619233d709899038f10344deb784ca3298861e023c6a16ebc262364c2791bdfe3bb00c9e3f6a3371ad081f51ac9c19da6f9c8851b5550a12b4611dfe40c53ea49b0128e880b894a8dd5db1308df0f254d71524fe6bed5d2d0201f6e5ed1cf0ec4623aeb29f54b2f679eddd26cdec6755c83be5cfd981bc8bf92bebc719be110339213b7cb0c1162a72b46e03dfa1773db1b74a3634d08945ae711d5b62f7f3f9b9b89ff5ffe59bfd8fdaa43\n",
      "Alice's message: Hello Bob, this is Alice!\n",
      "Ciphertext: 6e15defecb396d4b8e482c1f231c7b02c117d4546bb3509cd2\n",
      "Tag: 3703cbe81661233ba2d8b7263b93d3de\n",
      "Bob's decrypted message: Hello Bob, this is Alice!\n"
     ]
    }
   ],
   "source": [
    "# Full communication example\n",
    "\n",
    "import json\n",
    "from cryptography.hazmat.primitives.asymmetric import dh\n",
    "from cryptography.hazmat.primitives import serialization, hashes\n",
    "from cryptography.hazmat.primitives.kdf.hkdf import HKDF\n",
    "from Crypto.Random import get_random_bytes\n",
    "from Crypto.Cipher import AES\n",
    "\n",
    "# Alice begins the communication and generates the diffie hellman parameters\n",
    "\n",
    "alice_ffdh = dh.generate_parameters(generator=2, key_size=2048)\n",
    "alice_sk = parameters.generate_private_key()\n",
    "alice_pk = alice_private_key.public_key()\n",
    "alice_p = parameters.parameter_numbers().p\n",
    "alice_g = parameters.parameter_numbers().g\n",
    "alice_salt = get_random_bytes(16)\n",
    "\n",
    "# Data that is sent over the internet to Bob:\n",
    "datastring = json.dumps({\n",
    "    'g': alice_g,\n",
    "    'p': alice_p,\n",
    "    'pky': alice_pk.public_numbers().y,\n",
    "    'salt': alice_salt.hex(),\n",
    "})\n",
    "\n",
    "\n",
    "## NETWORK TRANSPORT of datastring\n",
    "\n",
    "\n",
    "# Bob receives the data and unpacks it\n",
    "handshake_from_alice = json.loads(datastring)\n",
    "bob_g = handshake_from_alice['g']\n",
    "bob_p = handshake_from_alice['p']\n",
    "alice_pky = handshake_from_alice['pky']\n",
    "bob_salt = bytes.fromhex(handshake_from_alice['salt'])\n",
    "\n",
    "\n",
    "# Bob generates his own private key\n",
    "bob_ffdh = dh.DHParameterNumbers(bob_p, bob_g).parameters()\n",
    "bob_private_key = parameters.generate_private_key()\n",
    "bob_public_key = bob_private_key.public_key()\n",
    "# Bob calculates the shared secret\n",
    "alice_pk = dh.DHPublicNumbers(alice_pky, dh.DHParameterNumbers(bob_p, bob_g)).public_key()\n",
    "bob_shared_key = bob_private_key.exchange(alice_public_key)\n",
    "print(\"Bob's shared key:\", bob_shared_key.hex())\n",
    "\n",
    "# Bob calculates encryption key 32 bytes long encryption key\n",
    "bob_encryption_key = HKDF(\n",
    "    algorithm = hashes.SHA256(), # Use the SHA-256 hash function, as it is fast and secure\n",
    "    length = 32, # 256-bit key for AES-256\n",
    "    salt = bob_salt, # Add salt to increase security even with repeated use of the same context and key\n",
    "    info = b'cryptolab_custom_handshake_2025', # Application-specific context (different key for each use-case)\n",
    ").derive(bob_shared_key)\n",
    "print(\"Bob's encryption key:\", alice_shared_key.hex())\n",
    "\n",
    "# Bob sends his public key to Alice\n",
    "datastring = json.dumps({\n",
    "    'pky': bob_public_key.public_numbers().y,\n",
    "})\n",
    "\n",
    "\n",
    "## NETWORK TRANSPORT of datastring\n",
    "\n",
    "\n",
    "# Alice receives the data and unpacks it\n",
    "handshake_from_bob = json.loads(datastring)\n",
    "bob_pky = handshake_from_bob['pky']\n",
    "bob_public_key = dh.DHPublicNumbers(bob_pky, dh.DHParameterNumbers(alice_p, alice_g)).public_key()\n",
    "# Alice calculates the shared secret\n",
    "alice_shared_key = alice_private_key.exchange(bob_public_key)\n",
    "print(\"Alice's shared key:\", alice_shared_key.hex())\n",
    "# Now both parties have the same shared secret!\n",
    "\n",
    "assert alice_shared_key == bob_shared_key\n",
    "\n",
    "# Alice calculates encryption key 32 bytes long encryption key\n",
    "alice_encryption_key = HKDF(\n",
    "    algorithm = hashes.SHA256(), # Use the SHA-256 hash function, as it is fast and secure\n",
    "    length = 32, # 256-bit key for AES-256\n",
    "    salt = alice_salt, # Add salt to increase security even with repeated use of the same context and key\n",
    "    info = b'cryptolab_custom_handshake_2025', # Application-specific context (different key for each use-case)\n",
    ").derive(alice_shared_key)\n",
    "print(\"Alice's encryption key:\", alice_shared_key.hex())\n",
    "\n",
    "# HANDSHAKE COMPLETE!\n",
    "\n",
    "# Alice encrypts a message using AES-GCM\n",
    "alice_message = 'Hello Bob, this is Alice!'\n",
    "print(\"Alice's message:\", alice_message)\n",
    "alice_message_bytes = alice_message.encode('utf-8')\n",
    "alice_cipher = AES.new(alice_encryption_key, AES.MODE_GCM)\n",
    "ciphertext, tag = alice_cipher.encrypt_and_digest(alice_message_bytes)\n",
    "print(\"Ciphertext:\", ciphertext.hex())\n",
    "print(\"Tag:\", tag.hex())\n",
    "\n",
    "# Alice packs the ciphertext and tag into a JSON object\n",
    "datastring = json.dumps({\n",
    "    'ciphertext': ciphertext.hex(),\n",
    "    'tag': tag.hex(),\n",
    "    'nonce': alice_cipher.nonce.hex(),\n",
    "})\n",
    "\n",
    "\n",
    "## NETWORK TRANSPORT of ciphertext and tag\n",
    "\n",
    "\n",
    "# Bob receives the ciphertext and tag\n",
    "cipher_from_alice = json.loads(datastring)\n",
    "alice_ciphertext = bytes.fromhex(cipher_from_alice['ciphertext'])\n",
    "alice_tag = bytes.fromhex(cipher_from_alice['tag'])\n",
    "alice_nonce = bytes.fromhex(cipher_from_alice['nonce'])\n",
    "\n",
    "# Bob decrypts the message using AES-GCM\n",
    "bob_cipher = AES.new(bob_encryption_key, AES.MODE_GCM, nonce=alice_nonce)\n",
    "try:\n",
    "    decrypted_messsage_bytes = bob_cipher.decrypt_and_verify(alice_ciphertext, alice_tag)\n",
    "    decrypted_message = decrypted_messsage_bytes\n",
    "    print(\"Bob's decrypted message:\", decrypted_message.decode('utf-8'))\n",
    "except ValueError:\n",
    "    print(\"Decryption failed or message was tampered with!\")\n",
    "\n",
    "assert decrypted_message.decode('utf-8') == alice_message"
   ]
  }
 ],
 "metadata": {
  "kernelspec": {
   "display_name": ".venv",
   "language": "python",
   "name": "python3"
  },
  "language_info": {
   "codemirror_mode": {
    "name": "ipython",
    "version": 3
   },
   "file_extension": ".py",
   "mimetype": "text/x-python",
   "name": "python",
   "nbconvert_exporter": "python",
   "pygments_lexer": "ipython3",
   "version": "3.13.1"
  }
 },
 "nbformat": 4,
 "nbformat_minor": 2
}

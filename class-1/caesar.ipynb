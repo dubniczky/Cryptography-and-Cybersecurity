{
 "cells": [
  {
   "cell_type": "code",
   "execution_count": 31,
   "metadata": {},
   "outputs": [],
   "source": [
    "import string"
   ]
  },
  {
   "cell_type": "code",
   "execution_count": 32,
   "metadata": {},
   "outputs": [],
   "source": [
    "def caesar_encrypt(alphabet, key, message):\n",
    "    result = \"\"\n",
    "    for letter in message:\n",
    "        if letter not in alphabet:\n",
    "            result += letter\n",
    "        else:\n",
    "            letter_index = alphabet.index(letter)\n",
    "            total_shift = (letter_index + key) % len(alphabet)\n",
    "            new_letter = alphabet[total_shift]\n",
    "            result += new_letter\n",
    "    return result\n",
    "\n",
    "def caesar_decrypt(alphabet, key, message):\n",
    "    return caesar_encrypt(alphabet, -key, message)"
   ]
  },
  {
   "cell_type": "code",
   "execution_count": 33,
   "metadata": {},
   "outputs": [
    {
     "data": {
      "text/plain": [
       "('<Dn>DAU</Dn>', '<h1>hey</h1>')"
      ]
     },
     "execution_count": 33,
     "metadata": {},
     "output_type": "execute_result"
    }
   ],
   "source": [
    "key = 32+26*2\n",
    "message = \"<h1>hey</h1>\"\n",
    "alphabet = string.ascii_lowercase + string.ascii_uppercase + string.digits\n",
    "\n",
    "ciphertext = caesar_encrypt(alphabet, key, message)\n",
    "decrypted_message = caesar_decrypt(alphabet, key, ciphertext)\n",
    "ciphertext, decrypted_message"
   ]
  },
  {
   "cell_type": "code",
   "execution_count": 34,
   "metadata": {},
   "outputs": [
    {
     "data": {
      "text/plain": [
       "(6, 6)"
      ]
     },
     "execution_count": 34,
     "metadata": {},
     "output_type": "execute_result"
    }
   ],
   "source": [
    "32 % 26, (32 + 26) % 26"
   ]
  },
  {
   "cell_type": "code",
   "execution_count": 35,
   "metadata": {},
   "outputs": [
    {
     "name": "stdout",
     "output_type": "stream",
     "text": [
      "Key 0: <Dn>DAU</Dn>\n",
      "Key 1: <Cm>CzT</Cm>\n",
      "Key 2: <Bl>ByS</Bl>\n",
      "Key 3: <Ak>AxR</Ak>\n",
      "Key 4: <zj>zwQ</zj>\n",
      "Key 5: <yi>yvP</yi>\n",
      "Key 6: <xh>xuO</xh>\n",
      "Key 7: <wg>wtN</wg>\n",
      "Key 8: <vf>vsM</vf>\n",
      "Key 9: <ue>urL</ue>\n",
      "Key 10: <td>tqK</td>\n",
      "Key 11: <sc>spJ</sc>\n",
      "Key 12: <rb>roI</rb>\n",
      "Key 13: <qa>qnH</qa>\n",
      "Key 14: <p9>pmG</p9>\n",
      "Key 15: <o8>olF</o8>\n",
      "Key 16: <n7>nkE</n7>\n",
      "Key 17: <m6>mjD</m6>\n",
      "Key 18: <l5>liC</l5>\n",
      "Key 19: <k4>khB</k4>\n",
      "Key 20: <j3>jgA</j3>\n",
      "Key 21: <i2>ifz</i2>\n",
      "Key 22: <h1>hey</h1>\n",
      "Key 23: <g0>gdx</g0>\n",
      "Key 24: <fZ>fcw</fZ>\n",
      "Key 25: <eY>ebv</eY>\n",
      "Key 26: <dX>dau</dX>\n",
      "Key 27: <cW>c9t</cW>\n",
      "Key 28: <bV>b8s</bV>\n",
      "Key 29: <aU>a7r</aU>\n",
      "Key 30: <9T>96q</9T>\n",
      "Key 31: <8S>85p</8S>\n",
      "Key 32: <7R>74o</7R>\n",
      "Key 33: <6Q>63n</6Q>\n",
      "Key 34: <5P>52m</5P>\n",
      "Key 35: <4O>41l</4O>\n",
      "Key 36: <3N>30k</3N>\n",
      "Key 37: <2M>2Zj</2M>\n",
      "Key 38: <1L>1Yi</1L>\n",
      "Key 39: <0K>0Xh</0K>\n",
      "Key 40: <ZJ>ZWg</ZJ>\n",
      "Key 41: <YI>YVf</YI>\n",
      "Key 42: <XH>XUe</XH>\n",
      "Key 43: <WG>WTd</WG>\n",
      "Key 44: <VF>VSc</VF>\n",
      "Key 45: <UE>URb</UE>\n",
      "Key 46: <TD>TQa</TD>\n",
      "Key 47: <SC>SP9</SC>\n",
      "Key 48: <RB>RO8</RB>\n",
      "Key 49: <QA>QN7</QA>\n",
      "Key 50: <Pz>PM6</Pz>\n",
      "Key 51: <Oy>OL5</Oy>\n",
      "Key 52: <Nx>NK4</Nx>\n",
      "Key 53: <Mw>MJ3</Mw>\n",
      "Key 54: <Lv>LI2</Lv>\n",
      "Key 55: <Ku>KH1</Ku>\n",
      "Key 56: <Jt>JG0</Jt>\n",
      "Key 57: <Is>IFZ</Is>\n",
      "Key 58: <Hr>HEY</Hr>\n",
      "Key 59: <Gq>GDX</Gq>\n",
      "Key 60: <Fp>FCW</Fp>\n",
      "Key 61: <Eo>EBV</Eo>\n"
     ]
    }
   ],
   "source": [
    "def caesar_crack(alphabet, ciphertext):\n",
    "    for i in range(len(alphabet)):\n",
    "        decrypted_message = caesar_decrypt(alphabet, i, ciphertext)\n",
    "        print(f\"Key {i}: {decrypted_message}\")\n",
    "        \n",
    "caesar_crack(alphabet, ciphertext)"
   ]
  }
 ],
 "metadata": {
  "kernelspec": {
   "display_name": ".venv",
   "language": "python",
   "name": "python3"
  },
  "language_info": {
   "codemirror_mode": {
    "name": "ipython",
    "version": 3
   },
   "file_extension": ".py",
   "mimetype": "text/x-python",
   "name": "python",
   "nbconvert_exporter": "python",
   "pygments_lexer": "ipython3",
   "version": "3.13.1"
  }
 },
 "nbformat": 4,
 "nbformat_minor": 2
}

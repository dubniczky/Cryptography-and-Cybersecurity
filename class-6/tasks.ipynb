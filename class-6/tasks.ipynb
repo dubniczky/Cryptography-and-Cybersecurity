{
 "cells": [
  {
   "cell_type": "code",
   "execution_count": null,
   "metadata": {},
   "outputs": [],
   "source": [
    "# 1\n",
    "\n",
    "import secrets\n",
    "\n",
    "def random_pad(data: bytes, block_size: int) -> bytes:\n",
    "    pad_size = block_size - len(data) % block_size\n",
    "    if pad_size == block_size and len(data) > 0:\n",
    "        pad_size = 0\n",
    "    return data + secrets.token_bytes(pad_size)\n",
    "\n",
    "assert len(random_pad(b'', 8)) == 8\n",
    "assert len(random_pad(b'1', 8)) == 8\n",
    "assert len(random_pad(b'11111111', 8)) == 8\n",
    "assert len(random_pad(b'111111111', 8)) == 16"
   ]
  },
  {
   "cell_type": "code",
   "execution_count": null,
   "metadata": {},
   "outputs": [],
   "source": [
    "# 2\n",
    "\n",
    "def counter_pad(data: bytes, block_size: int) -> bytes:\n",
    "    pad_size = block_size - len(data) % block_size\n",
    "    \n",
    "    data = bytearray(data)\n",
    "    for i in range(pad_size):\n",
    "        data.append(i & 0xff)\n",
    "    return bytes(data)\n",
    "        \n",
    "def counter_unpad(data: bytes, block_size: int) -> bytes:\n",
    "    pad_size = data[-1] + 1\n",
    "    return data[:-pad_size]\n",
    "\n",
    "\n",
    "import secrets\n",
    "assert counter_pad(b'aabb', 8) == (b'aabb\\x00\\x01\\x02\\x03')\n",
    "assert counter_pad(b'aabb', 4) == (b'aabb\\x00\\x01\\x02\\x03')\n",
    "assert len(counter_pad(b'aabbccdd', 8)) == 16\n",
    "assert counter_pad(b'', 8) == (b'\\x00\\x01\\x02\\x03\\x04\\x05\\x06\\x07')\n",
    "assert counter_unpad(counter_pad(b'aabb', 8), 8) == b'aabb'\n",
    "assert all([ len(counter_unpad(counter_pad(secrets.token_bytes(i), 8), 8)) == i for i in range(100) ])"
   ]
  },
  {
   "cell_type": "code",
   "execution_count": 29,
   "metadata": {},
   "outputs": [],
   "source": [
    "# 3: PKCS#7 padding\n",
    "\n",
    "def pad(data: bytes, block_size: int) -> bytes | None:\n",
    "    if block_size < 1 or block_size > 256:\n",
    "        return None\n",
    "    pad_len = block_size - (len(data) % block_size)\n",
    "    return data + bytes([pad_len] * pad_len)\n",
    "\n",
    "def unpad(data: bytes) -> bytes | None:\n",
    "    pad_len = data[-1]\n",
    "    if pad_len < 1 or pad_len > len(data):\n",
    "        return None\n",
    "    return data[:-pad_len]\n",
    "\n",
    "\n",
    "assert pad(b'hello', 8) == b'hello\\x03\\x03\\x03'\n",
    "assert pad(b'welcome stranger', 8) == b'welcome stranger\\x08\\x08\\x08\\x08\\x08\\x08\\x08\\x08'\n",
    "assert pad(b'welcome stranger!', 8) == b'welcome stranger!\\x07\\x07\\x07\\x07\\x07\\x07\\x07'\n",
    "assert pad(b'', 4) == b'\\x04\\x04\\x04\\x04'\n",
    "assert unpad(b'\\x02\\x02\\x02\\x02') == b'\\x02\\x02'\n",
    "assert unpad(pad(b'hello', 8)) == b'hello'\n",
    "assert unpad(pad(b'this is a long message, taking up multiple blocks', 4)) == b'this is a long message, taking up multiple blocks'"
   ]
  },
  {
   "cell_type": "code",
   "execution_count": 3,
   "metadata": {},
   "outputs": [
    {
     "name": "stdout",
     "output_type": "stream",
     "text": [
      "b'hello!'\n",
      "188\n",
      "b'\\x00\\x00\\x00C'\n"
     ]
    }
   ],
   "source": [
    "# 4: Generate a 4 byte long message that has the same hash as the message \"hello\"\n",
    "\n",
    "def hash(data: bytes) -> int:\n",
    "    result = 0xFF\n",
    "    for byte in data:\n",
    "        result ^= byte\n",
    "    return result\n",
    "\n",
    "def find_collision(target: bytes) -> bytes:\n",
    "    for i in range(256):\n",
    "        for j in range(256):\n",
    "            for k in range(256):\n",
    "                for l in range(256):\n",
    "                    candidate = bytes([i, j, k, l])\n",
    "                    if hash(candidate) == hash(target):\n",
    "                        return candidate\n",
    "    return b''\n",
    "\n",
    "print(b'hello!')\n",
    "print(hash(b'hello!'))\n",
    "print(find_collision(b'hello!'))"
   ]
  },
  {
   "cell_type": "code",
   "execution_count": 4,
   "metadata": {},
   "outputs": [],
   "source": [
    "#5: Generate any message in md5 where the first 3 bytes are all 0\n",
    "\n",
    "import hashlib\n",
    "\n",
    "def find_md5_by_prefix(prefix: bytes) -> tuple[bytes, bytes]:\n",
    "    counter = 0\n",
    "    while True:\n",
    "        candidate = counter.to_bytes(16, 'big').lstrip(b'\\x00')\n",
    "        digest = hashlib.md5(candidate).digest()\n",
    "        if digest.startswith(prefix):\n",
    "            return (candidate, digest)\n",
    "        counter += 1\n",
    "\n",
    "assert find_md5_by_prefix(b'\\x00')[1].startswith(b'\\x00')\n",
    "assert find_md5_by_prefix(b'\\x00\\x00')[1].startswith(b'\\x00\\x00')\n",
    "assert find_md5_by_prefix(b'\\xff\\xff')[1].startswith(b'\\xff\\xff')\n",
    "assert find_md5_by_prefix(b'\\x00\\x00\\x00')[1].startswith(b'\\x00\\x00\\x00')"
   ]
  },
  {
   "cell_type": "code",
   "execution_count": 2,
   "metadata": {},
   "outputs": [
    {
     "name": "stdout",
     "output_type": "stream",
     "text": [
      "b'\\x00'\n",
      "b'\\x01'\n",
      "b'\\x02'\n",
      "b'\\x03'\n",
      "b'\\x04'\n",
      "b'\\x05'\n",
      "b'\\x06'\n",
      "b'\\x07'\n",
      "b'\\x08'\n",
      "b'\\t'\n",
      "b'\\n'\n",
      "b'\\x0b'\n",
      "b'\\x0c'\n",
      "b'\\r'\n",
      "b'\\x0e'\n",
      "b'\\x0f'\n",
      "b'\\x10'\n",
      "b'\\x11'\n",
      "b'\\x12'\n",
      "b'\\x13'\n"
     ]
    }
   ],
   "source": [
    "import itertools\n",
    "def generate_bytes():\n",
    "    length = 1\n",
    "    while True:\n",
    "        for message in itertools.product(range(256), repeat=length):\n",
    "            yield bytes(message)\n",
    "        length += 1\n",
    "\n",
    "iterator = generate_bytes()\n",
    "for i in range(20):\n",
    "    print(next(iterator))"
   ]
  }
 ],
 "metadata": {
  "kernelspec": {
   "display_name": ".venv",
   "language": "python",
   "name": "python3"
  },
  "language_info": {
   "codemirror_mode": {
    "name": "ipython",
    "version": 3
   },
   "file_extension": ".py",
   "mimetype": "text/x-python",
   "name": "python",
   "nbconvert_exporter": "python",
   "pygments_lexer": "ipython3",
   "version": "3.13.1"
  }
 },
 "nbformat": 4,
 "nbformat_minor": 2
}

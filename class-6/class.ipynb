{
 "cells": [
  {
   "cell_type": "markdown",
   "metadata": {},
   "source": [
    "# Hashing"
   ]
  },
  {
   "cell_type": "code",
   "execution_count": null,
   "metadata": {},
   "outputs": [],
   "source": [
    "# Simple XOR hash function\n",
    "\n",
    "def xor_hash(data: bytes) -> int:\n",
    "    result = 0xFF\n",
    "    for byte in data:\n",
    "        result ^= byte\n",
    "    return result\n",
    "\n",
    "\n",
    "assert xor_hash(b'abcd') == 251\n",
    "assert xor_hash(b'') == 255\n",
    "assert xor_hash(b'Deep in the Hundred Acre Wood, Where Christopher Robin plays, You\\'ll find the enchanted neighborhood, Of Christopher\\'s childhood days') == 209"
   ]
  },
  {
   "cell_type": "code",
   "execution_count": 34,
   "metadata": {},
   "outputs": [],
   "source": [
    "from Crypto.Util.Padding import pad\n",
    "\n",
    "\n",
    "def block_xor_hash(data: bytes, block_size: int) -> int:\n",
    "    data_padded = pad(data, block_size, style='pkcs7')\n",
    "    result = b'\\xFF' * block_size\n",
    "    for i in range(0, len(data_padded), block_size):\n",
    "        block = data_padded[i:i+block_size]\n",
    "        result = bytes([result[j] ^ block[j] for j in range (len(block))])\n",
    "    return result\n",
    "\n",
    "assert block_xor_hash(b'abcd', 1) == b'\\xfa', block_xor_hash(b'abcd', 1)\n",
    "assert block_xor_hash(b'abcd', 4) == b'\\x9a\\x99\\x98\\x9f', block_xor_hash(b'abcd', 4)"
   ]
  },
  {
   "cell_type": "code",
   "execution_count": null,
   "metadata": {},
   "outputs": [],
   "source": [
    "#  CRC-32 algorithm, ISO-HDLC version.\n",
    "# The CRC-32 algorithm is a widely used checksum algorithm that is used in ethernet, zip files, and many other applications.\n",
    "# The algorithm is simple: it XORs the next byte with the CRC, and then shifts the CRC right 8 times, XORing with 0xEDB88320 if the least significant bit is set.\n",
    "# It is not cryptographically secure, but it is fast and easy to implement.\n",
    "\n",
    "\n",
    "def crc32(data: bytes) -> int:\n",
    "    crc = 0xFFFFFFFF # 4 bytes of 1s\n",
    "    for byte in data:\n",
    "        crc ^= byte # XOR with the next byte\n",
    "        for _ in range(8):\n",
    "            if crc & 1:\n",
    "                crc = (crc >> 1) ^ 0xEDB88320 # 0xEDB88320 is the reversed polynomial\n",
    "            else:\n",
    "                crc >>= 1\n",
    "    return crc ^ 0xFFFFFFFF\n",
    "\n",
    "assert crc32(b\"abcdefgh\") == 0xAEEF2A50"
   ]
  },
  {
   "cell_type": "code",
   "execution_count": null,
   "metadata": {},
   "outputs": [],
   "source": [
    "# MD5 hash scheme (MD5 algorithm specification: https://tools.ietf.org/html/rfc1321)\n",
    "# The md5 hash function takes in an arbitrary length message and returns a 128-bit hash value\n",
    "\n",
    "import struct\n",
    "\n",
    "\n",
    "def _process_chunk(state, chunk):\n",
    "    assert len(chunk) == 64\n",
    "\n",
    "    a, b, c, d = state\n",
    "    \n",
    "    # Unpack the chunk into 16 32-bit little-endian integers for the transofmations\n",
    "    x = list(struct.unpack(\"<16I\", chunk))\n",
    "    \n",
    "    # Left rotation function\n",
    "    def rotate_left(x, n): return (x << n) | (x >> (32 - n))\n",
    "\n",
    "    # Helper functions for the transformation functions\n",
    "    def F(x, y, z): return (x & y) | (~x & z)\n",
    "    def G(x, y, z): return (x & z) | (y & ~z)\n",
    "    def H(x, y, z): return x ^ y ^ z\n",
    "    def I(x, y, z): return y ^ (x | ~z)\n",
    "\n",
    "    # Transformation functions, these do the bulk of the work of the irreversible transformation\n",
    "    def FF(a, b, c, d, x, s, ac):\n",
    "        a = (a + F(b, c, d) + x + ac) & 0xFFFFFFFF # The & 0xFFFFFFFF is to keep the result as a 32-bit integer\n",
    "        return (b + rotate_left(a, s)) & 0xFFFFFFFF\n",
    "\n",
    "    def GG(a, b, c, d, x, s, ac):\n",
    "        a = (a + G(b, c, d) + x + ac) & 0xFFFFFFFF\n",
    "        return (b + rotate_left(a, s)) & 0xFFFFFFFF\n",
    "\n",
    "    def HH(a, b, c, d, x, s, ac):\n",
    "        a = (a + H(b, c, d) + x + ac) & 0xFFFFFFFF\n",
    "        return (b + rotate_left(a, s)) & 0xFFFFFFFF\n",
    "\n",
    "    def II(a, b, c, d, x, s, ac):\n",
    "        a = (a + I(b, c, d) + x + ac) & 0xFFFFFFFF\n",
    "        return (b + rotate_left(a, s)) & 0xFFFFFFFF\n",
    "\n",
    "    # Round 1\n",
    "    # Each round has 16 steps, one for each of the 16 32-bit integers in the chunk\n",
    "    # Each step has the same transformation function, but order of inputs and constants\n",
    "    # The constants come from the MD5 algorithm specification\n",
    "    a = FF(a, b, c, d, x[0], 7, 0xd76aa478)\n",
    "    d = FF(d, a, b, c, x[1], 12, 0xe8c7b756)\n",
    "    c = FF(c, d, a, b, x[2], 17, 0x242070db)\n",
    "    b = FF(b, c, d, a, x[3], 22, 0xc1bdceee)\n",
    "    a = FF(a, b, c, d, x[4], 7, 0xf57c0faf)\n",
    "    d = FF(d, a, b, c, x[5], 12, 0x4787c62a)\n",
    "    c = FF(c, d, a, b, x[6], 17, 0xa8304613)\n",
    "    b = FF(b, c, d, a, x[7], 22, 0xfd469501)\n",
    "    a = FF(a, b, c, d, x[8], 7, 0x698098d8)\n",
    "    d = FF(d, a, b, c, x[9], 12, 0x8b44f7af)\n",
    "    c = FF(c, d, a, b, x[10], 17, 0xffff5bb1)\n",
    "    b = FF(b, c, d, a, x[11], 22, 0x895cd7be)\n",
    "    a = FF(a, b, c, d, x[12], 7, 0x6b901122)\n",
    "    d = FF(d, a, b, c, x[13], 12, 0xfd987193)\n",
    "    c = FF(c, d, a, b, x[14], 17, 0xa679438e)\n",
    "    b = FF(b, c, d, a, x[15], 22, 0x49b40821)\n",
    "\n",
    "    # Round 2\n",
    "    a = GG(a, b, c, d, x[1], 5, 0xf61e2562)\n",
    "    d = GG(d, a, b, c, x[6], 9, 0xc040b340)\n",
    "    c = GG(c, d, a, b, x[11], 14, 0x265e5a51)\n",
    "    b = GG(b, c, d, a, x[0], 20, 0xe9b6c7aa)\n",
    "    a = GG(a, b, c, d, x[5], 5, 0xd62f105d)\n",
    "    d = GG(d, a, b, c, x[10], 9, 0x02441453)\n",
    "    c = GG(c, d, a, b, x[15], 14, 0xd8a1e681)\n",
    "    b = GG(b, c, d, a, x[4], 20, 0xe7d3fbc8)\n",
    "    a = GG(a, b, c, d, x[9], 5, 0x21e1cde6)\n",
    "    d = GG(d, a, b, c, x[14], 9, 0xc33707d6)\n",
    "    c = GG(c, d, a, b, x[3], 14, 0xf4d50d87)\n",
    "    b = GG(b, c, d, a, x[8], 20, 0x455a14ed)\n",
    "    a = GG(a, b, c, d, x[13], 5, 0xa9e3e905)\n",
    "    d = GG(d, a, b, c, x[2], 9, 0xfcefa3f8)\n",
    "    c = GG(c, d, a, b, x[7], 14, 0x676f02d9)\n",
    "    b = GG(b, c, d, a, x[12], 20, 0x8d2a4c8a)\n",
    "\n",
    "    # Round 3\n",
    "    a = HH(a, b, c, d, x[5], 4, 0xfffa3942)\n",
    "    d = HH(d, a, b, c, x[8], 11, 0x8771f681)\n",
    "    c = HH(c, d, a, b, x[11], 16, 0x6d9d6122)\n",
    "    b = HH(b, c, d, a, x[14], 23, 0xfde5380c)\n",
    "    a = HH(a, b, c, d, x[1], 4, 0xa4beea44)\n",
    "    d = HH(d, a, b, c, x[4], 11, 0x4bdecfa9)\n",
    "    c = HH(c, d, a, b, x[7], 16, 0xf6bb4b60)\n",
    "    b = HH(b, c, d, a, x[10], 23, 0xbebfbc70)\n",
    "    a = HH(a, b, c, d, x[13], 4, 0x289b7ec6)\n",
    "    d = HH(d, a, b, c, x[0], 11, 0xeaa127fa)\n",
    "    c = HH(c, d, a, b, x[3], 16, 0xd4ef3085)\n",
    "    b = HH(b, c, d, a, x[6], 23, 0x04881d05)\n",
    "    a = HH(a, b, c, d, x[9], 4, 0xd9d4d039)\n",
    "    d = HH(d, a, b, c, x[12], 11, 0xe6db99e5)\n",
    "    c = HH(c, d, a, b, x[15], 16, 0x1fa27cf8)\n",
    "    b = HH(b, c, d, a, x[2], 23, 0xc4ac5665)\n",
    "\n",
    "    # Round 4\n",
    "    a = II(a, b, c, d, x[0], 6, 0xf4292244)\n",
    "    d = II(d, a, b, c, x[7], 10, 0x432aff97)\n",
    "    c = II(c, d, a, b, x[14], 15, 0xab9423a7)\n",
    "    b = II(b, c, d, a, x[5], 21, 0xfc93a039)\n",
    "    a = II(a, b, c, d, x[12], 6, 0x655b59c3)\n",
    "    d = II(d, a, b, c, x[3], 10, 0x8f0ccc92)\n",
    "    c = II(c, d, a, b, x[10], 15, 0xffeff47d)\n",
    "    b = II(b, c, d, a, x[1], 21, 0x85845dd1)\n",
    "    a = II(a, b, c, d, x[8], 6, 0x6fa87e4f)\n",
    "    d = II(d, a, b, c, x[15], 10, 0xfe2ce6e0)\n",
    "    c = II(c, d, a, b, x[6], 15, 0xa3014314)\n",
    "    b = II(b, c, d, a, x[13], 21, 0x4e0811a1)\n",
    "    a = II(a, b, c, d, x[4], 6, 0xf7537e82)\n",
    "    d = II(d, a, b, c, x[11], 10, 0xbd3af235)\n",
    "    c = II(c, d, a, b, x[2], 15, 0x2ad7d2bb)\n",
    "    b = II(b, c, d, a, x[9], 21, 0xeb86d391)\n",
    "    \n",
    "    return [\n",
    "        (state[0] + a) & 0xFFFFFFFF,\n",
    "        (state[1] + b) & 0xFFFFFFFF,\n",
    "        (state[2] + c) & 0xFFFFFFFF,\n",
    "        (state[3] + d) & 0xFFFFFFFF\n",
    "    ]\n",
    "\n",
    "def hash(data):\n",
    "    state = [ 0x67452301, 0xefcdab89, 0x98badcfe, 0x10325476 ] # Initial state, as per the MD5 algorithm specification\n",
    "    \n",
    "    # Move the data to another buffer it does not modifiy the original data\n",
    "    buffer = data[:]\n",
    "    \n",
    "    # Pad the data\n",
    "    # The padding consists of a single bit with value 1, followed by zeros, and finally the length of the original message\n",
    "    # This is the same as the ANSI X.923 padding scheme padding/x923.py\n",
    "    length = struct.pack(\"<Q\", len(data) * 8) # 8 bits per byte\n",
    "    buffer += b\"\\x80\" # Add the 1 bit, followed by 7 zeros to make a full byte\n",
    "    buffer += b\"\\x00\" * ((56 - len(buffer) % 64) % 64) # Pad to 56 bytes to account for the length at the end and the one byte at the start\n",
    "    buffer += length\n",
    "    \n",
    "    # Update the state with the padded data, until there is no more data left\n",
    "    while len(buffer) >= 64:\n",
    "        state = _process_chunk(state, buffer[:64]) # Process the first 64 bytes of the buffer\n",
    "        buffer = buffer[64:] # Remove the processed bytes from the buffer\n",
    "\n",
    "    return struct.pack(\"<4I\", *state) # Create a byte string from the integers\n",
    "\n",
    "\n",
    "assert hash(b'hello').hex() == \"5d41402abc4b2a76b9719d911017c592\"\n",
    "assert hash(b'').hex() == \"d41d8cd98f00b204e9800998ecf8427e\""
   ]
  },
  {
   "cell_type": "code",
   "execution_count": null,
   "metadata": {},
   "outputs": [
    {
     "data": {
      "text/plain": [
       "30"
      ]
     },
     "execution_count": 4,
     "metadata": {},
     "output_type": "execute_result"
    }
   ],
   "source": [
    "len(str(70 ** 16))"
   ]
  },
  {
   "cell_type": "code",
   "execution_count": 5,
   "metadata": {},
   "outputs": [
    {
     "data": {
      "text/plain": [
       "5.538821761600167e+24"
      ]
     },
     "execution_count": 5,
     "metadata": {},
     "output_type": "execute_result"
    }
   ],
   "source": [
    "(70 ** 16) / 1000 / 60"
   ]
  },
  {
   "cell_type": "code",
   "execution_count": 7,
   "metadata": {},
   "outputs": [
    {
     "data": {
      "text/plain": [
       "'ef92b778bafe771e89245b89ecbc08a44a4e166c06659911881f383d4473e94f'"
      ]
     },
     "execution_count": 7,
     "metadata": {},
     "output_type": "execute_result"
    }
   ],
   "source": [
    "# Example of password hashing\n",
    "import hashlib\n",
    "import os\n",
    "\n",
    "def hash_password(password: str) -> str:\n",
    "    # Hash the password\n",
    "    haser = hashlib.sha256()\n",
    "    haser.update(password.encode('utf-8'))\n",
    "    password_hash = haser.hexdigest()\n",
    "    return password_hash\n",
    "\n",
    "hash_password('password123')"
   ]
  },
  {
   "cell_type": "code",
   "execution_count": 12,
   "metadata": {},
   "outputs": [
    {
     "data": {
      "text/plain": [
       "('e81139db4ef4a70f2c40d8b4085763b1a50d150124c70515fd7c24c3e622f8a6',\n",
       " 'a5fb283a4bd9331121f11936f9a40f8a348d1d557ea4afc144f66461e67640a5')"
      ]
     },
     "execution_count": 12,
     "metadata": {},
     "output_type": "execute_result"
    }
   ],
   "source": [
    "hash_password('Deep in the Hundred Acre Wood, Where Christopher Robin plays, You\\'ll find the enchanted neighborhood, Of Christopher\\'s childhood days'), hash_password('Deep in the Hundred Acre Wood, Where Christopher Robin plays, You\\'ll find the enchanted neighborhood, Of Christopher\\'s childhood dayS')"
   ]
  },
  {
   "cell_type": "code",
   "execution_count": 3,
   "metadata": {},
   "outputs": [
    {
     "data": {
      "text/plain": [
       "True"
      ]
     },
     "execution_count": 3,
     "metadata": {},
     "output_type": "execute_result"
    }
   ],
   "source": [
    "def verify_password(password: str, password_hash: str) -> bool:\n",
    "    return hash_password(password) == password_hash\n",
    "\n",
    "verify_password('password123', hash_password('password123'))"
   ]
  },
  {
   "cell_type": "code",
   "execution_count": 15,
   "metadata": {},
   "outputs": [
    {
     "data": {
      "text/plain": [
       "'sha256$5e1aa207f27e3203$ac31ed4274b813d4790f074c95d4c11b38d0df0c3191608ea1bf99064ffecb76'"
      ]
     },
     "execution_count": 15,
     "metadata": {},
     "output_type": "execute_result"
    }
   ],
   "source": [
    "import secrets\n",
    "\n",
    "def hash_salt_password(password: str, salt: bytes = None) -> str:\n",
    "    # Generate an 8 byte long random salt\n",
    "    if salt is None:\n",
    "        salt = secrets.token_bytes(8)\n",
    "    # Hash the password with the salt\n",
    "    haser = hashlib.sha256()\n",
    "    haser.update(password.encode('utf-8') + b'\\00' + salt)\n",
    "    password_hash = haser.hexdigest()\n",
    "    \n",
    "    # algorithm $ salt $ hash\n",
    "    return f'sha256${salt.hex()}${password_hash}'\n",
    "\n",
    "hash_salt_password('password123')"
   ]
  },
  {
   "cell_type": "code",
   "execution_count": null,
   "metadata": {},
   "outputs": [
    {
     "data": {
      "text/plain": [
       "True"
      ]
     },
     "execution_count": 10,
     "metadata": {},
     "output_type": "execute_result"
    }
   ],
   "source": [
    "def verify_salt_password(password: str, password_hash: str) -> bool:\n",
    "    algorithm, salt, hash = password_hash.split('$')\n",
    "    \n",
    "    haser = hashlib.sha256() # There could be an algorithm selection here\n",
    "    haser.update(password.encode('utf-8') + b'\\00' + bytes.fromhex(salt))\n",
    "    calculated_hash = haser.hexdigest()\n",
    "    \n",
    "    return calculated_hash == hash\n",
    "\n",
    "verify_salt_password('password123', hash_salt_password('password123'))"
   ]
  }
 ],
 "metadata": {
  "kernelspec": {
   "display_name": ".venv",
   "language": "python",
   "name": "python3"
  },
  "language_info": {
   "codemirror_mode": {
    "name": "ipython",
    "version": 3
   },
   "file_extension": ".py",
   "mimetype": "text/x-python",
   "name": "python",
   "nbconvert_exporter": "python",
   "pygments_lexer": "ipython3",
   "version": "3.13.1"
  }
 },
 "nbformat": 4,
 "nbformat_minor": 2
}
